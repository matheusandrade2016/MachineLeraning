{
 "cells": [
  {
   "cell_type": "code",
   "execution_count": 1,
   "id": "9840ad53",
   "metadata": {
    "_execution_state": "idle",
    "_uuid": "051d70d956493feee0c6d64651c6a088724dca2a",
    "execution": {
     "iopub.execute_input": "2023-08-24T12:33:15.664357Z",
     "iopub.status.busy": "2023-08-24T12:33:15.662099Z",
     "iopub.status.idle": "2023-08-24T12:33:15.865861Z",
     "shell.execute_reply": "2023-08-24T12:33:15.863636Z"
    },
    "papermill": {
     "duration": 0.231022,
     "end_time": "2023-08-24T12:33:15.869499",
     "exception": false,
     "start_time": "2023-08-24T12:33:15.638477",
     "status": "completed"
    },
    "tags": []
   },
   "outputs": [],
   "source": [
    "# Carregando Nosso dados\n",
    "dados = read.csv(file = \"../input/breast-cancer-wisconsin-data/data.csv\")"
   ]
  },
  {
   "cell_type": "code",
   "execution_count": 2,
   "id": "1b67792e",
   "metadata": {
    "execution": {
     "iopub.execute_input": "2023-08-24T12:33:15.946953Z",
     "iopub.status.busy": "2023-08-24T12:33:15.905026Z",
     "iopub.status.idle": "2023-08-24T12:33:16.009506Z",
     "shell.execute_reply": "2023-08-24T12:33:16.006357Z"
    },
    "papermill": {
     "duration": 0.126547,
     "end_time": "2023-08-24T12:33:16.012801",
     "exception": false,
     "start_time": "2023-08-24T12:33:15.886254",
     "status": "completed"
    },
    "tags": []
   },
   "outputs": [
    {
     "data": {
      "text/html": [
       "<table class=\"dataframe\">\n",
       "<caption>A data.frame: 6 × 33</caption>\n",
       "<thead>\n",
       "\t<tr><th></th><th scope=col>id</th><th scope=col>diagnosis</th><th scope=col>radius_mean</th><th scope=col>texture_mean</th><th scope=col>perimeter_mean</th><th scope=col>area_mean</th><th scope=col>smoothness_mean</th><th scope=col>compactness_mean</th><th scope=col>concavity_mean</th><th scope=col>concave.points_mean</th><th scope=col>⋯</th><th scope=col>texture_worst</th><th scope=col>perimeter_worst</th><th scope=col>area_worst</th><th scope=col>smoothness_worst</th><th scope=col>compactness_worst</th><th scope=col>concavity_worst</th><th scope=col>concave.points_worst</th><th scope=col>symmetry_worst</th><th scope=col>fractal_dimension_worst</th><th scope=col>X</th></tr>\n",
       "\t<tr><th></th><th scope=col>&lt;int&gt;</th><th scope=col>&lt;chr&gt;</th><th scope=col>&lt;dbl&gt;</th><th scope=col>&lt;dbl&gt;</th><th scope=col>&lt;dbl&gt;</th><th scope=col>&lt;dbl&gt;</th><th scope=col>&lt;dbl&gt;</th><th scope=col>&lt;dbl&gt;</th><th scope=col>&lt;dbl&gt;</th><th scope=col>&lt;dbl&gt;</th><th scope=col>⋯</th><th scope=col>&lt;dbl&gt;</th><th scope=col>&lt;dbl&gt;</th><th scope=col>&lt;dbl&gt;</th><th scope=col>&lt;dbl&gt;</th><th scope=col>&lt;dbl&gt;</th><th scope=col>&lt;dbl&gt;</th><th scope=col>&lt;dbl&gt;</th><th scope=col>&lt;dbl&gt;</th><th scope=col>&lt;dbl&gt;</th><th scope=col>&lt;lgl&gt;</th></tr>\n",
       "</thead>\n",
       "<tbody>\n",
       "\t<tr><th scope=row>1</th><td>  842302</td><td>M</td><td>17.99</td><td>10.38</td><td>122.80</td><td>1001.0</td><td>0.11840</td><td>0.27760</td><td>0.3001</td><td>0.14710</td><td>⋯</td><td>17.33</td><td>184.60</td><td>2019.0</td><td>0.1622</td><td>0.6656</td><td>0.7119</td><td>0.2654</td><td>0.4601</td><td>0.11890</td><td>NA</td></tr>\n",
       "\t<tr><th scope=row>2</th><td>  842517</td><td>M</td><td>20.57</td><td>17.77</td><td>132.90</td><td>1326.0</td><td>0.08474</td><td>0.07864</td><td>0.0869</td><td>0.07017</td><td>⋯</td><td>23.41</td><td>158.80</td><td>1956.0</td><td>0.1238</td><td>0.1866</td><td>0.2416</td><td>0.1860</td><td>0.2750</td><td>0.08902</td><td>NA</td></tr>\n",
       "\t<tr><th scope=row>3</th><td>84300903</td><td>M</td><td>19.69</td><td>21.25</td><td>130.00</td><td>1203.0</td><td>0.10960</td><td>0.15990</td><td>0.1974</td><td>0.12790</td><td>⋯</td><td>25.53</td><td>152.50</td><td>1709.0</td><td>0.1444</td><td>0.4245</td><td>0.4504</td><td>0.2430</td><td>0.3613</td><td>0.08758</td><td>NA</td></tr>\n",
       "\t<tr><th scope=row>4</th><td>84348301</td><td>M</td><td>11.42</td><td>20.38</td><td> 77.58</td><td> 386.1</td><td>0.14250</td><td>0.28390</td><td>0.2414</td><td>0.10520</td><td>⋯</td><td>26.50</td><td> 98.87</td><td> 567.7</td><td>0.2098</td><td>0.8663</td><td>0.6869</td><td>0.2575</td><td>0.6638</td><td>0.17300</td><td>NA</td></tr>\n",
       "\t<tr><th scope=row>5</th><td>84358402</td><td>M</td><td>20.29</td><td>14.34</td><td>135.10</td><td>1297.0</td><td>0.10030</td><td>0.13280</td><td>0.1980</td><td>0.10430</td><td>⋯</td><td>16.67</td><td>152.20</td><td>1575.0</td><td>0.1374</td><td>0.2050</td><td>0.4000</td><td>0.1625</td><td>0.2364</td><td>0.07678</td><td>NA</td></tr>\n",
       "\t<tr><th scope=row>6</th><td>  843786</td><td>M</td><td>12.45</td><td>15.70</td><td> 82.57</td><td> 477.1</td><td>0.12780</td><td>0.17000</td><td>0.1578</td><td>0.08089</td><td>⋯</td><td>23.75</td><td>103.40</td><td> 741.6</td><td>0.1791</td><td>0.5249</td><td>0.5355</td><td>0.1741</td><td>0.3985</td><td>0.12440</td><td>NA</td></tr>\n",
       "</tbody>\n",
       "</table>\n"
      ],
      "text/latex": [
       "A data.frame: 6 × 33\n",
       "\\begin{tabular}{r|lllllllllllllllllllll}\n",
       "  & id & diagnosis & radius\\_mean & texture\\_mean & perimeter\\_mean & area\\_mean & smoothness\\_mean & compactness\\_mean & concavity\\_mean & concave.points\\_mean & ⋯ & texture\\_worst & perimeter\\_worst & area\\_worst & smoothness\\_worst & compactness\\_worst & concavity\\_worst & concave.points\\_worst & symmetry\\_worst & fractal\\_dimension\\_worst & X\\\\\n",
       "  & <int> & <chr> & <dbl> & <dbl> & <dbl> & <dbl> & <dbl> & <dbl> & <dbl> & <dbl> & ⋯ & <dbl> & <dbl> & <dbl> & <dbl> & <dbl> & <dbl> & <dbl> & <dbl> & <dbl> & <lgl>\\\\\n",
       "\\hline\n",
       "\t1 &   842302 & M & 17.99 & 10.38 & 122.80 & 1001.0 & 0.11840 & 0.27760 & 0.3001 & 0.14710 & ⋯ & 17.33 & 184.60 & 2019.0 & 0.1622 & 0.6656 & 0.7119 & 0.2654 & 0.4601 & 0.11890 & NA\\\\\n",
       "\t2 &   842517 & M & 20.57 & 17.77 & 132.90 & 1326.0 & 0.08474 & 0.07864 & 0.0869 & 0.07017 & ⋯ & 23.41 & 158.80 & 1956.0 & 0.1238 & 0.1866 & 0.2416 & 0.1860 & 0.2750 & 0.08902 & NA\\\\\n",
       "\t3 & 84300903 & M & 19.69 & 21.25 & 130.00 & 1203.0 & 0.10960 & 0.15990 & 0.1974 & 0.12790 & ⋯ & 25.53 & 152.50 & 1709.0 & 0.1444 & 0.4245 & 0.4504 & 0.2430 & 0.3613 & 0.08758 & NA\\\\\n",
       "\t4 & 84348301 & M & 11.42 & 20.38 &  77.58 &  386.1 & 0.14250 & 0.28390 & 0.2414 & 0.10520 & ⋯ & 26.50 &  98.87 &  567.7 & 0.2098 & 0.8663 & 0.6869 & 0.2575 & 0.6638 & 0.17300 & NA\\\\\n",
       "\t5 & 84358402 & M & 20.29 & 14.34 & 135.10 & 1297.0 & 0.10030 & 0.13280 & 0.1980 & 0.10430 & ⋯ & 16.67 & 152.20 & 1575.0 & 0.1374 & 0.2050 & 0.4000 & 0.1625 & 0.2364 & 0.07678 & NA\\\\\n",
       "\t6 &   843786 & M & 12.45 & 15.70 &  82.57 &  477.1 & 0.12780 & 0.17000 & 0.1578 & 0.08089 & ⋯ & 23.75 & 103.40 &  741.6 & 0.1791 & 0.5249 & 0.5355 & 0.1741 & 0.3985 & 0.12440 & NA\\\\\n",
       "\\end{tabular}\n"
      ],
      "text/markdown": [
       "\n",
       "A data.frame: 6 × 33\n",
       "\n",
       "| <!--/--> | id &lt;int&gt; | diagnosis &lt;chr&gt; | radius_mean &lt;dbl&gt; | texture_mean &lt;dbl&gt; | perimeter_mean &lt;dbl&gt; | area_mean &lt;dbl&gt; | smoothness_mean &lt;dbl&gt; | compactness_mean &lt;dbl&gt; | concavity_mean &lt;dbl&gt; | concave.points_mean &lt;dbl&gt; | ⋯ ⋯ | texture_worst &lt;dbl&gt; | perimeter_worst &lt;dbl&gt; | area_worst &lt;dbl&gt; | smoothness_worst &lt;dbl&gt; | compactness_worst &lt;dbl&gt; | concavity_worst &lt;dbl&gt; | concave.points_worst &lt;dbl&gt; | symmetry_worst &lt;dbl&gt; | fractal_dimension_worst &lt;dbl&gt; | X &lt;lgl&gt; |\n",
       "|---|---|---|---|---|---|---|---|---|---|---|---|---|---|---|---|---|---|---|---|---|---|\n",
       "| 1 |   842302 | M | 17.99 | 10.38 | 122.80 | 1001.0 | 0.11840 | 0.27760 | 0.3001 | 0.14710 | ⋯ | 17.33 | 184.60 | 2019.0 | 0.1622 | 0.6656 | 0.7119 | 0.2654 | 0.4601 | 0.11890 | NA |\n",
       "| 2 |   842517 | M | 20.57 | 17.77 | 132.90 | 1326.0 | 0.08474 | 0.07864 | 0.0869 | 0.07017 | ⋯ | 23.41 | 158.80 | 1956.0 | 0.1238 | 0.1866 | 0.2416 | 0.1860 | 0.2750 | 0.08902 | NA |\n",
       "| 3 | 84300903 | M | 19.69 | 21.25 | 130.00 | 1203.0 | 0.10960 | 0.15990 | 0.1974 | 0.12790 | ⋯ | 25.53 | 152.50 | 1709.0 | 0.1444 | 0.4245 | 0.4504 | 0.2430 | 0.3613 | 0.08758 | NA |\n",
       "| 4 | 84348301 | M | 11.42 | 20.38 |  77.58 |  386.1 | 0.14250 | 0.28390 | 0.2414 | 0.10520 | ⋯ | 26.50 |  98.87 |  567.7 | 0.2098 | 0.8663 | 0.6869 | 0.2575 | 0.6638 | 0.17300 | NA |\n",
       "| 5 | 84358402 | M | 20.29 | 14.34 | 135.10 | 1297.0 | 0.10030 | 0.13280 | 0.1980 | 0.10430 | ⋯ | 16.67 | 152.20 | 1575.0 | 0.1374 | 0.2050 | 0.4000 | 0.1625 | 0.2364 | 0.07678 | NA |\n",
       "| 6 |   843786 | M | 12.45 | 15.70 |  82.57 |  477.1 | 0.12780 | 0.17000 | 0.1578 | 0.08089 | ⋯ | 23.75 | 103.40 |  741.6 | 0.1791 | 0.5249 | 0.5355 | 0.1741 | 0.3985 | 0.12440 | NA |\n",
       "\n"
      ],
      "text/plain": [
       "  id       diagnosis radius_mean texture_mean perimeter_mean area_mean\n",
       "1   842302 M         17.99       10.38        122.80         1001.0   \n",
       "2   842517 M         20.57       17.77        132.90         1326.0   \n",
       "3 84300903 M         19.69       21.25        130.00         1203.0   \n",
       "4 84348301 M         11.42       20.38         77.58          386.1   \n",
       "5 84358402 M         20.29       14.34        135.10         1297.0   \n",
       "6   843786 M         12.45       15.70         82.57          477.1   \n",
       "  smoothness_mean compactness_mean concavity_mean concave.points_mean ⋯\n",
       "1 0.11840         0.27760          0.3001         0.14710             ⋯\n",
       "2 0.08474         0.07864          0.0869         0.07017             ⋯\n",
       "3 0.10960         0.15990          0.1974         0.12790             ⋯\n",
       "4 0.14250         0.28390          0.2414         0.10520             ⋯\n",
       "5 0.10030         0.13280          0.1980         0.10430             ⋯\n",
       "6 0.12780         0.17000          0.1578         0.08089             ⋯\n",
       "  texture_worst perimeter_worst area_worst smoothness_worst compactness_worst\n",
       "1 17.33         184.60          2019.0     0.1622           0.6656           \n",
       "2 23.41         158.80          1956.0     0.1238           0.1866           \n",
       "3 25.53         152.50          1709.0     0.1444           0.4245           \n",
       "4 26.50          98.87           567.7     0.2098           0.8663           \n",
       "5 16.67         152.20          1575.0     0.1374           0.2050           \n",
       "6 23.75         103.40           741.6     0.1791           0.5249           \n",
       "  concavity_worst concave.points_worst symmetry_worst fractal_dimension_worst\n",
       "1 0.7119          0.2654               0.4601         0.11890                \n",
       "2 0.2416          0.1860               0.2750         0.08902                \n",
       "3 0.4504          0.2430               0.3613         0.08758                \n",
       "4 0.6869          0.2575               0.6638         0.17300                \n",
       "5 0.4000          0.1625               0.2364         0.07678                \n",
       "6 0.5355          0.1741               0.3985         0.12440                \n",
       "  X \n",
       "1 NA\n",
       "2 NA\n",
       "3 NA\n",
       "4 NA\n",
       "5 NA\n",
       "6 NA"
      ]
     },
     "metadata": {},
     "output_type": "display_data"
    }
   ],
   "source": [
    "# Verifciando meus dados \n",
    "head(dados)"
   ]
  },
  {
   "cell_type": "code",
   "execution_count": 3,
   "id": "60f2b086",
   "metadata": {
    "execution": {
     "iopub.execute_input": "2023-08-24T12:33:16.050813Z",
     "iopub.status.busy": "2023-08-24T12:33:16.048996Z",
     "iopub.status.idle": "2023-08-24T12:33:16.075191Z",
     "shell.execute_reply": "2023-08-24T12:33:16.072798Z"
    },
    "papermill": {
     "duration": 0.049128,
     "end_time": "2023-08-24T12:33:16.078924",
     "exception": false,
     "start_time": "2023-08-24T12:33:16.029796",
     "status": "completed"
    },
    "tags": []
   },
   "outputs": [],
   "source": [
    "# Eliminando nossa coluna ID e X em noso dataset\n",
    "dados$id = NULL\n",
    "dados$X = NULL"
   ]
  },
  {
   "cell_type": "code",
   "execution_count": 4,
   "id": "81f2e037",
   "metadata": {
    "execution": {
     "iopub.execute_input": "2023-08-24T12:33:16.118584Z",
     "iopub.status.busy": "2023-08-24T12:33:16.116792Z",
     "iopub.status.idle": "2023-08-24T12:33:16.176931Z",
     "shell.execute_reply": "2023-08-24T12:33:16.174823Z"
    },
    "papermill": {
     "duration": 0.083006,
     "end_time": "2023-08-24T12:33:16.179862",
     "exception": false,
     "start_time": "2023-08-24T12:33:16.096856",
     "status": "completed"
    },
    "tags": []
   },
   "outputs": [
    {
     "data": {
      "text/html": [
       "<table class=\"dataframe\">\n",
       "<caption>A data.frame: 6 × 31</caption>\n",
       "<thead>\n",
       "\t<tr><th></th><th scope=col>diagnosis</th><th scope=col>radius_mean</th><th scope=col>texture_mean</th><th scope=col>perimeter_mean</th><th scope=col>area_mean</th><th scope=col>smoothness_mean</th><th scope=col>compactness_mean</th><th scope=col>concavity_mean</th><th scope=col>concave.points_mean</th><th scope=col>symmetry_mean</th><th scope=col>⋯</th><th scope=col>radius_worst</th><th scope=col>texture_worst</th><th scope=col>perimeter_worst</th><th scope=col>area_worst</th><th scope=col>smoothness_worst</th><th scope=col>compactness_worst</th><th scope=col>concavity_worst</th><th scope=col>concave.points_worst</th><th scope=col>symmetry_worst</th><th scope=col>fractal_dimension_worst</th></tr>\n",
       "\t<tr><th></th><th scope=col>&lt;chr&gt;</th><th scope=col>&lt;dbl&gt;</th><th scope=col>&lt;dbl&gt;</th><th scope=col>&lt;dbl&gt;</th><th scope=col>&lt;dbl&gt;</th><th scope=col>&lt;dbl&gt;</th><th scope=col>&lt;dbl&gt;</th><th scope=col>&lt;dbl&gt;</th><th scope=col>&lt;dbl&gt;</th><th scope=col>&lt;dbl&gt;</th><th scope=col>⋯</th><th scope=col>&lt;dbl&gt;</th><th scope=col>&lt;dbl&gt;</th><th scope=col>&lt;dbl&gt;</th><th scope=col>&lt;dbl&gt;</th><th scope=col>&lt;dbl&gt;</th><th scope=col>&lt;dbl&gt;</th><th scope=col>&lt;dbl&gt;</th><th scope=col>&lt;dbl&gt;</th><th scope=col>&lt;dbl&gt;</th><th scope=col>&lt;dbl&gt;</th></tr>\n",
       "</thead>\n",
       "<tbody>\n",
       "\t<tr><th scope=row>1</th><td>M</td><td>17.99</td><td>10.38</td><td>122.80</td><td>1001.0</td><td>0.11840</td><td>0.27760</td><td>0.3001</td><td>0.14710</td><td>0.2419</td><td>⋯</td><td>25.38</td><td>17.33</td><td>184.60</td><td>2019.0</td><td>0.1622</td><td>0.6656</td><td>0.7119</td><td>0.2654</td><td>0.4601</td><td>0.11890</td></tr>\n",
       "\t<tr><th scope=row>2</th><td>M</td><td>20.57</td><td>17.77</td><td>132.90</td><td>1326.0</td><td>0.08474</td><td>0.07864</td><td>0.0869</td><td>0.07017</td><td>0.1812</td><td>⋯</td><td>24.99</td><td>23.41</td><td>158.80</td><td>1956.0</td><td>0.1238</td><td>0.1866</td><td>0.2416</td><td>0.1860</td><td>0.2750</td><td>0.08902</td></tr>\n",
       "\t<tr><th scope=row>3</th><td>M</td><td>19.69</td><td>21.25</td><td>130.00</td><td>1203.0</td><td>0.10960</td><td>0.15990</td><td>0.1974</td><td>0.12790</td><td>0.2069</td><td>⋯</td><td>23.57</td><td>25.53</td><td>152.50</td><td>1709.0</td><td>0.1444</td><td>0.4245</td><td>0.4504</td><td>0.2430</td><td>0.3613</td><td>0.08758</td></tr>\n",
       "\t<tr><th scope=row>4</th><td>M</td><td>11.42</td><td>20.38</td><td> 77.58</td><td> 386.1</td><td>0.14250</td><td>0.28390</td><td>0.2414</td><td>0.10520</td><td>0.2597</td><td>⋯</td><td>14.91</td><td>26.50</td><td> 98.87</td><td> 567.7</td><td>0.2098</td><td>0.8663</td><td>0.6869</td><td>0.2575</td><td>0.6638</td><td>0.17300</td></tr>\n",
       "\t<tr><th scope=row>5</th><td>M</td><td>20.29</td><td>14.34</td><td>135.10</td><td>1297.0</td><td>0.10030</td><td>0.13280</td><td>0.1980</td><td>0.10430</td><td>0.1809</td><td>⋯</td><td>22.54</td><td>16.67</td><td>152.20</td><td>1575.0</td><td>0.1374</td><td>0.2050</td><td>0.4000</td><td>0.1625</td><td>0.2364</td><td>0.07678</td></tr>\n",
       "\t<tr><th scope=row>6</th><td>M</td><td>12.45</td><td>15.70</td><td> 82.57</td><td> 477.1</td><td>0.12780</td><td>0.17000</td><td>0.1578</td><td>0.08089</td><td>0.2087</td><td>⋯</td><td>15.47</td><td>23.75</td><td>103.40</td><td> 741.6</td><td>0.1791</td><td>0.5249</td><td>0.5355</td><td>0.1741</td><td>0.3985</td><td>0.12440</td></tr>\n",
       "</tbody>\n",
       "</table>\n"
      ],
      "text/latex": [
       "A data.frame: 6 × 31\n",
       "\\begin{tabular}{r|lllllllllllllllllllll}\n",
       "  & diagnosis & radius\\_mean & texture\\_mean & perimeter\\_mean & area\\_mean & smoothness\\_mean & compactness\\_mean & concavity\\_mean & concave.points\\_mean & symmetry\\_mean & ⋯ & radius\\_worst & texture\\_worst & perimeter\\_worst & area\\_worst & smoothness\\_worst & compactness\\_worst & concavity\\_worst & concave.points\\_worst & symmetry\\_worst & fractal\\_dimension\\_worst\\\\\n",
       "  & <chr> & <dbl> & <dbl> & <dbl> & <dbl> & <dbl> & <dbl> & <dbl> & <dbl> & <dbl> & ⋯ & <dbl> & <dbl> & <dbl> & <dbl> & <dbl> & <dbl> & <dbl> & <dbl> & <dbl> & <dbl>\\\\\n",
       "\\hline\n",
       "\t1 & M & 17.99 & 10.38 & 122.80 & 1001.0 & 0.11840 & 0.27760 & 0.3001 & 0.14710 & 0.2419 & ⋯ & 25.38 & 17.33 & 184.60 & 2019.0 & 0.1622 & 0.6656 & 0.7119 & 0.2654 & 0.4601 & 0.11890\\\\\n",
       "\t2 & M & 20.57 & 17.77 & 132.90 & 1326.0 & 0.08474 & 0.07864 & 0.0869 & 0.07017 & 0.1812 & ⋯ & 24.99 & 23.41 & 158.80 & 1956.0 & 0.1238 & 0.1866 & 0.2416 & 0.1860 & 0.2750 & 0.08902\\\\\n",
       "\t3 & M & 19.69 & 21.25 & 130.00 & 1203.0 & 0.10960 & 0.15990 & 0.1974 & 0.12790 & 0.2069 & ⋯ & 23.57 & 25.53 & 152.50 & 1709.0 & 0.1444 & 0.4245 & 0.4504 & 0.2430 & 0.3613 & 0.08758\\\\\n",
       "\t4 & M & 11.42 & 20.38 &  77.58 &  386.1 & 0.14250 & 0.28390 & 0.2414 & 0.10520 & 0.2597 & ⋯ & 14.91 & 26.50 &  98.87 &  567.7 & 0.2098 & 0.8663 & 0.6869 & 0.2575 & 0.6638 & 0.17300\\\\\n",
       "\t5 & M & 20.29 & 14.34 & 135.10 & 1297.0 & 0.10030 & 0.13280 & 0.1980 & 0.10430 & 0.1809 & ⋯ & 22.54 & 16.67 & 152.20 & 1575.0 & 0.1374 & 0.2050 & 0.4000 & 0.1625 & 0.2364 & 0.07678\\\\\n",
       "\t6 & M & 12.45 & 15.70 &  82.57 &  477.1 & 0.12780 & 0.17000 & 0.1578 & 0.08089 & 0.2087 & ⋯ & 15.47 & 23.75 & 103.40 &  741.6 & 0.1791 & 0.5249 & 0.5355 & 0.1741 & 0.3985 & 0.12440\\\\\n",
       "\\end{tabular}\n"
      ],
      "text/markdown": [
       "\n",
       "A data.frame: 6 × 31\n",
       "\n",
       "| <!--/--> | diagnosis &lt;chr&gt; | radius_mean &lt;dbl&gt; | texture_mean &lt;dbl&gt; | perimeter_mean &lt;dbl&gt; | area_mean &lt;dbl&gt; | smoothness_mean &lt;dbl&gt; | compactness_mean &lt;dbl&gt; | concavity_mean &lt;dbl&gt; | concave.points_mean &lt;dbl&gt; | symmetry_mean &lt;dbl&gt; | ⋯ ⋯ | radius_worst &lt;dbl&gt; | texture_worst &lt;dbl&gt; | perimeter_worst &lt;dbl&gt; | area_worst &lt;dbl&gt; | smoothness_worst &lt;dbl&gt; | compactness_worst &lt;dbl&gt; | concavity_worst &lt;dbl&gt; | concave.points_worst &lt;dbl&gt; | symmetry_worst &lt;dbl&gt; | fractal_dimension_worst &lt;dbl&gt; |\n",
       "|---|---|---|---|---|---|---|---|---|---|---|---|---|---|---|---|---|---|---|---|---|---|\n",
       "| 1 | M | 17.99 | 10.38 | 122.80 | 1001.0 | 0.11840 | 0.27760 | 0.3001 | 0.14710 | 0.2419 | ⋯ | 25.38 | 17.33 | 184.60 | 2019.0 | 0.1622 | 0.6656 | 0.7119 | 0.2654 | 0.4601 | 0.11890 |\n",
       "| 2 | M | 20.57 | 17.77 | 132.90 | 1326.0 | 0.08474 | 0.07864 | 0.0869 | 0.07017 | 0.1812 | ⋯ | 24.99 | 23.41 | 158.80 | 1956.0 | 0.1238 | 0.1866 | 0.2416 | 0.1860 | 0.2750 | 0.08902 |\n",
       "| 3 | M | 19.69 | 21.25 | 130.00 | 1203.0 | 0.10960 | 0.15990 | 0.1974 | 0.12790 | 0.2069 | ⋯ | 23.57 | 25.53 | 152.50 | 1709.0 | 0.1444 | 0.4245 | 0.4504 | 0.2430 | 0.3613 | 0.08758 |\n",
       "| 4 | M | 11.42 | 20.38 |  77.58 |  386.1 | 0.14250 | 0.28390 | 0.2414 | 0.10520 | 0.2597 | ⋯ | 14.91 | 26.50 |  98.87 |  567.7 | 0.2098 | 0.8663 | 0.6869 | 0.2575 | 0.6638 | 0.17300 |\n",
       "| 5 | M | 20.29 | 14.34 | 135.10 | 1297.0 | 0.10030 | 0.13280 | 0.1980 | 0.10430 | 0.1809 | ⋯ | 22.54 | 16.67 | 152.20 | 1575.0 | 0.1374 | 0.2050 | 0.4000 | 0.1625 | 0.2364 | 0.07678 |\n",
       "| 6 | M | 12.45 | 15.70 |  82.57 |  477.1 | 0.12780 | 0.17000 | 0.1578 | 0.08089 | 0.2087 | ⋯ | 15.47 | 23.75 | 103.40 |  741.6 | 0.1791 | 0.5249 | 0.5355 | 0.1741 | 0.3985 | 0.12440 |\n",
       "\n"
      ],
      "text/plain": [
       "  diagnosis radius_mean texture_mean perimeter_mean area_mean smoothness_mean\n",
       "1 M         17.99       10.38        122.80         1001.0    0.11840        \n",
       "2 M         20.57       17.77        132.90         1326.0    0.08474        \n",
       "3 M         19.69       21.25        130.00         1203.0    0.10960        \n",
       "4 M         11.42       20.38         77.58          386.1    0.14250        \n",
       "5 M         20.29       14.34        135.10         1297.0    0.10030        \n",
       "6 M         12.45       15.70         82.57          477.1    0.12780        \n",
       "  compactness_mean concavity_mean concave.points_mean symmetry_mean ⋯\n",
       "1 0.27760          0.3001         0.14710             0.2419        ⋯\n",
       "2 0.07864          0.0869         0.07017             0.1812        ⋯\n",
       "3 0.15990          0.1974         0.12790             0.2069        ⋯\n",
       "4 0.28390          0.2414         0.10520             0.2597        ⋯\n",
       "5 0.13280          0.1980         0.10430             0.1809        ⋯\n",
       "6 0.17000          0.1578         0.08089             0.2087        ⋯\n",
       "  radius_worst texture_worst perimeter_worst area_worst smoothness_worst\n",
       "1 25.38        17.33         184.60          2019.0     0.1622          \n",
       "2 24.99        23.41         158.80          1956.0     0.1238          \n",
       "3 23.57        25.53         152.50          1709.0     0.1444          \n",
       "4 14.91        26.50          98.87           567.7     0.2098          \n",
       "5 22.54        16.67         152.20          1575.0     0.1374          \n",
       "6 15.47        23.75         103.40           741.6     0.1791          \n",
       "  compactness_worst concavity_worst concave.points_worst symmetry_worst\n",
       "1 0.6656            0.7119          0.2654               0.4601        \n",
       "2 0.1866            0.2416          0.1860               0.2750        \n",
       "3 0.4245            0.4504          0.2430               0.3613        \n",
       "4 0.8663            0.6869          0.2575               0.6638        \n",
       "5 0.2050            0.4000          0.1625               0.2364        \n",
       "6 0.5249            0.5355          0.1741               0.3985        \n",
       "  fractal_dimension_worst\n",
       "1 0.11890                \n",
       "2 0.08902                \n",
       "3 0.08758                \n",
       "4 0.17300                \n",
       "5 0.07678                \n",
       "6 0.12440                "
      ]
     },
     "metadata": {},
     "output_type": "display_data"
    }
   ],
   "source": [
    "# Verifciando meus dados novamente\n",
    "head(dados)"
   ]
  },
  {
   "cell_type": "code",
   "execution_count": 5,
   "id": "590fef71",
   "metadata": {
    "execution": {
     "iopub.execute_input": "2023-08-24T12:33:16.219715Z",
     "iopub.status.busy": "2023-08-24T12:33:16.217835Z",
     "iopub.status.idle": "2023-08-24T12:33:16.269055Z",
     "shell.execute_reply": "2023-08-24T12:33:16.266198Z"
    },
    "papermill": {
     "duration": 0.074363,
     "end_time": "2023-08-24T12:33:16.272019",
     "exception": false,
     "start_time": "2023-08-24T12:33:16.197656",
     "status": "completed"
    },
    "tags": []
   },
   "outputs": [
    {
     "name": "stdout",
     "output_type": "stream",
     "text": [
      "'data.frame':\t569 obs. of  31 variables:\n",
      " $ diagnosis              : chr  \"M\" \"M\" \"M\" \"M\" ...\n",
      " $ radius_mean            : num  18 20.6 19.7 11.4 20.3 ...\n",
      " $ texture_mean           : num  10.4 17.8 21.2 20.4 14.3 ...\n",
      " $ perimeter_mean         : num  122.8 132.9 130 77.6 135.1 ...\n",
      " $ area_mean              : num  1001 1326 1203 386 1297 ...\n",
      " $ smoothness_mean        : num  0.1184 0.0847 0.1096 0.1425 0.1003 ...\n",
      " $ compactness_mean       : num  0.2776 0.0786 0.1599 0.2839 0.1328 ...\n",
      " $ concavity_mean         : num  0.3001 0.0869 0.1974 0.2414 0.198 ...\n",
      " $ concave.points_mean    : num  0.1471 0.0702 0.1279 0.1052 0.1043 ...\n",
      " $ symmetry_mean          : num  0.242 0.181 0.207 0.26 0.181 ...\n",
      " $ fractal_dimension_mean : num  0.0787 0.0567 0.06 0.0974 0.0588 ...\n",
      " $ radius_se              : num  1.095 0.543 0.746 0.496 0.757 ...\n",
      " $ texture_se             : num  0.905 0.734 0.787 1.156 0.781 ...\n",
      " $ perimeter_se           : num  8.59 3.4 4.58 3.44 5.44 ...\n",
      " $ area_se                : num  153.4 74.1 94 27.2 94.4 ...\n",
      " $ smoothness_se          : num  0.0064 0.00522 0.00615 0.00911 0.01149 ...\n",
      " $ compactness_se         : num  0.049 0.0131 0.0401 0.0746 0.0246 ...\n",
      " $ concavity_se           : num  0.0537 0.0186 0.0383 0.0566 0.0569 ...\n",
      " $ concave.points_se      : num  0.0159 0.0134 0.0206 0.0187 0.0188 ...\n",
      " $ symmetry_se            : num  0.03 0.0139 0.0225 0.0596 0.0176 ...\n",
      " $ fractal_dimension_se   : num  0.00619 0.00353 0.00457 0.00921 0.00511 ...\n",
      " $ radius_worst           : num  25.4 25 23.6 14.9 22.5 ...\n",
      " $ texture_worst          : num  17.3 23.4 25.5 26.5 16.7 ...\n",
      " $ perimeter_worst        : num  184.6 158.8 152.5 98.9 152.2 ...\n",
      " $ area_worst             : num  2019 1956 1709 568 1575 ...\n",
      " $ smoothness_worst       : num  0.162 0.124 0.144 0.21 0.137 ...\n",
      " $ compactness_worst      : num  0.666 0.187 0.424 0.866 0.205 ...\n",
      " $ concavity_worst        : num  0.712 0.242 0.45 0.687 0.4 ...\n",
      " $ concave.points_worst   : num  0.265 0.186 0.243 0.258 0.163 ...\n",
      " $ symmetry_worst         : num  0.46 0.275 0.361 0.664 0.236 ...\n",
      " $ fractal_dimension_worst: num  0.1189 0.089 0.0876 0.173 0.0768 ...\n"
     ]
    }
   ],
   "source": [
    "# Verificando o formanto de nossos dados\n",
    "str(dados)"
   ]
  },
  {
   "cell_type": "code",
   "execution_count": 6,
   "id": "b2e9f023",
   "metadata": {
    "execution": {
     "iopub.execute_input": "2023-08-24T12:33:16.363415Z",
     "iopub.status.busy": "2023-08-24T12:33:16.361277Z",
     "iopub.status.idle": "2023-08-24T12:33:16.383924Z",
     "shell.execute_reply": "2023-08-24T12:33:16.381647Z"
    },
    "papermill": {
     "duration": 0.096038,
     "end_time": "2023-08-24T12:33:16.387069",
     "exception": false,
     "start_time": "2023-08-24T12:33:16.291031",
     "status": "completed"
    },
    "tags": []
   },
   "outputs": [
    {
     "data": {
      "text/plain": [
       "\n",
       "  B   M \n",
       "357 212 "
      ]
     },
     "metadata": {},
     "output_type": "display_data"
    }
   ],
   "source": [
    "# Verificando a contage de nossa variavel alvo\n",
    "table(dados$diagnosis)"
   ]
  },
  {
   "cell_type": "code",
   "execution_count": 7,
   "id": "29e9632a",
   "metadata": {
    "execution": {
     "iopub.execute_input": "2023-08-24T12:33:16.429345Z",
     "iopub.status.busy": "2023-08-24T12:33:16.427367Z",
     "iopub.status.idle": "2023-08-24T12:33:16.445826Z",
     "shell.execute_reply": "2023-08-24T12:33:16.443620Z"
    },
    "papermill": {
     "duration": 0.043033,
     "end_time": "2023-08-24T12:33:16.448927",
     "exception": false,
     "start_time": "2023-08-24T12:33:16.405894",
     "status": "completed"
    },
    "tags": []
   },
   "outputs": [],
   "source": [
    "# Modificando os nomes de Maligno \"M\" e Benigno \"B\", para uma melhor compreensão\n",
    "dados$diagnosis = ifelse(dados$diagnosis == 'M', 'Maligno', 'Benigno')"
   ]
  },
  {
   "cell_type": "code",
   "execution_count": 8,
   "id": "eefb16f5",
   "metadata": {
    "execution": {
     "iopub.execute_input": "2023-08-24T12:33:16.491331Z",
     "iopub.status.busy": "2023-08-24T12:33:16.489558Z",
     "iopub.status.idle": "2023-08-24T12:33:16.517835Z",
     "shell.execute_reply": "2023-08-24T12:33:16.515480Z"
    },
    "papermill": {
     "duration": 0.052748,
     "end_time": "2023-08-24T12:33:16.521640",
     "exception": false,
     "start_time": "2023-08-24T12:33:16.468892",
     "status": "completed"
    },
    "tags": []
   },
   "outputs": [
    {
     "data": {
      "text/plain": [
       "\n",
       "Benigno Maligno \n",
       "    357     212 "
      ]
     },
     "metadata": {},
     "output_type": "display_data"
    }
   ],
   "source": [
    "# Verifciando meus dados novamente atraves das contagens\n",
    "table(dados$diagnosis)"
   ]
  },
  {
   "cell_type": "code",
   "execution_count": 9,
   "id": "6e29b078",
   "metadata": {
    "execution": {
     "iopub.execute_input": "2023-08-24T12:33:16.562996Z",
     "iopub.status.busy": "2023-08-24T12:33:16.560880Z",
     "iopub.status.idle": "2023-08-24T12:33:16.578902Z",
     "shell.execute_reply": "2023-08-24T12:33:16.576725Z"
    },
    "papermill": {
     "duration": 0.042257,
     "end_time": "2023-08-24T12:33:16.582558",
     "exception": false,
     "start_time": "2023-08-24T12:33:16.540301",
     "status": "completed"
    },
    "tags": []
   },
   "outputs": [],
   "source": [
    "# Transformando nossa variavel \"dianosis\" em uma variavel fator, pois muito algoritmos precisam estar nesse formato\n",
    "dados$diagnosis = factor(dados$diagnosis, levels = c(\"Benigno\", 'Maligno'), labels = c(\"Benigno\", \"Maligno\"))"
   ]
  },
  {
   "cell_type": "code",
   "execution_count": 10,
   "id": "b19a21ba",
   "metadata": {
    "execution": {
     "iopub.execute_input": "2023-08-24T12:33:16.622438Z",
     "iopub.status.busy": "2023-08-24T12:33:16.620422Z",
     "iopub.status.idle": "2023-08-24T12:33:16.674294Z",
     "shell.execute_reply": "2023-08-24T12:33:16.671769Z"
    },
    "papermill": {
     "duration": 0.077398,
     "end_time": "2023-08-24T12:33:16.677620",
     "exception": false,
     "start_time": "2023-08-24T12:33:16.600222",
     "status": "completed"
    },
    "tags": []
   },
   "outputs": [
    {
     "name": "stdout",
     "output_type": "stream",
     "text": [
      "'data.frame':\t569 obs. of  31 variables:\n",
      " $ diagnosis              : Factor w/ 2 levels \"Benigno\",\"Maligno\": 2 2 2 2 2 2 2 2 2 2 ...\n",
      " $ radius_mean            : num  18 20.6 19.7 11.4 20.3 ...\n",
      " $ texture_mean           : num  10.4 17.8 21.2 20.4 14.3 ...\n",
      " $ perimeter_mean         : num  122.8 132.9 130 77.6 135.1 ...\n",
      " $ area_mean              : num  1001 1326 1203 386 1297 ...\n",
      " $ smoothness_mean        : num  0.1184 0.0847 0.1096 0.1425 0.1003 ...\n",
      " $ compactness_mean       : num  0.2776 0.0786 0.1599 0.2839 0.1328 ...\n",
      " $ concavity_mean         : num  0.3001 0.0869 0.1974 0.2414 0.198 ...\n",
      " $ concave.points_mean    : num  0.1471 0.0702 0.1279 0.1052 0.1043 ...\n",
      " $ symmetry_mean          : num  0.242 0.181 0.207 0.26 0.181 ...\n",
      " $ fractal_dimension_mean : num  0.0787 0.0567 0.06 0.0974 0.0588 ...\n",
      " $ radius_se              : num  1.095 0.543 0.746 0.496 0.757 ...\n",
      " $ texture_se             : num  0.905 0.734 0.787 1.156 0.781 ...\n",
      " $ perimeter_se           : num  8.59 3.4 4.58 3.44 5.44 ...\n",
      " $ area_se                : num  153.4 74.1 94 27.2 94.4 ...\n",
      " $ smoothness_se          : num  0.0064 0.00522 0.00615 0.00911 0.01149 ...\n",
      " $ compactness_se         : num  0.049 0.0131 0.0401 0.0746 0.0246 ...\n",
      " $ concavity_se           : num  0.0537 0.0186 0.0383 0.0566 0.0569 ...\n",
      " $ concave.points_se      : num  0.0159 0.0134 0.0206 0.0187 0.0188 ...\n",
      " $ symmetry_se            : num  0.03 0.0139 0.0225 0.0596 0.0176 ...\n",
      " $ fractal_dimension_se   : num  0.00619 0.00353 0.00457 0.00921 0.00511 ...\n",
      " $ radius_worst           : num  25.4 25 23.6 14.9 22.5 ...\n",
      " $ texture_worst          : num  17.3 23.4 25.5 26.5 16.7 ...\n",
      " $ perimeter_worst        : num  184.6 158.8 152.5 98.9 152.2 ...\n",
      " $ area_worst             : num  2019 1956 1709 568 1575 ...\n",
      " $ smoothness_worst       : num  0.162 0.124 0.144 0.21 0.137 ...\n",
      " $ compactness_worst      : num  0.666 0.187 0.424 0.866 0.205 ...\n",
      " $ concavity_worst        : num  0.712 0.242 0.45 0.687 0.4 ...\n",
      " $ concave.points_worst   : num  0.265 0.186 0.243 0.258 0.163 ...\n",
      " $ symmetry_worst         : num  0.46 0.275 0.361 0.664 0.236 ...\n",
      " $ fractal_dimension_worst: num  0.1189 0.089 0.0876 0.173 0.0768 ...\n"
     ]
    }
   ],
   "source": [
    "# Verificando meus dados \n",
    "str(dados)"
   ]
  },
  {
   "cell_type": "code",
   "execution_count": 11,
   "id": "b00631f3",
   "metadata": {
    "execution": {
     "iopub.execute_input": "2023-08-24T12:33:16.717494Z",
     "iopub.status.busy": "2023-08-24T12:33:16.715710Z",
     "iopub.status.idle": "2023-08-24T12:33:16.740705Z",
     "shell.execute_reply": "2023-08-24T12:33:16.738211Z"
    },
    "papermill": {
     "duration": 0.04864,
     "end_time": "2023-08-24T12:33:16.744138",
     "exception": false,
     "start_time": "2023-08-24T12:33:16.695498",
     "status": "completed"
    },
    "tags": []
   },
   "outputs": [
    {
     "data": {
      "text/plain": [
       "  radius_mean       area_mean      smoothness_mean  \n",
       " Min.   : 6.981   Min.   : 143.5   Min.   :0.05263  \n",
       " 1st Qu.:11.700   1st Qu.: 420.3   1st Qu.:0.08637  \n",
       " Median :13.370   Median : 551.1   Median :0.09587  \n",
       " Mean   :14.127   Mean   : 654.9   Mean   :0.09636  \n",
       " 3rd Qu.:15.780   3rd Qu.: 782.7   3rd Qu.:0.10530  \n",
       " Max.   :28.110   Max.   :2501.0   Max.   :0.16340  "
      ]
     },
     "metadata": {},
     "output_type": "display_data"
    }
   ],
   "source": [
    "# Verficando minhas estatisticas de 3 variaveis, para verificarmos sua escala de dados que precisam ser nomalizados\n",
    "\n",
    "# Podemos perceber que a media e o valor maximo, estaão um pouco distante da media\n",
    "\n",
    "summary(dados[c(\"radius_mean\", \"area_mean\", \"smoothness_mean\")])"
   ]
  },
  {
   "cell_type": "code",
   "execution_count": 12,
   "id": "bab4123a",
   "metadata": {
    "execution": {
     "iopub.execute_input": "2023-08-24T12:33:16.785018Z",
     "iopub.status.busy": "2023-08-24T12:33:16.783287Z",
     "iopub.status.idle": "2023-08-24T12:33:16.926638Z",
     "shell.execute_reply": "2023-08-24T12:33:16.924626Z"
    },
    "papermill": {
     "duration": 0.168371,
     "end_time": "2023-08-24T12:33:16.930666",
     "exception": false,
     "start_time": "2023-08-24T12:33:16.762295",
     "status": "completed"
    },
    "tags": []
   },
   "outputs": [],
   "source": [
    "# Criando nossa função de normalização MinMaxScaler para ajustarmos os dados\n",
    "normalizar = function(x){\n",
    "    return ((x - min(x)) / (max(x) - min(x)))\n",
    "}"
   ]
  },
  {
   "cell_type": "code",
   "execution_count": 13,
   "id": "c733164c",
   "metadata": {
    "execution": {
     "iopub.execute_input": "2023-08-24T12:33:16.976543Z",
     "iopub.status.busy": "2023-08-24T12:33:16.974584Z",
     "iopub.status.idle": "2023-08-24T12:33:17.001770Z",
     "shell.execute_reply": "2023-08-24T12:33:16.999723Z"
    },
    "papermill": {
     "duration": 0.054964,
     "end_time": "2023-08-24T12:33:17.005454",
     "exception": false,
     "start_time": "2023-08-24T12:33:16.950490",
     "status": "completed"
    },
    "tags": []
   },
   "outputs": [],
   "source": [
    "# Criando uma nova variavel e normalizando minhas colunas passando para um dataframe\n",
    "dados_norm = as.data.frame(lapply(dados[2:31], normalizar))"
   ]
  },
  {
   "cell_type": "code",
   "execution_count": 14,
   "id": "b074e312",
   "metadata": {
    "execution": {
     "iopub.execute_input": "2023-08-24T12:33:17.047439Z",
     "iopub.status.busy": "2023-08-24T12:33:17.045577Z",
     "iopub.status.idle": "2023-08-24T12:33:17.096988Z",
     "shell.execute_reply": "2023-08-24T12:33:17.094346Z"
    },
    "papermill": {
     "duration": 0.076093,
     "end_time": "2023-08-24T12:33:17.100481",
     "exception": false,
     "start_time": "2023-08-24T12:33:17.024388",
     "status": "completed"
    },
    "tags": []
   },
   "outputs": [
    {
     "data": {
      "text/html": [
       "<table class=\"dataframe\">\n",
       "<caption>A data.frame: 6 × 30</caption>\n",
       "<thead>\n",
       "\t<tr><th></th><th scope=col>radius_mean</th><th scope=col>texture_mean</th><th scope=col>perimeter_mean</th><th scope=col>area_mean</th><th scope=col>smoothness_mean</th><th scope=col>compactness_mean</th><th scope=col>concavity_mean</th><th scope=col>concave.points_mean</th><th scope=col>symmetry_mean</th><th scope=col>fractal_dimension_mean</th><th scope=col>⋯</th><th scope=col>radius_worst</th><th scope=col>texture_worst</th><th scope=col>perimeter_worst</th><th scope=col>area_worst</th><th scope=col>smoothness_worst</th><th scope=col>compactness_worst</th><th scope=col>concavity_worst</th><th scope=col>concave.points_worst</th><th scope=col>symmetry_worst</th><th scope=col>fractal_dimension_worst</th></tr>\n",
       "\t<tr><th></th><th scope=col>&lt;dbl&gt;</th><th scope=col>&lt;dbl&gt;</th><th scope=col>&lt;dbl&gt;</th><th scope=col>&lt;dbl&gt;</th><th scope=col>&lt;dbl&gt;</th><th scope=col>&lt;dbl&gt;</th><th scope=col>&lt;dbl&gt;</th><th scope=col>&lt;dbl&gt;</th><th scope=col>&lt;dbl&gt;</th><th scope=col>&lt;dbl&gt;</th><th scope=col>⋯</th><th scope=col>&lt;dbl&gt;</th><th scope=col>&lt;dbl&gt;</th><th scope=col>&lt;dbl&gt;</th><th scope=col>&lt;dbl&gt;</th><th scope=col>&lt;dbl&gt;</th><th scope=col>&lt;dbl&gt;</th><th scope=col>&lt;dbl&gt;</th><th scope=col>&lt;dbl&gt;</th><th scope=col>&lt;dbl&gt;</th><th scope=col>&lt;dbl&gt;</th></tr>\n",
       "</thead>\n",
       "<tbody>\n",
       "\t<tr><th scope=row>1</th><td>0.5210374</td><td>0.0226581</td><td>0.5459885</td><td>0.3637328</td><td>0.5937528</td><td>0.7920373</td><td>0.7031396</td><td>0.7311133</td><td>0.6863636</td><td>0.6055181</td><td>⋯</td><td>0.6207755</td><td>0.1415245</td><td>0.6683102</td><td>0.45069799</td><td>0.6011358</td><td>0.6192916</td><td>0.5686102</td><td>0.9120275</td><td>0.5984624</td><td>0.4188640</td></tr>\n",
       "\t<tr><th scope=row>2</th><td>0.6431445</td><td>0.2725736</td><td>0.6157833</td><td>0.5015907</td><td>0.2898799</td><td>0.1817680</td><td>0.2036082</td><td>0.3487575</td><td>0.3797980</td><td>0.1413227</td><td>⋯</td><td>0.6069015</td><td>0.3035714</td><td>0.5398177</td><td>0.43521431</td><td>0.3475533</td><td>0.1545634</td><td>0.1929712</td><td>0.6391753</td><td>0.2335896</td><td>0.2228781</td></tr>\n",
       "\t<tr><th scope=row>3</th><td>0.6014956</td><td>0.3902604</td><td>0.5957432</td><td>0.4494168</td><td>0.5143089</td><td>0.4310165</td><td>0.4625117</td><td>0.6356859</td><td>0.5095960</td><td>0.2112468</td><td>⋯</td><td>0.5563856</td><td>0.3600746</td><td>0.5084417</td><td>0.37450845</td><td>0.4835898</td><td>0.3853751</td><td>0.3597444</td><td>0.8350515</td><td>0.4037059</td><td>0.2134330</td></tr>\n",
       "\t<tr><th scope=row>4</th><td>0.2100904</td><td>0.3608387</td><td>0.2335015</td><td>0.1029056</td><td>0.8113208</td><td>0.8113613</td><td>0.5656045</td><td>0.5228628</td><td>0.7762626</td><td>1.0000000</td><td>⋯</td><td>0.2483102</td><td>0.3859275</td><td>0.2413467</td><td>0.09400806</td><td>0.9154725</td><td>0.8140117</td><td>0.5486422</td><td>0.8848797</td><td>1.0000000</td><td>0.7737111</td></tr>\n",
       "\t<tr><th scope=row>5</th><td>0.6298926</td><td>0.1565776</td><td>0.6309861</td><td>0.4892895</td><td>0.4303512</td><td>0.3478928</td><td>0.4639175</td><td>0.5183897</td><td>0.3782828</td><td>0.1868155</td><td>⋯</td><td>0.5197439</td><td>0.1239339</td><td>0.5069476</td><td>0.34157491</td><td>0.4373638</td><td>0.1724151</td><td>0.3194888</td><td>0.5584192</td><td>0.1575005</td><td>0.1425948</td></tr>\n",
       "\t<tr><th scope=row>6</th><td>0.2588386</td><td>0.2025702</td><td>0.2679842</td><td>0.1415058</td><td>0.6786133</td><td>0.4619962</td><td>0.3697282</td><td>0.4020378</td><td>0.5186869</td><td>0.5511794</td><td>⋯</td><td>0.2682319</td><td>0.3126333</td><td>0.2639076</td><td>0.13674794</td><td>0.7127386</td><td>0.4827837</td><td>0.4277157</td><td>0.5982818</td><td>0.4770353</td><td>0.4549390</td></tr>\n",
       "</tbody>\n",
       "</table>\n"
      ],
      "text/latex": [
       "A data.frame: 6 × 30\n",
       "\\begin{tabular}{r|lllllllllllllllllllll}\n",
       "  & radius\\_mean & texture\\_mean & perimeter\\_mean & area\\_mean & smoothness\\_mean & compactness\\_mean & concavity\\_mean & concave.points\\_mean & symmetry\\_mean & fractal\\_dimension\\_mean & ⋯ & radius\\_worst & texture\\_worst & perimeter\\_worst & area\\_worst & smoothness\\_worst & compactness\\_worst & concavity\\_worst & concave.points\\_worst & symmetry\\_worst & fractal\\_dimension\\_worst\\\\\n",
       "  & <dbl> & <dbl> & <dbl> & <dbl> & <dbl> & <dbl> & <dbl> & <dbl> & <dbl> & <dbl> & ⋯ & <dbl> & <dbl> & <dbl> & <dbl> & <dbl> & <dbl> & <dbl> & <dbl> & <dbl> & <dbl>\\\\\n",
       "\\hline\n",
       "\t1 & 0.5210374 & 0.0226581 & 0.5459885 & 0.3637328 & 0.5937528 & 0.7920373 & 0.7031396 & 0.7311133 & 0.6863636 & 0.6055181 & ⋯ & 0.6207755 & 0.1415245 & 0.6683102 & 0.45069799 & 0.6011358 & 0.6192916 & 0.5686102 & 0.9120275 & 0.5984624 & 0.4188640\\\\\n",
       "\t2 & 0.6431445 & 0.2725736 & 0.6157833 & 0.5015907 & 0.2898799 & 0.1817680 & 0.2036082 & 0.3487575 & 0.3797980 & 0.1413227 & ⋯ & 0.6069015 & 0.3035714 & 0.5398177 & 0.43521431 & 0.3475533 & 0.1545634 & 0.1929712 & 0.6391753 & 0.2335896 & 0.2228781\\\\\n",
       "\t3 & 0.6014956 & 0.3902604 & 0.5957432 & 0.4494168 & 0.5143089 & 0.4310165 & 0.4625117 & 0.6356859 & 0.5095960 & 0.2112468 & ⋯ & 0.5563856 & 0.3600746 & 0.5084417 & 0.37450845 & 0.4835898 & 0.3853751 & 0.3597444 & 0.8350515 & 0.4037059 & 0.2134330\\\\\n",
       "\t4 & 0.2100904 & 0.3608387 & 0.2335015 & 0.1029056 & 0.8113208 & 0.8113613 & 0.5656045 & 0.5228628 & 0.7762626 & 1.0000000 & ⋯ & 0.2483102 & 0.3859275 & 0.2413467 & 0.09400806 & 0.9154725 & 0.8140117 & 0.5486422 & 0.8848797 & 1.0000000 & 0.7737111\\\\\n",
       "\t5 & 0.6298926 & 0.1565776 & 0.6309861 & 0.4892895 & 0.4303512 & 0.3478928 & 0.4639175 & 0.5183897 & 0.3782828 & 0.1868155 & ⋯ & 0.5197439 & 0.1239339 & 0.5069476 & 0.34157491 & 0.4373638 & 0.1724151 & 0.3194888 & 0.5584192 & 0.1575005 & 0.1425948\\\\\n",
       "\t6 & 0.2588386 & 0.2025702 & 0.2679842 & 0.1415058 & 0.6786133 & 0.4619962 & 0.3697282 & 0.4020378 & 0.5186869 & 0.5511794 & ⋯ & 0.2682319 & 0.3126333 & 0.2639076 & 0.13674794 & 0.7127386 & 0.4827837 & 0.4277157 & 0.5982818 & 0.4770353 & 0.4549390\\\\\n",
       "\\end{tabular}\n"
      ],
      "text/markdown": [
       "\n",
       "A data.frame: 6 × 30\n",
       "\n",
       "| <!--/--> | radius_mean &lt;dbl&gt; | texture_mean &lt;dbl&gt; | perimeter_mean &lt;dbl&gt; | area_mean &lt;dbl&gt; | smoothness_mean &lt;dbl&gt; | compactness_mean &lt;dbl&gt; | concavity_mean &lt;dbl&gt; | concave.points_mean &lt;dbl&gt; | symmetry_mean &lt;dbl&gt; | fractal_dimension_mean &lt;dbl&gt; | ⋯ ⋯ | radius_worst &lt;dbl&gt; | texture_worst &lt;dbl&gt; | perimeter_worst &lt;dbl&gt; | area_worst &lt;dbl&gt; | smoothness_worst &lt;dbl&gt; | compactness_worst &lt;dbl&gt; | concavity_worst &lt;dbl&gt; | concave.points_worst &lt;dbl&gt; | symmetry_worst &lt;dbl&gt; | fractal_dimension_worst &lt;dbl&gt; |\n",
       "|---|---|---|---|---|---|---|---|---|---|---|---|---|---|---|---|---|---|---|---|---|---|\n",
       "| 1 | 0.5210374 | 0.0226581 | 0.5459885 | 0.3637328 | 0.5937528 | 0.7920373 | 0.7031396 | 0.7311133 | 0.6863636 | 0.6055181 | ⋯ | 0.6207755 | 0.1415245 | 0.6683102 | 0.45069799 | 0.6011358 | 0.6192916 | 0.5686102 | 0.9120275 | 0.5984624 | 0.4188640 |\n",
       "| 2 | 0.6431445 | 0.2725736 | 0.6157833 | 0.5015907 | 0.2898799 | 0.1817680 | 0.2036082 | 0.3487575 | 0.3797980 | 0.1413227 | ⋯ | 0.6069015 | 0.3035714 | 0.5398177 | 0.43521431 | 0.3475533 | 0.1545634 | 0.1929712 | 0.6391753 | 0.2335896 | 0.2228781 |\n",
       "| 3 | 0.6014956 | 0.3902604 | 0.5957432 | 0.4494168 | 0.5143089 | 0.4310165 | 0.4625117 | 0.6356859 | 0.5095960 | 0.2112468 | ⋯ | 0.5563856 | 0.3600746 | 0.5084417 | 0.37450845 | 0.4835898 | 0.3853751 | 0.3597444 | 0.8350515 | 0.4037059 | 0.2134330 |\n",
       "| 4 | 0.2100904 | 0.3608387 | 0.2335015 | 0.1029056 | 0.8113208 | 0.8113613 | 0.5656045 | 0.5228628 | 0.7762626 | 1.0000000 | ⋯ | 0.2483102 | 0.3859275 | 0.2413467 | 0.09400806 | 0.9154725 | 0.8140117 | 0.5486422 | 0.8848797 | 1.0000000 | 0.7737111 |\n",
       "| 5 | 0.6298926 | 0.1565776 | 0.6309861 | 0.4892895 | 0.4303512 | 0.3478928 | 0.4639175 | 0.5183897 | 0.3782828 | 0.1868155 | ⋯ | 0.5197439 | 0.1239339 | 0.5069476 | 0.34157491 | 0.4373638 | 0.1724151 | 0.3194888 | 0.5584192 | 0.1575005 | 0.1425948 |\n",
       "| 6 | 0.2588386 | 0.2025702 | 0.2679842 | 0.1415058 | 0.6786133 | 0.4619962 | 0.3697282 | 0.4020378 | 0.5186869 | 0.5511794 | ⋯ | 0.2682319 | 0.3126333 | 0.2639076 | 0.13674794 | 0.7127386 | 0.4827837 | 0.4277157 | 0.5982818 | 0.4770353 | 0.4549390 |\n",
       "\n"
      ],
      "text/plain": [
       "  radius_mean texture_mean perimeter_mean area_mean smoothness_mean\n",
       "1 0.5210374   0.0226581    0.5459885      0.3637328 0.5937528      \n",
       "2 0.6431445   0.2725736    0.6157833      0.5015907 0.2898799      \n",
       "3 0.6014956   0.3902604    0.5957432      0.4494168 0.5143089      \n",
       "4 0.2100904   0.3608387    0.2335015      0.1029056 0.8113208      \n",
       "5 0.6298926   0.1565776    0.6309861      0.4892895 0.4303512      \n",
       "6 0.2588386   0.2025702    0.2679842      0.1415058 0.6786133      \n",
       "  compactness_mean concavity_mean concave.points_mean symmetry_mean\n",
       "1 0.7920373        0.7031396      0.7311133           0.6863636    \n",
       "2 0.1817680        0.2036082      0.3487575           0.3797980    \n",
       "3 0.4310165        0.4625117      0.6356859           0.5095960    \n",
       "4 0.8113613        0.5656045      0.5228628           0.7762626    \n",
       "5 0.3478928        0.4639175      0.5183897           0.3782828    \n",
       "6 0.4619962        0.3697282      0.4020378           0.5186869    \n",
       "  fractal_dimension_mean ⋯ radius_worst texture_worst perimeter_worst\n",
       "1 0.6055181              ⋯ 0.6207755    0.1415245     0.6683102      \n",
       "2 0.1413227              ⋯ 0.6069015    0.3035714     0.5398177      \n",
       "3 0.2112468              ⋯ 0.5563856    0.3600746     0.5084417      \n",
       "4 1.0000000              ⋯ 0.2483102    0.3859275     0.2413467      \n",
       "5 0.1868155              ⋯ 0.5197439    0.1239339     0.5069476      \n",
       "6 0.5511794              ⋯ 0.2682319    0.3126333     0.2639076      \n",
       "  area_worst smoothness_worst compactness_worst concavity_worst\n",
       "1 0.45069799 0.6011358        0.6192916         0.5686102      \n",
       "2 0.43521431 0.3475533        0.1545634         0.1929712      \n",
       "3 0.37450845 0.4835898        0.3853751         0.3597444      \n",
       "4 0.09400806 0.9154725        0.8140117         0.5486422      \n",
       "5 0.34157491 0.4373638        0.1724151         0.3194888      \n",
       "6 0.13674794 0.7127386        0.4827837         0.4277157      \n",
       "  concave.points_worst symmetry_worst fractal_dimension_worst\n",
       "1 0.9120275            0.5984624      0.4188640              \n",
       "2 0.6391753            0.2335896      0.2228781              \n",
       "3 0.8350515            0.4037059      0.2134330              \n",
       "4 0.8848797            1.0000000      0.7737111              \n",
       "5 0.5584192            0.1575005      0.1425948              \n",
       "6 0.5982818            0.4770353      0.4549390              "
      ]
     },
     "metadata": {},
     "output_type": "display_data"
    }
   ],
   "source": [
    "# Vizualizando meus dados normalizados\n",
    "head(dados_norm)"
   ]
  },
  {
   "cell_type": "code",
   "execution_count": 15,
   "id": "d4dc272f",
   "metadata": {
    "execution": {
     "iopub.execute_input": "2023-08-24T12:33:17.143901Z",
     "iopub.status.busy": "2023-08-24T12:33:17.141866Z",
     "iopub.status.idle": "2023-08-24T12:33:17.193176Z",
     "shell.execute_reply": "2023-08-24T12:33:17.190663Z"
    },
    "papermill": {
     "duration": 0.077203,
     "end_time": "2023-08-24T12:33:17.196806",
     "exception": false,
     "start_time": "2023-08-24T12:33:17.119603",
     "status": "completed"
    },
    "tags": []
   },
   "outputs": [],
   "source": [
    "# Carregando nosso algoritmo KNN, para os teste\n",
    "library(class)"
   ]
  },
  {
   "cell_type": "code",
   "execution_count": 16,
   "id": "dd2afb3c",
   "metadata": {
    "execution": {
     "iopub.execute_input": "2023-08-24T12:33:17.244422Z",
     "iopub.status.busy": "2023-08-24T12:33:17.241523Z",
     "iopub.status.idle": "2023-08-24T12:33:17.269257Z",
     "shell.execute_reply": "2023-08-24T12:33:17.265450Z"
    },
    "papermill": {
     "duration": 0.05652,
     "end_time": "2023-08-24T12:33:17.273640",
     "exception": false,
     "start_time": "2023-08-24T12:33:17.217120",
     "status": "completed"
    },
    "tags": []
   },
   "outputs": [],
   "source": [
    "# Criando nossas variaveis de Treinamento e Teste\n",
    "dados_treino = dados_norm[1:469,]\n",
    "dados_teste = dados_norm[470:569, ]"
   ]
  },
  {
   "cell_type": "code",
   "execution_count": 17,
   "id": "0a36bdb4",
   "metadata": {
    "execution": {
     "iopub.execute_input": "2023-08-24T12:33:17.322320Z",
     "iopub.status.busy": "2023-08-24T12:33:17.318828Z",
     "iopub.status.idle": "2023-08-24T12:33:17.346015Z",
     "shell.execute_reply": "2023-08-24T12:33:17.342344Z"
    },
    "papermill": {
     "duration": 0.058168,
     "end_time": "2023-08-24T12:33:17.351605",
     "exception": false,
     "start_time": "2023-08-24T12:33:17.293437",
     "status": "completed"
    },
    "tags": []
   },
   "outputs": [],
   "source": [
    "# Criando duas variaveis lables tambem para variaveis de treino e teste\n",
    "dados_treino_labels = dados[1:469, 1]\n",
    "dados_teste_labels = dados[470:569, 1]"
   ]
  },
  {
   "cell_type": "code",
   "execution_count": 18,
   "id": "8e4017d3",
   "metadata": {
    "execution": {
     "iopub.execute_input": "2023-08-24T12:33:17.400762Z",
     "iopub.status.busy": "2023-08-24T12:33:17.398045Z",
     "iopub.status.idle": "2023-08-24T12:33:17.430075Z",
     "shell.execute_reply": "2023-08-24T12:33:17.426901Z"
    },
    "papermill": {
     "duration": 0.061178,
     "end_time": "2023-08-24T12:33:17.434368",
     "exception": false,
     "start_time": "2023-08-24T12:33:17.373190",
     "status": "completed"
    },
    "tags": []
   },
   "outputs": [
    {
     "data": {
      "text/html": [
       "469"
      ],
      "text/latex": [
       "469"
      ],
      "text/markdown": [
       "469"
      ],
      "text/plain": [
       "[1] 469"
      ]
     },
     "metadata": {},
     "output_type": "display_data"
    }
   ],
   "source": [
    "# Verificando tamanho de nossas variavels labels \"treino\"\n",
    "length(dados_treino_labels)"
   ]
  },
  {
   "cell_type": "code",
   "execution_count": 19,
   "id": "351429ab",
   "metadata": {
    "execution": {
     "iopub.execute_input": "2023-08-24T12:33:17.482412Z",
     "iopub.status.busy": "2023-08-24T12:33:17.479907Z",
     "iopub.status.idle": "2023-08-24T12:33:17.509503Z",
     "shell.execute_reply": "2023-08-24T12:33:17.505897Z"
    },
    "papermill": {
     "duration": 0.058043,
     "end_time": "2023-08-24T12:33:17.513532",
     "exception": false,
     "start_time": "2023-08-24T12:33:17.455489",
     "status": "completed"
    },
    "tags": []
   },
   "outputs": [
    {
     "data": {
      "text/html": [
       "100"
      ],
      "text/latex": [
       "100"
      ],
      "text/markdown": [
       "100"
      ],
      "text/plain": [
       "[1] 100"
      ]
     },
     "metadata": {},
     "output_type": "display_data"
    }
   ],
   "source": [
    "# Verificando tamanho de nossas variavels labels \"teste\"\n",
    "length(dados_teste_labels)"
   ]
  },
  {
   "cell_type": "code",
   "execution_count": 20,
   "id": "e5cf96cf",
   "metadata": {
    "execution": {
     "iopub.execute_input": "2023-08-24T12:33:17.562020Z",
     "iopub.status.busy": "2023-08-24T12:33:17.559667Z",
     "iopub.status.idle": "2023-08-24T12:33:17.589276Z",
     "shell.execute_reply": "2023-08-24T12:33:17.586175Z"
    },
    "papermill": {
     "duration": 0.057339,
     "end_time": "2023-08-24T12:33:17.592597",
     "exception": false,
     "start_time": "2023-08-24T12:33:17.535258",
     "status": "completed"
    },
    "tags": []
   },
   "outputs": [],
   "source": [
    "# Criando nosso modelo KNN\n",
    "modelo_knn_v1 = knn(train = dados_treino, test = dados_teste, cl = dados_treino_labels, k = 21)"
   ]
  },
  {
   "cell_type": "code",
   "execution_count": 21,
   "id": "b99f5140",
   "metadata": {
    "execution": {
     "iopub.execute_input": "2023-08-24T12:33:17.635888Z",
     "iopub.status.busy": "2023-08-24T12:33:17.633651Z",
     "iopub.status.idle": "2023-08-24T12:33:17.661135Z",
     "shell.execute_reply": "2023-08-24T12:33:17.659194Z"
    },
    "papermill": {
     "duration": 0.051853,
     "end_time": "2023-08-24T12:33:17.663859",
     "exception": false,
     "start_time": "2023-08-24T12:33:17.612006",
     "status": "completed"
    },
    "tags": []
   },
   "outputs": [
    {
     "data": {
      "text/html": [
       "<style>\n",
       ".dl-inline {width: auto; margin:0; padding: 0}\n",
       ".dl-inline>dt, .dl-inline>dd {float: none; width: auto; display: inline-block}\n",
       ".dl-inline>dt::after {content: \":\\0020\"; padding-right: .5ex}\n",
       ".dl-inline>dt:not(:first-of-type) {padding-left: .5ex}\n",
       "</style><dl class=dl-inline><dt>Benigno</dt><dd>79</dd><dt>Maligno</dt><dd>21</dd></dl>\n"
      ],
      "text/latex": [
       "\\begin{description*}\n",
       "\\item[Benigno] 79\n",
       "\\item[Maligno] 21\n",
       "\\end{description*}\n"
      ],
      "text/markdown": [
       "Benigno\n",
       ":   79Maligno\n",
       ":   21\n",
       "\n"
      ],
      "text/plain": [
       "Benigno Maligno \n",
       "     79      21 "
      ]
     },
     "metadata": {},
     "output_type": "display_data"
    }
   ],
   "source": [
    "# Verificando meu modelo \n",
    "summary(modelo_knn_v1)"
   ]
  },
  {
   "cell_type": "code",
   "execution_count": 22,
   "id": "058aa415",
   "metadata": {
    "execution": {
     "iopub.execute_input": "2023-08-24T12:33:17.709007Z",
     "iopub.status.busy": "2023-08-24T12:33:17.707223Z",
     "iopub.status.idle": "2023-08-24T12:33:17.821120Z",
     "shell.execute_reply": "2023-08-24T12:33:17.818975Z"
    },
    "papermill": {
     "duration": 0.141615,
     "end_time": "2023-08-24T12:33:17.825233",
     "exception": false,
     "start_time": "2023-08-24T12:33:17.683618",
     "status": "completed"
    },
    "tags": []
   },
   "outputs": [],
   "source": [
    "# Vamos Intrepretar o modelo e sua avaliação\n",
    "# instalando nossa biblioteca \"gmodels\"\n",
    "# install.packages(\"gmodels\")\n",
    "library(gmodels)"
   ]
  },
  {
   "cell_type": "code",
   "execution_count": 23,
   "id": "16e38490",
   "metadata": {
    "execution": {
     "iopub.execute_input": "2023-08-24T12:33:17.873043Z",
     "iopub.status.busy": "2023-08-24T12:33:17.871121Z",
     "iopub.status.idle": "2023-08-24T12:33:17.908453Z",
     "shell.execute_reply": "2023-08-24T12:33:17.904932Z"
    },
    "papermill": {
     "duration": 0.064737,
     "end_time": "2023-08-24T12:33:17.912179",
     "exception": false,
     "start_time": "2023-08-24T12:33:17.847442",
     "status": "completed"
    },
    "tags": []
   },
   "outputs": [
    {
     "name": "stdout",
     "output_type": "stream",
     "text": [
      "\n",
      " \n",
      "   Cell Contents\n",
      "|-------------------------|\n",
      "|                       N |\n",
      "| Chi-square contribution |\n",
      "|           N / Row Total |\n",
      "|           N / Col Total |\n",
      "|         N / Table Total |\n",
      "|-------------------------|\n",
      "\n",
      " \n",
      "Total Observations in Table:  100 \n",
      "\n",
      " \n",
      "                   | modelo_knn_v1 \n",
      "dados_teste_labels |   Benigno |   Maligno | Row Total | \n",
      "-------------------|-----------|-----------|-----------|\n",
      "           Benigno |        77 |         0 |        77 | \n",
      "                   |     4.298 |    16.170 |           | \n",
      "                   |     1.000 |     0.000 |     0.770 | \n",
      "                   |     0.975 |     0.000 |           | \n",
      "                   |     0.770 |     0.000 |           | \n",
      "-------------------|-----------|-----------|-----------|\n",
      "           Maligno |         2 |        21 |        23 | \n",
      "                   |    14.390 |    54.134 |           | \n",
      "                   |     0.087 |     0.913 |     0.230 | \n",
      "                   |     0.025 |     1.000 |           | \n",
      "                   |     0.020 |     0.210 |           | \n",
      "-------------------|-----------|-----------|-----------|\n",
      "      Column Total |        79 |        21 |       100 | \n",
      "                   |     0.790 |     0.210 |           | \n",
      "-------------------|-----------|-----------|-----------|\n",
      "\n",
      " \n"
     ]
    }
   ],
   "source": [
    "# Criando uma tabela de cruzada de dados para previstos x dados atuais\n",
    "CrossTable(x = dados_teste_labels, y = modelo_knn_v1,chisq = FALSE)"
   ]
  },
  {
   "cell_type": "code",
   "execution_count": 24,
   "id": "5cb2bc76",
   "metadata": {
    "execution": {
     "iopub.execute_input": "2023-08-24T12:33:17.960967Z",
     "iopub.status.busy": "2023-08-24T12:33:17.958559Z",
     "iopub.status.idle": "2023-08-24T12:33:17.978683Z",
     "shell.execute_reply": "2023-08-24T12:33:17.976469Z"
    },
    "papermill": {
     "duration": 0.047465,
     "end_time": "2023-08-24T12:33:17.981972",
     "exception": false,
     "start_time": "2023-08-24T12:33:17.934507",
     "status": "completed"
    },
    "tags": []
   },
   "outputs": [],
   "source": [
    "# Iremos otimizar a performace de nosos modelo \n",
    "\n",
    "# Ultilizando nossa função scale, para assim padronizarmos o z-score\n",
    "dados_z = as.data.frame(scale(dados[-1]))"
   ]
  },
  {
   "cell_type": "code",
   "execution_count": 25,
   "id": "cc8ef15c",
   "metadata": {
    "execution": {
     "iopub.execute_input": "2023-08-24T12:33:18.026654Z",
     "iopub.status.busy": "2023-08-24T12:33:18.024972Z",
     "iopub.status.idle": "2023-08-24T12:33:18.047075Z",
     "shell.execute_reply": "2023-08-24T12:33:18.044652Z"
    },
    "papermill": {
     "duration": 0.048463,
     "end_time": "2023-08-24T12:33:18.050890",
     "exception": false,
     "start_time": "2023-08-24T12:33:18.002427",
     "status": "completed"
    },
    "tags": []
   },
   "outputs": [
    {
     "data": {
      "text/plain": [
       "   Min. 1st Qu.  Median    Mean 3rd Qu.    Max. \n",
       "-1.4532 -0.6666 -0.2949  0.0000  0.3632  5.2459 "
      ]
     },
     "metadata": {},
     "output_type": "display_data"
    }
   ],
   "source": [
    "# Verificando nossas estatisticas da coluna area_men\n",
    "summary(dados_z$area_mean)"
   ]
  },
  {
   "cell_type": "code",
   "execution_count": 26,
   "id": "d2e8ec1e",
   "metadata": {
    "execution": {
     "iopub.execute_input": "2023-08-24T12:33:18.144230Z",
     "iopub.status.busy": "2023-08-24T12:33:18.142192Z",
     "iopub.status.idle": "2023-08-24T12:33:18.165025Z",
     "shell.execute_reply": "2023-08-24T12:33:18.162729Z"
    },
    "papermill": {
     "duration": 0.051583,
     "end_time": "2023-08-24T12:33:18.168622",
     "exception": false,
     "start_time": "2023-08-24T12:33:18.117039",
     "status": "completed"
    },
    "tags": []
   },
   "outputs": [],
   "source": [
    "# Criando novamente nossos dados de treino e teste agora com os dados_z\n",
    "dados_treino = dados_z[1:469, ]\n",
    "dados_teste = dados_z[470:569, ]"
   ]
  },
  {
   "cell_type": "code",
   "execution_count": 27,
   "id": "75d1b838",
   "metadata": {
    "execution": {
     "iopub.execute_input": "2023-08-24T12:33:18.214389Z",
     "iopub.status.busy": "2023-08-24T12:33:18.212463Z",
     "iopub.status.idle": "2023-08-24T12:33:18.233730Z",
     "shell.execute_reply": "2023-08-24T12:33:18.231361Z"
    },
    "papermill": {
     "duration": 0.048597,
     "end_time": "2023-08-24T12:33:18.237923",
     "exception": false,
     "start_time": "2023-08-24T12:33:18.189326",
     "status": "completed"
    },
    "tags": []
   },
   "outputs": [],
   "source": [
    "# Criando tambem meus labels para treino e teste\n",
    "dados_treino_labels = dados[1:469, 1]\n",
    "dados_teste_labels = dados[470:569, 1]"
   ]
  },
  {
   "cell_type": "code",
   "execution_count": 28,
   "id": "e681ec05",
   "metadata": {
    "execution": {
     "iopub.execute_input": "2023-08-24T12:33:18.285956Z",
     "iopub.status.busy": "2023-08-24T12:33:18.284206Z",
     "iopub.status.idle": "2023-08-24T12:33:18.305683Z",
     "shell.execute_reply": "2023-08-24T12:33:18.303686Z"
    },
    "papermill": {
     "duration": 0.048569,
     "end_time": "2023-08-24T12:33:18.309367",
     "exception": false,
     "start_time": "2023-08-24T12:33:18.260798",
     "status": "completed"
    },
    "tags": []
   },
   "outputs": [],
   "source": [
    "# Criando nosso novo modelo com KNN ou seja reclassificando\n",
    "modelo_knn_v2 = knn(train = dados_treino, test = dados_teste, cl = dados_treino_labels, k = 21)"
   ]
  },
  {
   "cell_type": "code",
   "execution_count": 29,
   "id": "55521fd9",
   "metadata": {
    "execution": {
     "iopub.execute_input": "2023-08-24T12:33:18.356826Z",
     "iopub.status.busy": "2023-08-24T12:33:18.355032Z",
     "iopub.status.idle": "2023-08-24T12:33:18.380550Z",
     "shell.execute_reply": "2023-08-24T12:33:18.378120Z"
    },
    "papermill": {
     "duration": 0.053819,
     "end_time": "2023-08-24T12:33:18.384113",
     "exception": false,
     "start_time": "2023-08-24T12:33:18.330294",
     "status": "completed"
    },
    "tags": []
   },
   "outputs": [
    {
     "name": "stdout",
     "output_type": "stream",
     "text": [
      "\n",
      " \n",
      "   Cell Contents\n",
      "|-------------------------|\n",
      "|                       N |\n",
      "|           N / Row Total |\n",
      "|           N / Col Total |\n",
      "|         N / Table Total |\n",
      "|-------------------------|\n",
      "\n",
      " \n",
      "Total Observations in Table:  100 \n",
      "\n",
      " \n",
      "                   | modelo_knn_v2 \n",
      "dados_teste_labels |   Benigno |   Maligno | Row Total | \n",
      "-------------------|-----------|-----------|-----------|\n",
      "           Benigno |        77 |         0 |        77 | \n",
      "                   |     1.000 |     0.000 |     0.770 | \n",
      "                   |     0.975 |     0.000 |           | \n",
      "                   |     0.770 |     0.000 |           | \n",
      "-------------------|-----------|-----------|-----------|\n",
      "           Maligno |         2 |        21 |        23 | \n",
      "                   |     0.087 |     0.913 |     0.230 | \n",
      "                   |     0.025 |     1.000 |           | \n",
      "                   |     0.020 |     0.210 |           | \n",
      "-------------------|-----------|-----------|-----------|\n",
      "      Column Total |        79 |        21 |       100 | \n",
      "                   |     0.790 |     0.210 |           | \n",
      "-------------------|-----------|-----------|-----------|\n",
      "\n",
      " \n"
     ]
    }
   ],
   "source": [
    "# Criando nossa tabela cruzada para valores previstos x dados_atuais\n",
    "CrossTable(x = dados_teste_labels, y = modelo_knn_v2, prop.chisq = FALSE)"
   ]
  },
  {
   "cell_type": "code",
   "execution_count": 30,
   "id": "eec98d77",
   "metadata": {
    "execution": {
     "iopub.execute_input": "2023-08-24T12:33:18.431373Z",
     "iopub.status.busy": "2023-08-24T12:33:18.429528Z",
     "iopub.status.idle": "2023-08-24T12:33:18.448142Z",
     "shell.execute_reply": "2023-08-24T12:33:18.446110Z"
    },
    "papermill": {
     "duration": 0.053285,
     "end_time": "2023-08-24T12:33:18.459134",
     "exception": false,
     "start_time": "2023-08-24T12:33:18.405849",
     "status": "completed"
    },
    "tags": []
   },
   "outputs": [],
   "source": [
    "# Construindo Um modelo com o algoritmo SVM\n"
   ]
  },
  {
   "cell_type": "code",
   "execution_count": 31,
   "id": "b7cad2aa",
   "metadata": {
    "execution": {
     "iopub.execute_input": "2023-08-24T12:33:18.507798Z",
     "iopub.status.busy": "2023-08-24T12:33:18.506082Z",
     "iopub.status.idle": "2023-08-24T12:33:18.538747Z",
     "shell.execute_reply": "2023-08-24T12:33:18.535837Z"
    },
    "papermill": {
     "duration": 0.060642,
     "end_time": "2023-08-24T12:33:18.543666",
     "exception": false,
     "start_time": "2023-08-24T12:33:18.483024",
     "status": "completed"
    },
    "tags": []
   },
   "outputs": [],
   "source": [
    "# Carregando meus dados novamente\n",
    "dados = read.csv(file = \"../input/breast-cancer-wisconsin-data/data.csv\")"
   ]
  },
  {
   "cell_type": "code",
   "execution_count": 32,
   "id": "0887dd6d",
   "metadata": {
    "execution": {
     "iopub.execute_input": "2023-08-24T12:33:18.595080Z",
     "iopub.status.busy": "2023-08-24T12:33:18.593105Z",
     "iopub.status.idle": "2023-08-24T12:33:18.611024Z",
     "shell.execute_reply": "2023-08-24T12:33:18.608810Z"
    },
    "papermill": {
     "duration": 0.045824,
     "end_time": "2023-08-24T12:33:18.614054",
     "exception": false,
     "start_time": "2023-08-24T12:33:18.568230",
     "status": "completed"
    },
    "tags": []
   },
   "outputs": [],
   "source": [
    "# Transfomando nosa variavel \"Alvo\", para factor para ultilizarmos no nosso modelo SVM\n",
    "dados$diagnosis = factor(dados$diagnosis, levels = c('B', 'M'), labels = c(\"B\",'M'))"
   ]
  },
  {
   "cell_type": "code",
   "execution_count": 33,
   "id": "143eb52f",
   "metadata": {
    "execution": {
     "iopub.execute_input": "2023-08-24T12:33:18.661796Z",
     "iopub.status.busy": "2023-08-24T12:33:18.659833Z",
     "iopub.status.idle": "2023-08-24T12:33:18.706972Z",
     "shell.execute_reply": "2023-08-24T12:33:18.704756Z"
    },
    "papermill": {
     "duration": 0.074479,
     "end_time": "2023-08-24T12:33:18.710052",
     "exception": false,
     "start_time": "2023-08-24T12:33:18.635573",
     "status": "completed"
    },
    "tags": []
   },
   "outputs": [
    {
     "name": "stdout",
     "output_type": "stream",
     "text": [
      "'data.frame':\t569 obs. of  33 variables:\n",
      " $ id                     : int  842302 842517 84300903 84348301 84358402 843786 844359 84458202 844981 84501001 ...\n",
      " $ diagnosis              : Factor w/ 2 levels \"B\",\"M\": 2 2 2 2 2 2 2 2 2 2 ...\n",
      " $ radius_mean            : num  18 20.6 19.7 11.4 20.3 ...\n",
      " $ texture_mean           : num  10.4 17.8 21.2 20.4 14.3 ...\n",
      " $ perimeter_mean         : num  122.8 132.9 130 77.6 135.1 ...\n",
      " $ area_mean              : num  1001 1326 1203 386 1297 ...\n",
      " $ smoothness_mean        : num  0.1184 0.0847 0.1096 0.1425 0.1003 ...\n",
      " $ compactness_mean       : num  0.2776 0.0786 0.1599 0.2839 0.1328 ...\n",
      " $ concavity_mean         : num  0.3001 0.0869 0.1974 0.2414 0.198 ...\n",
      " $ concave.points_mean    : num  0.1471 0.0702 0.1279 0.1052 0.1043 ...\n",
      " $ symmetry_mean          : num  0.242 0.181 0.207 0.26 0.181 ...\n",
      " $ fractal_dimension_mean : num  0.0787 0.0567 0.06 0.0974 0.0588 ...\n",
      " $ radius_se              : num  1.095 0.543 0.746 0.496 0.757 ...\n",
      " $ texture_se             : num  0.905 0.734 0.787 1.156 0.781 ...\n",
      " $ perimeter_se           : num  8.59 3.4 4.58 3.44 5.44 ...\n",
      " $ area_se                : num  153.4 74.1 94 27.2 94.4 ...\n",
      " $ smoothness_se          : num  0.0064 0.00522 0.00615 0.00911 0.01149 ...\n",
      " $ compactness_se         : num  0.049 0.0131 0.0401 0.0746 0.0246 ...\n",
      " $ concavity_se           : num  0.0537 0.0186 0.0383 0.0566 0.0569 ...\n",
      " $ concave.points_se      : num  0.0159 0.0134 0.0206 0.0187 0.0188 ...\n",
      " $ symmetry_se            : num  0.03 0.0139 0.0225 0.0596 0.0176 ...\n",
      " $ fractal_dimension_se   : num  0.00619 0.00353 0.00457 0.00921 0.00511 ...\n",
      " $ radius_worst           : num  25.4 25 23.6 14.9 22.5 ...\n",
      " $ texture_worst          : num  17.3 23.4 25.5 26.5 16.7 ...\n",
      " $ perimeter_worst        : num  184.6 158.8 152.5 98.9 152.2 ...\n",
      " $ area_worst             : num  2019 1956 1709 568 1575 ...\n",
      " $ smoothness_worst       : num  0.162 0.124 0.144 0.21 0.137 ...\n",
      " $ compactness_worst      : num  0.666 0.187 0.424 0.866 0.205 ...\n",
      " $ concavity_worst        : num  0.712 0.242 0.45 0.687 0.4 ...\n",
      " $ concave.points_worst   : num  0.265 0.186 0.243 0.258 0.163 ...\n",
      " $ symmetry_worst         : num  0.46 0.275 0.361 0.664 0.236 ...\n",
      " $ fractal_dimension_worst: num  0.1189 0.089 0.0876 0.173 0.0768 ...\n",
      " $ X                      : logi  NA NA NA NA NA NA ...\n"
     ]
    }
   ],
   "source": [
    "# Verifando meus dados \n",
    "str(dados)"
   ]
  },
  {
   "cell_type": "code",
   "execution_count": 34,
   "id": "f179d6cb",
   "metadata": {
    "execution": {
     "iopub.execute_input": "2023-08-24T12:33:18.756783Z",
     "iopub.status.busy": "2023-08-24T12:33:18.754892Z",
     "iopub.status.idle": "2023-08-24T12:33:18.812592Z",
     "shell.execute_reply": "2023-08-24T12:33:18.809026Z"
    },
    "papermill": {
     "duration": 0.084409,
     "end_time": "2023-08-24T12:33:18.816521",
     "exception": false,
     "start_time": "2023-08-24T12:33:18.732112",
     "status": "completed"
    },
    "tags": []
   },
   "outputs": [
    {
     "data": {
      "text/html": [
       "<table class=\"dataframe\">\n",
       "<caption>A data.frame: 6 × 33</caption>\n",
       "<thead>\n",
       "\t<tr><th></th><th scope=col>id</th><th scope=col>diagnosis</th><th scope=col>radius_mean</th><th scope=col>texture_mean</th><th scope=col>perimeter_mean</th><th scope=col>area_mean</th><th scope=col>smoothness_mean</th><th scope=col>compactness_mean</th><th scope=col>concavity_mean</th><th scope=col>concave.points_mean</th><th scope=col>⋯</th><th scope=col>texture_worst</th><th scope=col>perimeter_worst</th><th scope=col>area_worst</th><th scope=col>smoothness_worst</th><th scope=col>compactness_worst</th><th scope=col>concavity_worst</th><th scope=col>concave.points_worst</th><th scope=col>symmetry_worst</th><th scope=col>fractal_dimension_worst</th><th scope=col>X</th></tr>\n",
       "\t<tr><th></th><th scope=col>&lt;int&gt;</th><th scope=col>&lt;fct&gt;</th><th scope=col>&lt;dbl&gt;</th><th scope=col>&lt;dbl&gt;</th><th scope=col>&lt;dbl&gt;</th><th scope=col>&lt;dbl&gt;</th><th scope=col>&lt;dbl&gt;</th><th scope=col>&lt;dbl&gt;</th><th scope=col>&lt;dbl&gt;</th><th scope=col>&lt;dbl&gt;</th><th scope=col>⋯</th><th scope=col>&lt;dbl&gt;</th><th scope=col>&lt;dbl&gt;</th><th scope=col>&lt;dbl&gt;</th><th scope=col>&lt;dbl&gt;</th><th scope=col>&lt;dbl&gt;</th><th scope=col>&lt;dbl&gt;</th><th scope=col>&lt;dbl&gt;</th><th scope=col>&lt;dbl&gt;</th><th scope=col>&lt;dbl&gt;</th><th scope=col>&lt;lgl&gt;</th></tr>\n",
       "</thead>\n",
       "<tbody>\n",
       "\t<tr><th scope=row>1</th><td>  842302</td><td>M</td><td>17.99</td><td>10.38</td><td>122.80</td><td>1001.0</td><td>0.11840</td><td>0.27760</td><td>0.3001</td><td>0.14710</td><td>⋯</td><td>17.33</td><td>184.60</td><td>2019.0</td><td>0.1622</td><td>0.6656</td><td>0.7119</td><td>0.2654</td><td>0.4601</td><td>0.11890</td><td>NA</td></tr>\n",
       "\t<tr><th scope=row>2</th><td>  842517</td><td>M</td><td>20.57</td><td>17.77</td><td>132.90</td><td>1326.0</td><td>0.08474</td><td>0.07864</td><td>0.0869</td><td>0.07017</td><td>⋯</td><td>23.41</td><td>158.80</td><td>1956.0</td><td>0.1238</td><td>0.1866</td><td>0.2416</td><td>0.1860</td><td>0.2750</td><td>0.08902</td><td>NA</td></tr>\n",
       "\t<tr><th scope=row>3</th><td>84300903</td><td>M</td><td>19.69</td><td>21.25</td><td>130.00</td><td>1203.0</td><td>0.10960</td><td>0.15990</td><td>0.1974</td><td>0.12790</td><td>⋯</td><td>25.53</td><td>152.50</td><td>1709.0</td><td>0.1444</td><td>0.4245</td><td>0.4504</td><td>0.2430</td><td>0.3613</td><td>0.08758</td><td>NA</td></tr>\n",
       "\t<tr><th scope=row>4</th><td>84348301</td><td>M</td><td>11.42</td><td>20.38</td><td> 77.58</td><td> 386.1</td><td>0.14250</td><td>0.28390</td><td>0.2414</td><td>0.10520</td><td>⋯</td><td>26.50</td><td> 98.87</td><td> 567.7</td><td>0.2098</td><td>0.8663</td><td>0.6869</td><td>0.2575</td><td>0.6638</td><td>0.17300</td><td>NA</td></tr>\n",
       "\t<tr><th scope=row>5</th><td>84358402</td><td>M</td><td>20.29</td><td>14.34</td><td>135.10</td><td>1297.0</td><td>0.10030</td><td>0.13280</td><td>0.1980</td><td>0.10430</td><td>⋯</td><td>16.67</td><td>152.20</td><td>1575.0</td><td>0.1374</td><td>0.2050</td><td>0.4000</td><td>0.1625</td><td>0.2364</td><td>0.07678</td><td>NA</td></tr>\n",
       "\t<tr><th scope=row>6</th><td>  843786</td><td>M</td><td>12.45</td><td>15.70</td><td> 82.57</td><td> 477.1</td><td>0.12780</td><td>0.17000</td><td>0.1578</td><td>0.08089</td><td>⋯</td><td>23.75</td><td>103.40</td><td> 741.6</td><td>0.1791</td><td>0.5249</td><td>0.5355</td><td>0.1741</td><td>0.3985</td><td>0.12440</td><td>NA</td></tr>\n",
       "</tbody>\n",
       "</table>\n"
      ],
      "text/latex": [
       "A data.frame: 6 × 33\n",
       "\\begin{tabular}{r|lllllllllllllllllllll}\n",
       "  & id & diagnosis & radius\\_mean & texture\\_mean & perimeter\\_mean & area\\_mean & smoothness\\_mean & compactness\\_mean & concavity\\_mean & concave.points\\_mean & ⋯ & texture\\_worst & perimeter\\_worst & area\\_worst & smoothness\\_worst & compactness\\_worst & concavity\\_worst & concave.points\\_worst & symmetry\\_worst & fractal\\_dimension\\_worst & X\\\\\n",
       "  & <int> & <fct> & <dbl> & <dbl> & <dbl> & <dbl> & <dbl> & <dbl> & <dbl> & <dbl> & ⋯ & <dbl> & <dbl> & <dbl> & <dbl> & <dbl> & <dbl> & <dbl> & <dbl> & <dbl> & <lgl>\\\\\n",
       "\\hline\n",
       "\t1 &   842302 & M & 17.99 & 10.38 & 122.80 & 1001.0 & 0.11840 & 0.27760 & 0.3001 & 0.14710 & ⋯ & 17.33 & 184.60 & 2019.0 & 0.1622 & 0.6656 & 0.7119 & 0.2654 & 0.4601 & 0.11890 & NA\\\\\n",
       "\t2 &   842517 & M & 20.57 & 17.77 & 132.90 & 1326.0 & 0.08474 & 0.07864 & 0.0869 & 0.07017 & ⋯ & 23.41 & 158.80 & 1956.0 & 0.1238 & 0.1866 & 0.2416 & 0.1860 & 0.2750 & 0.08902 & NA\\\\\n",
       "\t3 & 84300903 & M & 19.69 & 21.25 & 130.00 & 1203.0 & 0.10960 & 0.15990 & 0.1974 & 0.12790 & ⋯ & 25.53 & 152.50 & 1709.0 & 0.1444 & 0.4245 & 0.4504 & 0.2430 & 0.3613 & 0.08758 & NA\\\\\n",
       "\t4 & 84348301 & M & 11.42 & 20.38 &  77.58 &  386.1 & 0.14250 & 0.28390 & 0.2414 & 0.10520 & ⋯ & 26.50 &  98.87 &  567.7 & 0.2098 & 0.8663 & 0.6869 & 0.2575 & 0.6638 & 0.17300 & NA\\\\\n",
       "\t5 & 84358402 & M & 20.29 & 14.34 & 135.10 & 1297.0 & 0.10030 & 0.13280 & 0.1980 & 0.10430 & ⋯ & 16.67 & 152.20 & 1575.0 & 0.1374 & 0.2050 & 0.4000 & 0.1625 & 0.2364 & 0.07678 & NA\\\\\n",
       "\t6 &   843786 & M & 12.45 & 15.70 &  82.57 &  477.1 & 0.12780 & 0.17000 & 0.1578 & 0.08089 & ⋯ & 23.75 & 103.40 &  741.6 & 0.1791 & 0.5249 & 0.5355 & 0.1741 & 0.3985 & 0.12440 & NA\\\\\n",
       "\\end{tabular}\n"
      ],
      "text/markdown": [
       "\n",
       "A data.frame: 6 × 33\n",
       "\n",
       "| <!--/--> | id &lt;int&gt; | diagnosis &lt;fct&gt; | radius_mean &lt;dbl&gt; | texture_mean &lt;dbl&gt; | perimeter_mean &lt;dbl&gt; | area_mean &lt;dbl&gt; | smoothness_mean &lt;dbl&gt; | compactness_mean &lt;dbl&gt; | concavity_mean &lt;dbl&gt; | concave.points_mean &lt;dbl&gt; | ⋯ ⋯ | texture_worst &lt;dbl&gt; | perimeter_worst &lt;dbl&gt; | area_worst &lt;dbl&gt; | smoothness_worst &lt;dbl&gt; | compactness_worst &lt;dbl&gt; | concavity_worst &lt;dbl&gt; | concave.points_worst &lt;dbl&gt; | symmetry_worst &lt;dbl&gt; | fractal_dimension_worst &lt;dbl&gt; | X &lt;lgl&gt; |\n",
       "|---|---|---|---|---|---|---|---|---|---|---|---|---|---|---|---|---|---|---|---|---|---|\n",
       "| 1 |   842302 | M | 17.99 | 10.38 | 122.80 | 1001.0 | 0.11840 | 0.27760 | 0.3001 | 0.14710 | ⋯ | 17.33 | 184.60 | 2019.0 | 0.1622 | 0.6656 | 0.7119 | 0.2654 | 0.4601 | 0.11890 | NA |\n",
       "| 2 |   842517 | M | 20.57 | 17.77 | 132.90 | 1326.0 | 0.08474 | 0.07864 | 0.0869 | 0.07017 | ⋯ | 23.41 | 158.80 | 1956.0 | 0.1238 | 0.1866 | 0.2416 | 0.1860 | 0.2750 | 0.08902 | NA |\n",
       "| 3 | 84300903 | M | 19.69 | 21.25 | 130.00 | 1203.0 | 0.10960 | 0.15990 | 0.1974 | 0.12790 | ⋯ | 25.53 | 152.50 | 1709.0 | 0.1444 | 0.4245 | 0.4504 | 0.2430 | 0.3613 | 0.08758 | NA |\n",
       "| 4 | 84348301 | M | 11.42 | 20.38 |  77.58 |  386.1 | 0.14250 | 0.28390 | 0.2414 | 0.10520 | ⋯ | 26.50 |  98.87 |  567.7 | 0.2098 | 0.8663 | 0.6869 | 0.2575 | 0.6638 | 0.17300 | NA |\n",
       "| 5 | 84358402 | M | 20.29 | 14.34 | 135.10 | 1297.0 | 0.10030 | 0.13280 | 0.1980 | 0.10430 | ⋯ | 16.67 | 152.20 | 1575.0 | 0.1374 | 0.2050 | 0.4000 | 0.1625 | 0.2364 | 0.07678 | NA |\n",
       "| 6 |   843786 | M | 12.45 | 15.70 |  82.57 |  477.1 | 0.12780 | 0.17000 | 0.1578 | 0.08089 | ⋯ | 23.75 | 103.40 |  741.6 | 0.1791 | 0.5249 | 0.5355 | 0.1741 | 0.3985 | 0.12440 | NA |\n",
       "\n"
      ],
      "text/plain": [
       "  id       diagnosis radius_mean texture_mean perimeter_mean area_mean\n",
       "1   842302 M         17.99       10.38        122.80         1001.0   \n",
       "2   842517 M         20.57       17.77        132.90         1326.0   \n",
       "3 84300903 M         19.69       21.25        130.00         1203.0   \n",
       "4 84348301 M         11.42       20.38         77.58          386.1   \n",
       "5 84358402 M         20.29       14.34        135.10         1297.0   \n",
       "6   843786 M         12.45       15.70         82.57          477.1   \n",
       "  smoothness_mean compactness_mean concavity_mean concave.points_mean ⋯\n",
       "1 0.11840         0.27760          0.3001         0.14710             ⋯\n",
       "2 0.08474         0.07864          0.0869         0.07017             ⋯\n",
       "3 0.10960         0.15990          0.1974         0.12790             ⋯\n",
       "4 0.14250         0.28390          0.2414         0.10520             ⋯\n",
       "5 0.10030         0.13280          0.1980         0.10430             ⋯\n",
       "6 0.12780         0.17000          0.1578         0.08089             ⋯\n",
       "  texture_worst perimeter_worst area_worst smoothness_worst compactness_worst\n",
       "1 17.33         184.60          2019.0     0.1622           0.6656           \n",
       "2 23.41         158.80          1956.0     0.1238           0.1866           \n",
       "3 25.53         152.50          1709.0     0.1444           0.4245           \n",
       "4 26.50          98.87           567.7     0.2098           0.8663           \n",
       "5 16.67         152.20          1575.0     0.1374           0.2050           \n",
       "6 23.75         103.40           741.6     0.1791           0.5249           \n",
       "  concavity_worst concave.points_worst symmetry_worst fractal_dimension_worst\n",
       "1 0.7119          0.2654               0.4601         0.11890                \n",
       "2 0.2416          0.1860               0.2750         0.08902                \n",
       "3 0.4504          0.2430               0.3613         0.08758                \n",
       "4 0.6869          0.2575               0.6638         0.17300                \n",
       "5 0.4000          0.1625               0.2364         0.07678                \n",
       "6 0.5355          0.1741               0.3985         0.12440                \n",
       "  X \n",
       "1 NA\n",
       "2 NA\n",
       "3 NA\n",
       "4 NA\n",
       "5 NA\n",
       "6 NA"
      ]
     },
     "metadata": {},
     "output_type": "display_data"
    }
   ],
   "source": [
    "# Verificando meus dados\n",
    "head(dados)"
   ]
  },
  {
   "cell_type": "code",
   "execution_count": 35,
   "id": "deeea900",
   "metadata": {
    "execution": {
     "iopub.execute_input": "2023-08-24T12:33:18.870056Z",
     "iopub.status.busy": "2023-08-24T12:33:18.867452Z",
     "iopub.status.idle": "2023-08-24T12:33:18.890056Z",
     "shell.execute_reply": "2023-08-24T12:33:18.887452Z"
    },
    "papermill": {
     "duration": 0.053546,
     "end_time": "2023-08-24T12:33:18.893336",
     "exception": false,
     "start_time": "2023-08-24T12:33:18.839790",
     "status": "completed"
    },
    "tags": []
   },
   "outputs": [],
   "source": [
    "# Apagando minhas colunas ID e X\n",
    "dados$id = NULL\n",
    "dados$X = NULL"
   ]
  },
  {
   "cell_type": "code",
   "execution_count": 36,
   "id": "2b6b61f4",
   "metadata": {
    "execution": {
     "iopub.execute_input": "2023-08-24T12:33:18.944844Z",
     "iopub.status.busy": "2023-08-24T12:33:18.942710Z",
     "iopub.status.idle": "2023-08-24T12:33:18.993080Z",
     "shell.execute_reply": "2023-08-24T12:33:18.990357Z"
    },
    "papermill": {
     "duration": 0.083758,
     "end_time": "2023-08-24T12:33:19.001828",
     "exception": false,
     "start_time": "2023-08-24T12:33:18.918070",
     "status": "completed"
    },
    "tags": []
   },
   "outputs": [
    {
     "data": {
      "text/html": [
       "<table class=\"dataframe\">\n",
       "<caption>A data.frame: 6 × 31</caption>\n",
       "<thead>\n",
       "\t<tr><th></th><th scope=col>diagnosis</th><th scope=col>radius_mean</th><th scope=col>texture_mean</th><th scope=col>perimeter_mean</th><th scope=col>area_mean</th><th scope=col>smoothness_mean</th><th scope=col>compactness_mean</th><th scope=col>concavity_mean</th><th scope=col>concave.points_mean</th><th scope=col>symmetry_mean</th><th scope=col>⋯</th><th scope=col>radius_worst</th><th scope=col>texture_worst</th><th scope=col>perimeter_worst</th><th scope=col>area_worst</th><th scope=col>smoothness_worst</th><th scope=col>compactness_worst</th><th scope=col>concavity_worst</th><th scope=col>concave.points_worst</th><th scope=col>symmetry_worst</th><th scope=col>fractal_dimension_worst</th></tr>\n",
       "\t<tr><th></th><th scope=col>&lt;fct&gt;</th><th scope=col>&lt;dbl&gt;</th><th scope=col>&lt;dbl&gt;</th><th scope=col>&lt;dbl&gt;</th><th scope=col>&lt;dbl&gt;</th><th scope=col>&lt;dbl&gt;</th><th scope=col>&lt;dbl&gt;</th><th scope=col>&lt;dbl&gt;</th><th scope=col>&lt;dbl&gt;</th><th scope=col>&lt;dbl&gt;</th><th scope=col>⋯</th><th scope=col>&lt;dbl&gt;</th><th scope=col>&lt;dbl&gt;</th><th scope=col>&lt;dbl&gt;</th><th scope=col>&lt;dbl&gt;</th><th scope=col>&lt;dbl&gt;</th><th scope=col>&lt;dbl&gt;</th><th scope=col>&lt;dbl&gt;</th><th scope=col>&lt;dbl&gt;</th><th scope=col>&lt;dbl&gt;</th><th scope=col>&lt;dbl&gt;</th></tr>\n",
       "</thead>\n",
       "<tbody>\n",
       "\t<tr><th scope=row>1</th><td>M</td><td>17.99</td><td>10.38</td><td>122.80</td><td>1001.0</td><td>0.11840</td><td>0.27760</td><td>0.3001</td><td>0.14710</td><td>0.2419</td><td>⋯</td><td>25.38</td><td>17.33</td><td>184.60</td><td>2019.0</td><td>0.1622</td><td>0.6656</td><td>0.7119</td><td>0.2654</td><td>0.4601</td><td>0.11890</td></tr>\n",
       "\t<tr><th scope=row>2</th><td>M</td><td>20.57</td><td>17.77</td><td>132.90</td><td>1326.0</td><td>0.08474</td><td>0.07864</td><td>0.0869</td><td>0.07017</td><td>0.1812</td><td>⋯</td><td>24.99</td><td>23.41</td><td>158.80</td><td>1956.0</td><td>0.1238</td><td>0.1866</td><td>0.2416</td><td>0.1860</td><td>0.2750</td><td>0.08902</td></tr>\n",
       "\t<tr><th scope=row>3</th><td>M</td><td>19.69</td><td>21.25</td><td>130.00</td><td>1203.0</td><td>0.10960</td><td>0.15990</td><td>0.1974</td><td>0.12790</td><td>0.2069</td><td>⋯</td><td>23.57</td><td>25.53</td><td>152.50</td><td>1709.0</td><td>0.1444</td><td>0.4245</td><td>0.4504</td><td>0.2430</td><td>0.3613</td><td>0.08758</td></tr>\n",
       "\t<tr><th scope=row>4</th><td>M</td><td>11.42</td><td>20.38</td><td> 77.58</td><td> 386.1</td><td>0.14250</td><td>0.28390</td><td>0.2414</td><td>0.10520</td><td>0.2597</td><td>⋯</td><td>14.91</td><td>26.50</td><td> 98.87</td><td> 567.7</td><td>0.2098</td><td>0.8663</td><td>0.6869</td><td>0.2575</td><td>0.6638</td><td>0.17300</td></tr>\n",
       "\t<tr><th scope=row>5</th><td>M</td><td>20.29</td><td>14.34</td><td>135.10</td><td>1297.0</td><td>0.10030</td><td>0.13280</td><td>0.1980</td><td>0.10430</td><td>0.1809</td><td>⋯</td><td>22.54</td><td>16.67</td><td>152.20</td><td>1575.0</td><td>0.1374</td><td>0.2050</td><td>0.4000</td><td>0.1625</td><td>0.2364</td><td>0.07678</td></tr>\n",
       "\t<tr><th scope=row>6</th><td>M</td><td>12.45</td><td>15.70</td><td> 82.57</td><td> 477.1</td><td>0.12780</td><td>0.17000</td><td>0.1578</td><td>0.08089</td><td>0.2087</td><td>⋯</td><td>15.47</td><td>23.75</td><td>103.40</td><td> 741.6</td><td>0.1791</td><td>0.5249</td><td>0.5355</td><td>0.1741</td><td>0.3985</td><td>0.12440</td></tr>\n",
       "</tbody>\n",
       "</table>\n"
      ],
      "text/latex": [
       "A data.frame: 6 × 31\n",
       "\\begin{tabular}{r|lllllllllllllllllllll}\n",
       "  & diagnosis & radius\\_mean & texture\\_mean & perimeter\\_mean & area\\_mean & smoothness\\_mean & compactness\\_mean & concavity\\_mean & concave.points\\_mean & symmetry\\_mean & ⋯ & radius\\_worst & texture\\_worst & perimeter\\_worst & area\\_worst & smoothness\\_worst & compactness\\_worst & concavity\\_worst & concave.points\\_worst & symmetry\\_worst & fractal\\_dimension\\_worst\\\\\n",
       "  & <fct> & <dbl> & <dbl> & <dbl> & <dbl> & <dbl> & <dbl> & <dbl> & <dbl> & <dbl> & ⋯ & <dbl> & <dbl> & <dbl> & <dbl> & <dbl> & <dbl> & <dbl> & <dbl> & <dbl> & <dbl>\\\\\n",
       "\\hline\n",
       "\t1 & M & 17.99 & 10.38 & 122.80 & 1001.0 & 0.11840 & 0.27760 & 0.3001 & 0.14710 & 0.2419 & ⋯ & 25.38 & 17.33 & 184.60 & 2019.0 & 0.1622 & 0.6656 & 0.7119 & 0.2654 & 0.4601 & 0.11890\\\\\n",
       "\t2 & M & 20.57 & 17.77 & 132.90 & 1326.0 & 0.08474 & 0.07864 & 0.0869 & 0.07017 & 0.1812 & ⋯ & 24.99 & 23.41 & 158.80 & 1956.0 & 0.1238 & 0.1866 & 0.2416 & 0.1860 & 0.2750 & 0.08902\\\\\n",
       "\t3 & M & 19.69 & 21.25 & 130.00 & 1203.0 & 0.10960 & 0.15990 & 0.1974 & 0.12790 & 0.2069 & ⋯ & 23.57 & 25.53 & 152.50 & 1709.0 & 0.1444 & 0.4245 & 0.4504 & 0.2430 & 0.3613 & 0.08758\\\\\n",
       "\t4 & M & 11.42 & 20.38 &  77.58 &  386.1 & 0.14250 & 0.28390 & 0.2414 & 0.10520 & 0.2597 & ⋯ & 14.91 & 26.50 &  98.87 &  567.7 & 0.2098 & 0.8663 & 0.6869 & 0.2575 & 0.6638 & 0.17300\\\\\n",
       "\t5 & M & 20.29 & 14.34 & 135.10 & 1297.0 & 0.10030 & 0.13280 & 0.1980 & 0.10430 & 0.1809 & ⋯ & 22.54 & 16.67 & 152.20 & 1575.0 & 0.1374 & 0.2050 & 0.4000 & 0.1625 & 0.2364 & 0.07678\\\\\n",
       "\t6 & M & 12.45 & 15.70 &  82.57 &  477.1 & 0.12780 & 0.17000 & 0.1578 & 0.08089 & 0.2087 & ⋯ & 15.47 & 23.75 & 103.40 &  741.6 & 0.1791 & 0.5249 & 0.5355 & 0.1741 & 0.3985 & 0.12440\\\\\n",
       "\\end{tabular}\n"
      ],
      "text/markdown": [
       "\n",
       "A data.frame: 6 × 31\n",
       "\n",
       "| <!--/--> | diagnosis &lt;fct&gt; | radius_mean &lt;dbl&gt; | texture_mean &lt;dbl&gt; | perimeter_mean &lt;dbl&gt; | area_mean &lt;dbl&gt; | smoothness_mean &lt;dbl&gt; | compactness_mean &lt;dbl&gt; | concavity_mean &lt;dbl&gt; | concave.points_mean &lt;dbl&gt; | symmetry_mean &lt;dbl&gt; | ⋯ ⋯ | radius_worst &lt;dbl&gt; | texture_worst &lt;dbl&gt; | perimeter_worst &lt;dbl&gt; | area_worst &lt;dbl&gt; | smoothness_worst &lt;dbl&gt; | compactness_worst &lt;dbl&gt; | concavity_worst &lt;dbl&gt; | concave.points_worst &lt;dbl&gt; | symmetry_worst &lt;dbl&gt; | fractal_dimension_worst &lt;dbl&gt; |\n",
       "|---|---|---|---|---|---|---|---|---|---|---|---|---|---|---|---|---|---|---|---|---|---|\n",
       "| 1 | M | 17.99 | 10.38 | 122.80 | 1001.0 | 0.11840 | 0.27760 | 0.3001 | 0.14710 | 0.2419 | ⋯ | 25.38 | 17.33 | 184.60 | 2019.0 | 0.1622 | 0.6656 | 0.7119 | 0.2654 | 0.4601 | 0.11890 |\n",
       "| 2 | M | 20.57 | 17.77 | 132.90 | 1326.0 | 0.08474 | 0.07864 | 0.0869 | 0.07017 | 0.1812 | ⋯ | 24.99 | 23.41 | 158.80 | 1956.0 | 0.1238 | 0.1866 | 0.2416 | 0.1860 | 0.2750 | 0.08902 |\n",
       "| 3 | M | 19.69 | 21.25 | 130.00 | 1203.0 | 0.10960 | 0.15990 | 0.1974 | 0.12790 | 0.2069 | ⋯ | 23.57 | 25.53 | 152.50 | 1709.0 | 0.1444 | 0.4245 | 0.4504 | 0.2430 | 0.3613 | 0.08758 |\n",
       "| 4 | M | 11.42 | 20.38 |  77.58 |  386.1 | 0.14250 | 0.28390 | 0.2414 | 0.10520 | 0.2597 | ⋯ | 14.91 | 26.50 |  98.87 |  567.7 | 0.2098 | 0.8663 | 0.6869 | 0.2575 | 0.6638 | 0.17300 |\n",
       "| 5 | M | 20.29 | 14.34 | 135.10 | 1297.0 | 0.10030 | 0.13280 | 0.1980 | 0.10430 | 0.1809 | ⋯ | 22.54 | 16.67 | 152.20 | 1575.0 | 0.1374 | 0.2050 | 0.4000 | 0.1625 | 0.2364 | 0.07678 |\n",
       "| 6 | M | 12.45 | 15.70 |  82.57 |  477.1 | 0.12780 | 0.17000 | 0.1578 | 0.08089 | 0.2087 | ⋯ | 15.47 | 23.75 | 103.40 |  741.6 | 0.1791 | 0.5249 | 0.5355 | 0.1741 | 0.3985 | 0.12440 |\n",
       "\n"
      ],
      "text/plain": [
       "  diagnosis radius_mean texture_mean perimeter_mean area_mean smoothness_mean\n",
       "1 M         17.99       10.38        122.80         1001.0    0.11840        \n",
       "2 M         20.57       17.77        132.90         1326.0    0.08474        \n",
       "3 M         19.69       21.25        130.00         1203.0    0.10960        \n",
       "4 M         11.42       20.38         77.58          386.1    0.14250        \n",
       "5 M         20.29       14.34        135.10         1297.0    0.10030        \n",
       "6 M         12.45       15.70         82.57          477.1    0.12780        \n",
       "  compactness_mean concavity_mean concave.points_mean symmetry_mean ⋯\n",
       "1 0.27760          0.3001         0.14710             0.2419        ⋯\n",
       "2 0.07864          0.0869         0.07017             0.1812        ⋯\n",
       "3 0.15990          0.1974         0.12790             0.2069        ⋯\n",
       "4 0.28390          0.2414         0.10520             0.2597        ⋯\n",
       "5 0.13280          0.1980         0.10430             0.1809        ⋯\n",
       "6 0.17000          0.1578         0.08089             0.2087        ⋯\n",
       "  radius_worst texture_worst perimeter_worst area_worst smoothness_worst\n",
       "1 25.38        17.33         184.60          2019.0     0.1622          \n",
       "2 24.99        23.41         158.80          1956.0     0.1238          \n",
       "3 23.57        25.53         152.50          1709.0     0.1444          \n",
       "4 14.91        26.50          98.87           567.7     0.2098          \n",
       "5 22.54        16.67         152.20          1575.0     0.1374          \n",
       "6 15.47        23.75         103.40           741.6     0.1791          \n",
       "  compactness_worst concavity_worst concave.points_worst symmetry_worst\n",
       "1 0.6656            0.7119          0.2654               0.4601        \n",
       "2 0.1866            0.2416          0.1860               0.2750        \n",
       "3 0.4245            0.4504          0.2430               0.3613        \n",
       "4 0.8663            0.6869          0.2575               0.6638        \n",
       "5 0.2050            0.4000          0.1625               0.2364        \n",
       "6 0.5249            0.5355          0.1741               0.3985        \n",
       "  fractal_dimension_worst\n",
       "1 0.11890                \n",
       "2 0.08902                \n",
       "3 0.08758                \n",
       "4 0.17300                \n",
       "5 0.07678                \n",
       "6 0.12440                "
      ]
     },
     "metadata": {},
     "output_type": "display_data"
    }
   ],
   "source": [
    "head(dados)"
   ]
  },
  {
   "cell_type": "code",
   "execution_count": 37,
   "id": "5f55f9e8",
   "metadata": {
    "execution": {
     "iopub.execute_input": "2023-08-24T12:33:19.050705Z",
     "iopub.status.busy": "2023-08-24T12:33:19.048864Z",
     "iopub.status.idle": "2023-08-24T12:33:19.066710Z",
     "shell.execute_reply": "2023-08-24T12:33:19.064698Z"
    },
    "papermill": {
     "duration": 0.04783,
     "end_time": "2023-08-24T12:33:19.070535",
     "exception": false,
     "start_time": "2023-08-24T12:33:19.022705",
     "status": "completed"
    },
    "tags": []
   },
   "outputs": [],
   "source": [
    "# Criando uma nova coluna index com meus valores 0 e 1 para as previsões\n",
    "dados[, 'index'] = ifelse(runif(nrow(dados))< 0.8, 1, 0)"
   ]
  },
  {
   "cell_type": "code",
   "execution_count": 38,
   "id": "9079311c",
   "metadata": {
    "execution": {
     "iopub.execute_input": "2023-08-24T12:33:19.117925Z",
     "iopub.status.busy": "2023-08-24T12:33:19.116224Z",
     "iopub.status.idle": "2023-08-24T12:33:19.168029Z",
     "shell.execute_reply": "2023-08-24T12:33:19.165333Z"
    },
    "papermill": {
     "duration": 0.079327,
     "end_time": "2023-08-24T12:33:19.171616",
     "exception": false,
     "start_time": "2023-08-24T12:33:19.092289",
     "status": "completed"
    },
    "tags": []
   },
   "outputs": [
    {
     "data": {
      "text/html": [
       "<table class=\"dataframe\">\n",
       "<caption>A data.frame: 6 × 32</caption>\n",
       "<thead>\n",
       "\t<tr><th></th><th scope=col>diagnosis</th><th scope=col>radius_mean</th><th scope=col>texture_mean</th><th scope=col>perimeter_mean</th><th scope=col>area_mean</th><th scope=col>smoothness_mean</th><th scope=col>compactness_mean</th><th scope=col>concavity_mean</th><th scope=col>concave.points_mean</th><th scope=col>symmetry_mean</th><th scope=col>⋯</th><th scope=col>texture_worst</th><th scope=col>perimeter_worst</th><th scope=col>area_worst</th><th scope=col>smoothness_worst</th><th scope=col>compactness_worst</th><th scope=col>concavity_worst</th><th scope=col>concave.points_worst</th><th scope=col>symmetry_worst</th><th scope=col>fractal_dimension_worst</th><th scope=col>index</th></tr>\n",
       "\t<tr><th></th><th scope=col>&lt;fct&gt;</th><th scope=col>&lt;dbl&gt;</th><th scope=col>&lt;dbl&gt;</th><th scope=col>&lt;dbl&gt;</th><th scope=col>&lt;dbl&gt;</th><th scope=col>&lt;dbl&gt;</th><th scope=col>&lt;dbl&gt;</th><th scope=col>&lt;dbl&gt;</th><th scope=col>&lt;dbl&gt;</th><th scope=col>&lt;dbl&gt;</th><th scope=col>⋯</th><th scope=col>&lt;dbl&gt;</th><th scope=col>&lt;dbl&gt;</th><th scope=col>&lt;dbl&gt;</th><th scope=col>&lt;dbl&gt;</th><th scope=col>&lt;dbl&gt;</th><th scope=col>&lt;dbl&gt;</th><th scope=col>&lt;dbl&gt;</th><th scope=col>&lt;dbl&gt;</th><th scope=col>&lt;dbl&gt;</th><th scope=col>&lt;dbl&gt;</th></tr>\n",
       "</thead>\n",
       "<tbody>\n",
       "\t<tr><th scope=row>1</th><td>M</td><td>17.99</td><td>10.38</td><td>122.80</td><td>1001.0</td><td>0.11840</td><td>0.27760</td><td>0.3001</td><td>0.14710</td><td>0.2419</td><td>⋯</td><td>17.33</td><td>184.60</td><td>2019.0</td><td>0.1622</td><td>0.6656</td><td>0.7119</td><td>0.2654</td><td>0.4601</td><td>0.11890</td><td>1</td></tr>\n",
       "\t<tr><th scope=row>2</th><td>M</td><td>20.57</td><td>17.77</td><td>132.90</td><td>1326.0</td><td>0.08474</td><td>0.07864</td><td>0.0869</td><td>0.07017</td><td>0.1812</td><td>⋯</td><td>23.41</td><td>158.80</td><td>1956.0</td><td>0.1238</td><td>0.1866</td><td>0.2416</td><td>0.1860</td><td>0.2750</td><td>0.08902</td><td>1</td></tr>\n",
       "\t<tr><th scope=row>3</th><td>M</td><td>19.69</td><td>21.25</td><td>130.00</td><td>1203.0</td><td>0.10960</td><td>0.15990</td><td>0.1974</td><td>0.12790</td><td>0.2069</td><td>⋯</td><td>25.53</td><td>152.50</td><td>1709.0</td><td>0.1444</td><td>0.4245</td><td>0.4504</td><td>0.2430</td><td>0.3613</td><td>0.08758</td><td>1</td></tr>\n",
       "\t<tr><th scope=row>4</th><td>M</td><td>11.42</td><td>20.38</td><td> 77.58</td><td> 386.1</td><td>0.14250</td><td>0.28390</td><td>0.2414</td><td>0.10520</td><td>0.2597</td><td>⋯</td><td>26.50</td><td> 98.87</td><td> 567.7</td><td>0.2098</td><td>0.8663</td><td>0.6869</td><td>0.2575</td><td>0.6638</td><td>0.17300</td><td>1</td></tr>\n",
       "\t<tr><th scope=row>5</th><td>M</td><td>20.29</td><td>14.34</td><td>135.10</td><td>1297.0</td><td>0.10030</td><td>0.13280</td><td>0.1980</td><td>0.10430</td><td>0.1809</td><td>⋯</td><td>16.67</td><td>152.20</td><td>1575.0</td><td>0.1374</td><td>0.2050</td><td>0.4000</td><td>0.1625</td><td>0.2364</td><td>0.07678</td><td>1</td></tr>\n",
       "\t<tr><th scope=row>6</th><td>M</td><td>12.45</td><td>15.70</td><td> 82.57</td><td> 477.1</td><td>0.12780</td><td>0.17000</td><td>0.1578</td><td>0.08089</td><td>0.2087</td><td>⋯</td><td>23.75</td><td>103.40</td><td> 741.6</td><td>0.1791</td><td>0.5249</td><td>0.5355</td><td>0.1741</td><td>0.3985</td><td>0.12440</td><td>1</td></tr>\n",
       "</tbody>\n",
       "</table>\n"
      ],
      "text/latex": [
       "A data.frame: 6 × 32\n",
       "\\begin{tabular}{r|lllllllllllllllllllll}\n",
       "  & diagnosis & radius\\_mean & texture\\_mean & perimeter\\_mean & area\\_mean & smoothness\\_mean & compactness\\_mean & concavity\\_mean & concave.points\\_mean & symmetry\\_mean & ⋯ & texture\\_worst & perimeter\\_worst & area\\_worst & smoothness\\_worst & compactness\\_worst & concavity\\_worst & concave.points\\_worst & symmetry\\_worst & fractal\\_dimension\\_worst & index\\\\\n",
       "  & <fct> & <dbl> & <dbl> & <dbl> & <dbl> & <dbl> & <dbl> & <dbl> & <dbl> & <dbl> & ⋯ & <dbl> & <dbl> & <dbl> & <dbl> & <dbl> & <dbl> & <dbl> & <dbl> & <dbl> & <dbl>\\\\\n",
       "\\hline\n",
       "\t1 & M & 17.99 & 10.38 & 122.80 & 1001.0 & 0.11840 & 0.27760 & 0.3001 & 0.14710 & 0.2419 & ⋯ & 17.33 & 184.60 & 2019.0 & 0.1622 & 0.6656 & 0.7119 & 0.2654 & 0.4601 & 0.11890 & 1\\\\\n",
       "\t2 & M & 20.57 & 17.77 & 132.90 & 1326.0 & 0.08474 & 0.07864 & 0.0869 & 0.07017 & 0.1812 & ⋯ & 23.41 & 158.80 & 1956.0 & 0.1238 & 0.1866 & 0.2416 & 0.1860 & 0.2750 & 0.08902 & 1\\\\\n",
       "\t3 & M & 19.69 & 21.25 & 130.00 & 1203.0 & 0.10960 & 0.15990 & 0.1974 & 0.12790 & 0.2069 & ⋯ & 25.53 & 152.50 & 1709.0 & 0.1444 & 0.4245 & 0.4504 & 0.2430 & 0.3613 & 0.08758 & 1\\\\\n",
       "\t4 & M & 11.42 & 20.38 &  77.58 &  386.1 & 0.14250 & 0.28390 & 0.2414 & 0.10520 & 0.2597 & ⋯ & 26.50 &  98.87 &  567.7 & 0.2098 & 0.8663 & 0.6869 & 0.2575 & 0.6638 & 0.17300 & 1\\\\\n",
       "\t5 & M & 20.29 & 14.34 & 135.10 & 1297.0 & 0.10030 & 0.13280 & 0.1980 & 0.10430 & 0.1809 & ⋯ & 16.67 & 152.20 & 1575.0 & 0.1374 & 0.2050 & 0.4000 & 0.1625 & 0.2364 & 0.07678 & 1\\\\\n",
       "\t6 & M & 12.45 & 15.70 &  82.57 &  477.1 & 0.12780 & 0.17000 & 0.1578 & 0.08089 & 0.2087 & ⋯ & 23.75 & 103.40 &  741.6 & 0.1791 & 0.5249 & 0.5355 & 0.1741 & 0.3985 & 0.12440 & 1\\\\\n",
       "\\end{tabular}\n"
      ],
      "text/markdown": [
       "\n",
       "A data.frame: 6 × 32\n",
       "\n",
       "| <!--/--> | diagnosis &lt;fct&gt; | radius_mean &lt;dbl&gt; | texture_mean &lt;dbl&gt; | perimeter_mean &lt;dbl&gt; | area_mean &lt;dbl&gt; | smoothness_mean &lt;dbl&gt; | compactness_mean &lt;dbl&gt; | concavity_mean &lt;dbl&gt; | concave.points_mean &lt;dbl&gt; | symmetry_mean &lt;dbl&gt; | ⋯ ⋯ | texture_worst &lt;dbl&gt; | perimeter_worst &lt;dbl&gt; | area_worst &lt;dbl&gt; | smoothness_worst &lt;dbl&gt; | compactness_worst &lt;dbl&gt; | concavity_worst &lt;dbl&gt; | concave.points_worst &lt;dbl&gt; | symmetry_worst &lt;dbl&gt; | fractal_dimension_worst &lt;dbl&gt; | index &lt;dbl&gt; |\n",
       "|---|---|---|---|---|---|---|---|---|---|---|---|---|---|---|---|---|---|---|---|---|---|\n",
       "| 1 | M | 17.99 | 10.38 | 122.80 | 1001.0 | 0.11840 | 0.27760 | 0.3001 | 0.14710 | 0.2419 | ⋯ | 17.33 | 184.60 | 2019.0 | 0.1622 | 0.6656 | 0.7119 | 0.2654 | 0.4601 | 0.11890 | 1 |\n",
       "| 2 | M | 20.57 | 17.77 | 132.90 | 1326.0 | 0.08474 | 0.07864 | 0.0869 | 0.07017 | 0.1812 | ⋯ | 23.41 | 158.80 | 1956.0 | 0.1238 | 0.1866 | 0.2416 | 0.1860 | 0.2750 | 0.08902 | 1 |\n",
       "| 3 | M | 19.69 | 21.25 | 130.00 | 1203.0 | 0.10960 | 0.15990 | 0.1974 | 0.12790 | 0.2069 | ⋯ | 25.53 | 152.50 | 1709.0 | 0.1444 | 0.4245 | 0.4504 | 0.2430 | 0.3613 | 0.08758 | 1 |\n",
       "| 4 | M | 11.42 | 20.38 |  77.58 |  386.1 | 0.14250 | 0.28390 | 0.2414 | 0.10520 | 0.2597 | ⋯ | 26.50 |  98.87 |  567.7 | 0.2098 | 0.8663 | 0.6869 | 0.2575 | 0.6638 | 0.17300 | 1 |\n",
       "| 5 | M | 20.29 | 14.34 | 135.10 | 1297.0 | 0.10030 | 0.13280 | 0.1980 | 0.10430 | 0.1809 | ⋯ | 16.67 | 152.20 | 1575.0 | 0.1374 | 0.2050 | 0.4000 | 0.1625 | 0.2364 | 0.07678 | 1 |\n",
       "| 6 | M | 12.45 | 15.70 |  82.57 |  477.1 | 0.12780 | 0.17000 | 0.1578 | 0.08089 | 0.2087 | ⋯ | 23.75 | 103.40 |  741.6 | 0.1791 | 0.5249 | 0.5355 | 0.1741 | 0.3985 | 0.12440 | 1 |\n",
       "\n"
      ],
      "text/plain": [
       "  diagnosis radius_mean texture_mean perimeter_mean area_mean smoothness_mean\n",
       "1 M         17.99       10.38        122.80         1001.0    0.11840        \n",
       "2 M         20.57       17.77        132.90         1326.0    0.08474        \n",
       "3 M         19.69       21.25        130.00         1203.0    0.10960        \n",
       "4 M         11.42       20.38         77.58          386.1    0.14250        \n",
       "5 M         20.29       14.34        135.10         1297.0    0.10030        \n",
       "6 M         12.45       15.70         82.57          477.1    0.12780        \n",
       "  compactness_mean concavity_mean concave.points_mean symmetry_mean ⋯\n",
       "1 0.27760          0.3001         0.14710             0.2419        ⋯\n",
       "2 0.07864          0.0869         0.07017             0.1812        ⋯\n",
       "3 0.15990          0.1974         0.12790             0.2069        ⋯\n",
       "4 0.28390          0.2414         0.10520             0.2597        ⋯\n",
       "5 0.13280          0.1980         0.10430             0.1809        ⋯\n",
       "6 0.17000          0.1578         0.08089             0.2087        ⋯\n",
       "  texture_worst perimeter_worst area_worst smoothness_worst compactness_worst\n",
       "1 17.33         184.60          2019.0     0.1622           0.6656           \n",
       "2 23.41         158.80          1956.0     0.1238           0.1866           \n",
       "3 25.53         152.50          1709.0     0.1444           0.4245           \n",
       "4 26.50          98.87           567.7     0.2098           0.8663           \n",
       "5 16.67         152.20          1575.0     0.1374           0.2050           \n",
       "6 23.75         103.40           741.6     0.1791           0.5249           \n",
       "  concavity_worst concave.points_worst symmetry_worst fractal_dimension_worst\n",
       "1 0.7119          0.2654               0.4601         0.11890                \n",
       "2 0.2416          0.1860               0.2750         0.08902                \n",
       "3 0.4504          0.2430               0.3613         0.08758                \n",
       "4 0.6869          0.2575               0.6638         0.17300                \n",
       "5 0.4000          0.1625               0.2364         0.07678                \n",
       "6 0.5355          0.1741               0.3985         0.12440                \n",
       "  index\n",
       "1 1    \n",
       "2 1    \n",
       "3 1    \n",
       "4 1    \n",
       "5 1    \n",
       "6 1    "
      ]
     },
     "metadata": {},
     "output_type": "display_data"
    }
   ],
   "source": [
    "# Verificando meus dados\n",
    "head(dados)"
   ]
  },
  {
   "cell_type": "code",
   "execution_count": 39,
   "id": "5f640ac2",
   "metadata": {
    "execution": {
     "iopub.execute_input": "2023-08-24T12:33:19.219172Z",
     "iopub.status.busy": "2023-08-24T12:33:19.217450Z",
     "iopub.status.idle": "2023-08-24T12:33:19.238107Z",
     "shell.execute_reply": "2023-08-24T12:33:19.235662Z"
    },
    "papermill": {
     "duration": 0.048458,
     "end_time": "2023-08-24T12:33:19.242114",
     "exception": false,
     "start_time": "2023-08-24T12:33:19.193656",
     "status": "completed"
    },
    "tags": []
   },
   "outputs": [],
   "source": [
    "# Criando duas variaveis de treino e teste onde treino so valores com 1 e teste com valores 0\n",
    "trainset = dados[dados$index == 1,]\n",
    "testset = dados[dados$index == 0, ]"
   ]
  },
  {
   "cell_type": "code",
   "execution_count": 40,
   "id": "73851edf",
   "metadata": {
    "execution": {
     "iopub.execute_input": "2023-08-24T12:33:19.293330Z",
     "iopub.status.busy": "2023-08-24T12:33:19.291571Z",
     "iopub.status.idle": "2023-08-24T12:33:19.309529Z",
     "shell.execute_reply": "2023-08-24T12:33:19.306945Z"
    },
    "papermill": {
     "duration": 0.047675,
     "end_time": "2023-08-24T12:33:19.313386",
     "exception": false,
     "start_time": "2023-08-24T12:33:19.265711",
     "status": "completed"
    },
    "tags": []
   },
   "outputs": [],
   "source": [
    "# Obtendo nosso Inice\n",
    "trainColnum = grep('index', names(trainset))"
   ]
  },
  {
   "cell_type": "code",
   "execution_count": 41,
   "id": "7f483b2a",
   "metadata": {
    "execution": {
     "iopub.execute_input": "2023-08-24T12:33:19.361868Z",
     "iopub.status.busy": "2023-08-24T12:33:19.360048Z",
     "iopub.status.idle": "2023-08-24T12:33:19.379008Z",
     "shell.execute_reply": "2023-08-24T12:33:19.377145Z"
    },
    "papermill": {
     "duration": 0.04692,
     "end_time": "2023-08-24T12:33:19.382276",
     "exception": false,
     "start_time": "2023-08-24T12:33:19.335356",
     "status": "completed"
    },
    "tags": []
   },
   "outputs": [
    {
     "data": {
      "text/html": [
       "32"
      ],
      "text/latex": [
       "32"
      ],
      "text/markdown": [
       "32"
      ],
      "text/plain": [
       "[1] 32"
      ]
     },
     "metadata": {},
     "output_type": "display_data"
    }
   ],
   "source": [
    "# Verifciando meus indices\n",
    "trainColnum"
   ]
  },
  {
   "cell_type": "code",
   "execution_count": 42,
   "id": "d6bf37b4",
   "metadata": {
    "execution": {
     "iopub.execute_input": "2023-08-24T12:33:19.437691Z",
     "iopub.status.busy": "2023-08-24T12:33:19.435738Z",
     "iopub.status.idle": "2023-08-24T12:33:19.455519Z",
     "shell.execute_reply": "2023-08-24T12:33:19.453178Z"
    },
    "papermill": {
     "duration": 0.050684,
     "end_time": "2023-08-24T12:33:19.458840",
     "exception": false,
     "start_time": "2023-08-24T12:33:19.408156",
     "status": "completed"
    },
    "tags": []
   },
   "outputs": [],
   "source": [
    "# Removendo meus indices dos datasets traintest e testset\n",
    "trainset = trainset[, -trainColnum]\n",
    "testset = testset[, -trainColnum]"
   ]
  },
  {
   "cell_type": "code",
   "execution_count": 43,
   "id": "6535797a",
   "metadata": {
    "execution": {
     "iopub.execute_input": "2023-08-24T12:33:19.514991Z",
     "iopub.status.busy": "2023-08-24T12:33:19.513228Z",
     "iopub.status.idle": "2023-08-24T12:33:19.530820Z",
     "shell.execute_reply": "2023-08-24T12:33:19.528651Z"
    },
    "papermill": {
     "duration": 0.050149,
     "end_time": "2023-08-24T12:33:19.534276",
     "exception": false,
     "start_time": "2023-08-24T12:33:19.484127",
     "status": "completed"
    },
    "tags": []
   },
   "outputs": [],
   "source": [
    "# Obtendo o indice da nosso coluna Target ou seja \"alvo\"\n",
    "typeColNum = grep('diag', names(dados))"
   ]
  },
  {
   "cell_type": "code",
   "execution_count": 44,
   "id": "036314c3",
   "metadata": {
    "execution": {
     "iopub.execute_input": "2023-08-24T12:33:19.591364Z",
     "iopub.status.busy": "2023-08-24T12:33:19.589438Z",
     "iopub.status.idle": "2023-08-24T12:33:19.709544Z",
     "shell.execute_reply": "2023-08-24T12:33:19.707482Z"
    },
    "papermill": {
     "duration": 0.16228,
     "end_time": "2023-08-24T12:33:19.719434",
     "exception": false,
     "start_time": "2023-08-24T12:33:19.557154",
     "status": "completed"
    },
    "tags": []
   },
   "outputs": [],
   "source": [
    "# Criando nosso modelo SVM, iremos ultilizar o kernel como \"radial\", pois os dados não temos um plano linear que pode ser desenhado\n",
    "library(e1071)\n",
    "modelo_svm_v1 = svm(diagnosis ~., data = trainset,type = 'C-classification', kernel = 'radial')"
   ]
  },
  {
   "cell_type": "code",
   "execution_count": 45,
   "id": "a7807c20",
   "metadata": {
    "execution": {
     "iopub.execute_input": "2023-08-24T12:33:19.771449Z",
     "iopub.status.busy": "2023-08-24T12:33:19.769746Z",
     "iopub.status.idle": "2023-08-24T12:33:19.793296Z",
     "shell.execute_reply": "2023-08-24T12:33:19.791362Z"
    },
    "papermill": {
     "duration": 0.053689,
     "end_time": "2023-08-24T12:33:19.796439",
     "exception": false,
     "start_time": "2023-08-24T12:33:19.742750",
     "status": "completed"
    },
    "tags": []
   },
   "outputs": [],
   "source": [
    "# Fazendo nssas previsoes nos dados de treino\n",
    "pred_train = predict(modelo_svm_v1, trainset)"
   ]
  },
  {
   "cell_type": "code",
   "execution_count": 46,
   "id": "a45ab9df",
   "metadata": {
    "execution": {
     "iopub.execute_input": "2023-08-24T12:33:19.854113Z",
     "iopub.status.busy": "2023-08-24T12:33:19.852129Z",
     "iopub.status.idle": "2023-08-24T12:33:19.888732Z",
     "shell.execute_reply": "2023-08-24T12:33:19.886552Z"
    },
    "papermill": {
     "duration": 0.068318,
     "end_time": "2023-08-24T12:33:19.892032",
     "exception": false,
     "start_time": "2023-08-24T12:33:19.823714",
     "status": "completed"
    },
    "tags": []
   },
   "outputs": [
    {
     "data": {
      "text/html": [
       "<style>\n",
       ".dl-inline {width: auto; margin:0; padding: 0}\n",
       ".dl-inline>dt, .dl-inline>dd {float: none; width: auto; display: inline-block}\n",
       ".dl-inline>dt::after {content: \":\\0020\"; padding-right: .5ex}\n",
       ".dl-inline>dt:not(:first-of-type) {padding-left: .5ex}\n",
       "</style><dl class=dl-inline><dt>1</dt><dd>M</dd><dt>2</dt><dd>M</dd><dt>3</dt><dd>M</dd><dt>4</dt><dd>M</dd><dt>5</dt><dd>M</dd><dt>6</dt><dd>M</dd><dt>7</dt><dd>M</dd><dt>8</dt><dd>M</dd><dt>10</dt><dd>M</dd><dt>11</dt><dd>M</dd><dt>12</dt><dd>M</dd><dt>13</dt><dd>M</dd><dt>15</dt><dd>M</dd><dt>17</dt><dd>M</dd><dt>18</dt><dd>M</dd><dt>19</dt><dd>M</dd><dt>20</dt><dd>B</dd><dt>22</dt><dd>B</dd><dt>23</dt><dd>M</dd><dt>24</dt><dd>M</dd><dt>26</dt><dd>M</dd><dt>27</dt><dd>M</dd><dt>28</dt><dd>M</dd><dt>29</dt><dd>M</dd><dt>30</dt><dd>M</dd><dt>33</dt><dd>M</dd><dt>34</dt><dd>M</dd><dt>36</dt><dd>M</dd><dt>37</dt><dd>M</dd><dt>38</dt><dd>B</dd><dt>39</dt><dd>M</dd><dt>40</dt><dd>M</dd><dt>41</dt><dd>B</dd><dt>42</dt><dd>M</dd><dt>45</dt><dd>M</dd><dt>46</dt><dd>M</dd><dt>47</dt><dd>B</dd><dt>48</dt><dd>M</dd><dt>49</dt><dd>B</dd><dt>50</dt><dd>B</dd><dt>51</dt><dd>B</dd><dt>52</dt><dd>B</dd><dt>53</dt><dd>B</dd><dt>54</dt><dd>M</dd><dt>55</dt><dd>M</dd><dt>57</dt><dd>M</dd><dt>59</dt><dd>B</dd><dt>60</dt><dd>B</dd><dt>61</dt><dd>B</dd><dt>63</dt><dd>M</dd><dt>65</dt><dd>M</dd><dt>66</dt><dd>M</dd><dt>68</dt><dd>B</dd><dt>70</dt><dd>B</dd><dt>72</dt><dd>B</dd><dt>73</dt><dd>M</dd><dt>74</dt><dd>B</dd><dt>75</dt><dd>B</dd><dt>76</dt><dd>M</dd><dt>77</dt><dd>B</dd><dt>78</dt><dd>M</dd><dt>79</dt><dd>M</dd><dt>80</dt><dd>B</dd><dt>81</dt><dd>B</dd><dt>83</dt><dd>M</dd><dt>84</dt><dd>M</dd><dt>86</dt><dd>M</dd><dt>87</dt><dd>M</dd><dt>88</dt><dd>M</dd><dt>89</dt><dd>B</dd><dt>90</dt><dd>B</dd><dt>91</dt><dd>B</dd><dt>92</dt><dd>M</dd><dt>93</dt><dd>B</dd><dt>94</dt><dd>B</dd><dt>95</dt><dd>M</dd><dt>96</dt><dd>M</dd><dt>97</dt><dd>B</dd><dt>98</dt><dd>B</dd><dt>99</dt><dd>B</dd><dt>101</dt><dd>M</dd><dt>102</dt><dd>B</dd><dt>103</dt><dd>B</dd><dt>104</dt><dd>B</dd><dt>107</dt><dd>B</dd><dt>108</dt><dd>B</dd><dt>110</dt><dd>B</dd><dt>111</dt><dd>B</dd><dt>112</dt><dd>B</dd><dt>113</dt><dd>B</dd><dt>114</dt><dd>B</dd><dt>115</dt><dd>B</dd><dt>116</dt><dd>B</dd><dt>117</dt><dd>B</dd><dt>118</dt><dd>M</dd><dt>119</dt><dd>M</dd><dt>120</dt><dd>M</dd><dt>121</dt><dd>B</dd><dt>122</dt><dd>M</dd><dt>123</dt><dd>M</dd><dt>126</dt><dd>B</dd><dt>127</dt><dd>M</dd><dt>129</dt><dd>B</dd><dt>130</dt><dd>M</dd><dt>131</dt><dd>B</dd><dt>133</dt><dd>M</dd><dt>134</dt><dd>B</dd><dt>135</dt><dd>M</dd><dt>136</dt><dd>B</dd><dt>137</dt><dd>B</dd><dt>138</dt><dd>B</dd><dt>140</dt><dd>B</dd><dt>141</dt><dd>B</dd><dt>142</dt><dd>M</dd><dt>143</dt><dd>B</dd><dt>144</dt><dd>B</dd><dt>145</dt><dd>B</dd><dt>146</dt><dd>B</dd><dt>147</dt><dd>M</dd><dt>148</dt><dd>B</dd><dt>150</dt><dd>B</dd><dt>151</dt><dd>B</dd><dt>152</dt><dd>B</dd><dt>153</dt><dd>B</dd><dt>154</dt><dd>B</dd><dt>156</dt><dd>B</dd><dt>157</dt><dd>M</dd><dt>159</dt><dd>B</dd><dt>160</dt><dd>B</dd><dt>161</dt><dd>B</dd><dt>162</dt><dd>M</dd><dt>163</dt><dd>M</dd><dt>164</dt><dd>B</dd><dt>165</dt><dd>M</dd><dt>166</dt><dd>B</dd><dt>168</dt><dd>M</dd><dt>170</dt><dd>B</dd><dt>171</dt><dd>B</dd><dt>172</dt><dd>M</dd><dt>173</dt><dd>M</dd><dt>174</dt><dd>B</dd><dt>176</dt><dd>B</dd><dt>179</dt><dd>B</dd><dt>180</dt><dd>B</dd><dt>181</dt><dd>M</dd><dt>182</dt><dd>M</dd><dt>183</dt><dd>M</dd><dt>184</dt><dd>B</dd><dt>185</dt><dd>M</dd><dt>186</dt><dd>B</dd><dt>187</dt><dd>M</dd><dt>188</dt><dd>B</dd><dt>189</dt><dd>B</dd><dt>190</dt><dd>B</dd><dt>191</dt><dd>M</dd><dt>193</dt><dd>B</dd><dt>194</dt><dd>M</dd><dt>195</dt><dd>M</dd><dt>196</dt><dd>B</dd><dt>197</dt><dd>M</dd><dt>199</dt><dd>M</dd><dt>200</dt><dd>M</dd><dt>201</dt><dd>B</dd><dt>202</dt><dd>M</dd><dt>203</dt><dd>M</dd><dt>204</dt><dd>M</dd><dt>205</dt><dd>B</dd><dt>207</dt><dd>B</dd><dt>209</dt><dd>B</dd><dt>210</dt><dd>B</dd><dt>211</dt><dd>M</dd><dt>212</dt><dd>B</dd><dt>214</dt><dd>M</dd><dt>215</dt><dd>M</dd><dt>216</dt><dd>M</dd><dt>217</dt><dd>B</dd><dt>218</dt><dd>B</dd><dt>220</dt><dd>M</dd><dt>221</dt><dd>B</dd><dt>223</dt><dd>B</dd><dt>225</dt><dd>B</dd><dt>226</dt><dd>B</dd><dt>228</dt><dd>B</dd><dt>229</dt><dd>B</dd><dt>230</dt><dd>M</dd><dt>231</dt><dd>M</dd><dt>232</dt><dd>B</dd><dt>233</dt><dd>B</dd><dt>234</dt><dd>M</dd><dt>235</dt><dd>B</dd><dt>236</dt><dd>B</dd><dt>237</dt><dd>M</dd><dt>239</dt><dd>B</dd><dt>240</dt><dd>M</dd><dt>241</dt><dd>B</dd><dt>242</dt><dd>B</dd><dt>243</dt><dd>B</dd><dt>244</dt><dd>B</dd><dt>247</dt><dd>B</dd><dt>248</dt><dd>B</dd><dt>249</dt><dd>⋯</dd><dt>250</dt><dd>M</dd><dt>251</dt><dd>B</dd><dt>252</dt><dd>M</dd><dt>253</dt><dd>B</dd><dt>254</dt><dd>B</dd><dt>255</dt><dd>M</dd><dt>256</dt><dd>M</dd><dt>258</dt><dd>B</dd><dt>259</dt><dd>B</dd><dt>260</dt><dd>B</dd><dt>262</dt><dd>B</dd><dt>263</dt><dd>M</dd><dt>264</dt><dd>B</dd><dt>265</dt><dd>M</dd><dt>268</dt><dd>B</dd><dt>269</dt><dd>M</dd><dt>271</dt><dd>B</dd><dt>272</dt><dd>B</dd><dt>273</dt><dd>B</dd><dt>274</dt><dd>M</dd><dt>275</dt><dd>B</dd><dt>276</dt><dd>B</dd><dt>277</dt><dd>B</dd><dt>278</dt><dd>B</dd><dt>280</dt><dd>B</dd><dt>281</dt><dd>B</dd><dt>282</dt><dd>M</dd><dt>283</dt><dd>M</dd><dt>284</dt><dd>B</dd><dt>285</dt><dd>B</dd><dt>287</dt><dd>B</dd><dt>288</dt><dd>B</dd><dt>289</dt><dd>B</dd><dt>290</dt><dd>B</dd><dt>291</dt><dd>B</dd><dt>292</dt><dd>B</dd><dt>294</dt><dd>M</dd><dt>295</dt><dd>M</dd><dt>296</dt><dd>B</dd><dt>297</dt><dd>M</dd><dt>298</dt><dd>M</dd><dt>300</dt><dd>B</dd><dt>301</dt><dd>M</dd><dt>302</dt><dd>B</dd><dt>304</dt><dd>B</dd><dt>305</dt><dd>B</dd><dt>306</dt><dd>M</dd><dt>308</dt><dd>B</dd><dt>309</dt><dd>B</dd><dt>310</dt><dd>B</dd><dt>312</dt><dd>B</dd><dt>313</dt><dd>B</dd><dt>314</dt><dd>M</dd><dt>316</dt><dd>B</dd><dt>318</dt><dd>B</dd><dt>320</dt><dd>B</dd><dt>321</dt><dd>M</dd><dt>322</dt><dd>B</dd><dt>323</dt><dd>B</dd><dt>324</dt><dd>M</dd><dt>326</dt><dd>M</dd><dt>328</dt><dd>B</dd><dt>329</dt><dd>B</dd><dt>331</dt><dd>B</dd><dt>332</dt><dd>B</dd><dt>333</dt><dd>B</dd><dt>334</dt><dd>M</dd><dt>335</dt><dd>B</dd><dt>336</dt><dd>B</dd><dt>337</dt><dd>B</dd><dt>338</dt><dd>B</dd><dt>339</dt><dd>B</dd><dt>340</dt><dd>B</dd><dt>341</dt><dd>M</dd><dt>342</dt><dd>B</dd><dt>343</dt><dd>B</dd><dt>344</dt><dd>B</dd><dt>345</dt><dd>B</dd><dt>346</dt><dd>B</dd><dt>347</dt><dd>M</dd><dt>348</dt><dd>B</dd><dt>349</dt><dd>B</dd><dt>350</dt><dd>M</dd><dt>352</dt><dd>B</dd><dt>353</dt><dd>B</dd><dt>355</dt><dd>B</dd><dt>356</dt><dd>B</dd><dt>358</dt><dd>B</dd><dt>360</dt><dd>B</dd><dt>361</dt><dd>B</dd><dt>362</dt><dd>B</dd><dt>364</dt><dd>B</dd><dt>365</dt><dd>B</dd><dt>366</dt><dd>M</dd><dt>367</dt><dd>B</dd><dt>368</dt><dd>M</dd><dt>369</dt><dd>M</dd><dt>371</dt><dd>B</dd><dt>372</dt><dd>M</dd><dt>374</dt><dd>B</dd><dt>376</dt><dd>B</dd><dt>378</dt><dd>B</dd><dt>379</dt><dd>B</dd><dt>380</dt><dd>B</dd><dt>381</dt><dd>B</dd><dt>382</dt><dd>B</dd><dt>383</dt><dd>M</dd><dt>384</dt><dd>B</dd><dt>385</dt><dd>B</dd><dt>386</dt><dd>B</dd><dt>387</dt><dd>M</dd><dt>388</dt><dd>B</dd><dt>389</dt><dd>B</dd><dt>390</dt><dd>B</dd><dt>391</dt><dd>B</dd><dt>392</dt><dd>B</dd><dt>393</dt><dd>B</dd><dt>394</dt><dd>B</dd><dt>395</dt><dd>B</dd><dt>396</dt><dd>B</dd><dt>397</dt><dd>B</dd><dt>398</dt><dd>M</dd><dt>400</dt><dd>B</dd><dt>401</dt><dd>B</dd><dt>402</dt><dd>B</dd><dt>403</dt><dd>B</dd><dt>404</dt><dd>B</dd><dt>405</dt><dd>B</dd><dt>406</dt><dd>M</dd><dt>408</dt><dd>B</dd><dt>409</dt><dd>B</dd><dt>410</dt><dd>B</dd><dt>411</dt><dd>B</dd><dt>412</dt><dd>B</dd><dt>413</dt><dd>B</dd><dt>414</dt><dd>M</dd><dt>415</dt><dd>M</dd><dt>416</dt><dd>B</dd><dt>417</dt><dd>B</dd><dt>418</dt><dd>M</dd><dt>419</dt><dd>B</dd><dt>420</dt><dd>B</dd><dt>422</dt><dd>B</dd><dt>423</dt><dd>B</dd><dt>424</dt><dd>M</dd><dt>425</dt><dd>M</dd><dt>426</dt><dd>M</dd><dt>427</dt><dd>B</dd><dt>428</dt><dd>M</dd><dt>429</dt><dd>B</dd><dt>431</dt><dd>B</dd><dt>432</dt><dd>B</dd><dt>433</dt><dd>B</dd><dt>434</dt><dd>M</dd><dt>435</dt><dd>B</dd><dt>436</dt><dd>B</dd><dt>437</dt><dd>M</dd><dt>438</dt><dd>B</dd><dt>439</dt><dd>B</dd><dt>440</dt><dd>B</dd><dt>441</dt><dd>M</dd><dt>443</dt><dd>M</dd><dt>444</dt><dd>B</dd><dt>445</dt><dd>B</dd><dt>446</dt><dd>B</dd><dt>448</dt><dd>B</dd><dt>449</dt><dd>B</dd><dt>450</dt><dd>B</dd><dt>451</dt><dd>B</dd><dt>453</dt><dd>B</dd><dt>454</dt><dd>B</dd><dt>457</dt><dd>B</dd><dt>459</dt><dd>B</dd><dt>460</dt><dd>M</dd><dt>464</dt><dd>M</dd><dt>465</dt><dd>M</dd><dt>466</dt><dd>B</dd><dt>467</dt><dd>B</dd><dt>469</dt><dd>B</dd><dt>470</dt><dd>B</dd><dt>472</dt><dd>B</dd><dt>473</dt><dd>B</dd><dt>474</dt><dd>B</dd><dt>475</dt><dd>B</dd><dt>478</dt><dd>B</dd><dt>480</dt><dd>B</dd><dt>482</dt><dd>B</dd><dt>483</dt><dd>B</dd><dt>484</dt><dd>B</dd><dt>485</dt><dd>B</dd><dt>486</dt><dd>B</dd><dt>487</dt><dd>B</dd><dt>488</dt><dd>B</dd><dt>490</dt><dd>B</dd><dt>491</dt><dd>B</dd><dt>492</dt><dd>M</dd><dt>493</dt><dd>M</dd><dt>494</dt><dd>M</dd><dt>496</dt><dd>M</dd><dt>497</dt><dd>B</dd></dl>\n",
       "\n",
       "<details>\n",
       "\t<summary style=display:list-item;cursor:pointer>\n",
       "\t\t<strong>Levels</strong>:\n",
       "\t</summary>\n",
       "\t<style>\n",
       "\t.list-inline {list-style: none; margin:0; padding: 0}\n",
       "\t.list-inline>li {display: inline-block}\n",
       "\t.list-inline>li:not(:last-child)::after {content: \"\\00b7\"; padding: 0 .5ex}\n",
       "\t</style>\n",
       "\t<ol class=list-inline><li>'B'</li><li>'M'</li></ol>\n",
       "</details>"
      ],
      "text/latex": [
       "\\begin{description*}\n",
       "\\item[1] M\n",
       "\\item[2] M\n",
       "\\item[3] M\n",
       "\\item[4] M\n",
       "\\item[5] M\n",
       "\\item[6] M\n",
       "\\item[7] M\n",
       "\\item[8] M\n",
       "\\item[10] M\n",
       "\\item[11] M\n",
       "\\item[12] M\n",
       "\\item[13] M\n",
       "\\item[15] M\n",
       "\\item[17] M\n",
       "\\item[18] M\n",
       "\\item[19] M\n",
       "\\item[20] B\n",
       "\\item[22] B\n",
       "\\item[23] M\n",
       "\\item[24] M\n",
       "\\item[26] M\n",
       "\\item[27] M\n",
       "\\item[28] M\n",
       "\\item[29] M\n",
       "\\item[30] M\n",
       "\\item[33] M\n",
       "\\item[34] M\n",
       "\\item[36] M\n",
       "\\item[37] M\n",
       "\\item[38] B\n",
       "\\item[39] M\n",
       "\\item[40] M\n",
       "\\item[41] B\n",
       "\\item[42] M\n",
       "\\item[45] M\n",
       "\\item[46] M\n",
       "\\item[47] B\n",
       "\\item[48] M\n",
       "\\item[49] B\n",
       "\\item[50] B\n",
       "\\item[51] B\n",
       "\\item[52] B\n",
       "\\item[53] B\n",
       "\\item[54] M\n",
       "\\item[55] M\n",
       "\\item[57] M\n",
       "\\item[59] B\n",
       "\\item[60] B\n",
       "\\item[61] B\n",
       "\\item[63] M\n",
       "\\item[65] M\n",
       "\\item[66] M\n",
       "\\item[68] B\n",
       "\\item[70] B\n",
       "\\item[72] B\n",
       "\\item[73] M\n",
       "\\item[74] B\n",
       "\\item[75] B\n",
       "\\item[76] M\n",
       "\\item[77] B\n",
       "\\item[78] M\n",
       "\\item[79] M\n",
       "\\item[80] B\n",
       "\\item[81] B\n",
       "\\item[83] M\n",
       "\\item[84] M\n",
       "\\item[86] M\n",
       "\\item[87] M\n",
       "\\item[88] M\n",
       "\\item[89] B\n",
       "\\item[90] B\n",
       "\\item[91] B\n",
       "\\item[92] M\n",
       "\\item[93] B\n",
       "\\item[94] B\n",
       "\\item[95] M\n",
       "\\item[96] M\n",
       "\\item[97] B\n",
       "\\item[98] B\n",
       "\\item[99] B\n",
       "\\item[101] M\n",
       "\\item[102] B\n",
       "\\item[103] B\n",
       "\\item[104] B\n",
       "\\item[107] B\n",
       "\\item[108] B\n",
       "\\item[110] B\n",
       "\\item[111] B\n",
       "\\item[112] B\n",
       "\\item[113] B\n",
       "\\item[114] B\n",
       "\\item[115] B\n",
       "\\item[116] B\n",
       "\\item[117] B\n",
       "\\item[118] M\n",
       "\\item[119] M\n",
       "\\item[120] M\n",
       "\\item[121] B\n",
       "\\item[122] M\n",
       "\\item[123] M\n",
       "\\item[126] B\n",
       "\\item[127] M\n",
       "\\item[129] B\n",
       "\\item[130] M\n",
       "\\item[131] B\n",
       "\\item[133] M\n",
       "\\item[134] B\n",
       "\\item[135] M\n",
       "\\item[136] B\n",
       "\\item[137] B\n",
       "\\item[138] B\n",
       "\\item[140] B\n",
       "\\item[141] B\n",
       "\\item[142] M\n",
       "\\item[143] B\n",
       "\\item[144] B\n",
       "\\item[145] B\n",
       "\\item[146] B\n",
       "\\item[147] M\n",
       "\\item[148] B\n",
       "\\item[150] B\n",
       "\\item[151] B\n",
       "\\item[152] B\n",
       "\\item[153] B\n",
       "\\item[154] B\n",
       "\\item[156] B\n",
       "\\item[157] M\n",
       "\\item[159] B\n",
       "\\item[160] B\n",
       "\\item[161] B\n",
       "\\item[162] M\n",
       "\\item[163] M\n",
       "\\item[164] B\n",
       "\\item[165] M\n",
       "\\item[166] B\n",
       "\\item[168] M\n",
       "\\item[170] B\n",
       "\\item[171] B\n",
       "\\item[172] M\n",
       "\\item[173] M\n",
       "\\item[174] B\n",
       "\\item[176] B\n",
       "\\item[179] B\n",
       "\\item[180] B\n",
       "\\item[181] M\n",
       "\\item[182] M\n",
       "\\item[183] M\n",
       "\\item[184] B\n",
       "\\item[185] M\n",
       "\\item[186] B\n",
       "\\item[187] M\n",
       "\\item[188] B\n",
       "\\item[189] B\n",
       "\\item[190] B\n",
       "\\item[191] M\n",
       "\\item[193] B\n",
       "\\item[194] M\n",
       "\\item[195] M\n",
       "\\item[196] B\n",
       "\\item[197] M\n",
       "\\item[199] M\n",
       "\\item[200] M\n",
       "\\item[201] B\n",
       "\\item[202] M\n",
       "\\item[203] M\n",
       "\\item[204] M\n",
       "\\item[205] B\n",
       "\\item[207] B\n",
       "\\item[209] B\n",
       "\\item[210] B\n",
       "\\item[211] M\n",
       "\\item[212] B\n",
       "\\item[214] M\n",
       "\\item[215] M\n",
       "\\item[216] M\n",
       "\\item[217] B\n",
       "\\item[218] B\n",
       "\\item[220] M\n",
       "\\item[221] B\n",
       "\\item[223] B\n",
       "\\item[225] B\n",
       "\\item[226] B\n",
       "\\item[228] B\n",
       "\\item[229] B\n",
       "\\item[230] M\n",
       "\\item[231] M\n",
       "\\item[232] B\n",
       "\\item[233] B\n",
       "\\item[234] M\n",
       "\\item[235] B\n",
       "\\item[236] B\n",
       "\\item[237] M\n",
       "\\item[239] B\n",
       "\\item[240] M\n",
       "\\item[241] B\n",
       "\\item[242] B\n",
       "\\item[243] B\n",
       "\\item[244] B\n",
       "\\item[247] B\n",
       "\\item[248] B\n",
       "\\item[249] ⋯\n",
       "\\item[250] M\n",
       "\\item[251] B\n",
       "\\item[252] M\n",
       "\\item[253] B\n",
       "\\item[254] B\n",
       "\\item[255] M\n",
       "\\item[256] M\n",
       "\\item[258] B\n",
       "\\item[259] B\n",
       "\\item[260] B\n",
       "\\item[262] B\n",
       "\\item[263] M\n",
       "\\item[264] B\n",
       "\\item[265] M\n",
       "\\item[268] B\n",
       "\\item[269] M\n",
       "\\item[271] B\n",
       "\\item[272] B\n",
       "\\item[273] B\n",
       "\\item[274] M\n",
       "\\item[275] B\n",
       "\\item[276] B\n",
       "\\item[277] B\n",
       "\\item[278] B\n",
       "\\item[280] B\n",
       "\\item[281] B\n",
       "\\item[282] M\n",
       "\\item[283] M\n",
       "\\item[284] B\n",
       "\\item[285] B\n",
       "\\item[287] B\n",
       "\\item[288] B\n",
       "\\item[289] B\n",
       "\\item[290] B\n",
       "\\item[291] B\n",
       "\\item[292] B\n",
       "\\item[294] M\n",
       "\\item[295] M\n",
       "\\item[296] B\n",
       "\\item[297] M\n",
       "\\item[298] M\n",
       "\\item[300] B\n",
       "\\item[301] M\n",
       "\\item[302] B\n",
       "\\item[304] B\n",
       "\\item[305] B\n",
       "\\item[306] M\n",
       "\\item[308] B\n",
       "\\item[309] B\n",
       "\\item[310] B\n",
       "\\item[312] B\n",
       "\\item[313] B\n",
       "\\item[314] M\n",
       "\\item[316] B\n",
       "\\item[318] B\n",
       "\\item[320] B\n",
       "\\item[321] M\n",
       "\\item[322] B\n",
       "\\item[323] B\n",
       "\\item[324] M\n",
       "\\item[326] M\n",
       "\\item[328] B\n",
       "\\item[329] B\n",
       "\\item[331] B\n",
       "\\item[332] B\n",
       "\\item[333] B\n",
       "\\item[334] M\n",
       "\\item[335] B\n",
       "\\item[336] B\n",
       "\\item[337] B\n",
       "\\item[338] B\n",
       "\\item[339] B\n",
       "\\item[340] B\n",
       "\\item[341] M\n",
       "\\item[342] B\n",
       "\\item[343] B\n",
       "\\item[344] B\n",
       "\\item[345] B\n",
       "\\item[346] B\n",
       "\\item[347] M\n",
       "\\item[348] B\n",
       "\\item[349] B\n",
       "\\item[350] M\n",
       "\\item[352] B\n",
       "\\item[353] B\n",
       "\\item[355] B\n",
       "\\item[356] B\n",
       "\\item[358] B\n",
       "\\item[360] B\n",
       "\\item[361] B\n",
       "\\item[362] B\n",
       "\\item[364] B\n",
       "\\item[365] B\n",
       "\\item[366] M\n",
       "\\item[367] B\n",
       "\\item[368] M\n",
       "\\item[369] M\n",
       "\\item[371] B\n",
       "\\item[372] M\n",
       "\\item[374] B\n",
       "\\item[376] B\n",
       "\\item[378] B\n",
       "\\item[379] B\n",
       "\\item[380] B\n",
       "\\item[381] B\n",
       "\\item[382] B\n",
       "\\item[383] M\n",
       "\\item[384] B\n",
       "\\item[385] B\n",
       "\\item[386] B\n",
       "\\item[387] M\n",
       "\\item[388] B\n",
       "\\item[389] B\n",
       "\\item[390] B\n",
       "\\item[391] B\n",
       "\\item[392] B\n",
       "\\item[393] B\n",
       "\\item[394] B\n",
       "\\item[395] B\n",
       "\\item[396] B\n",
       "\\item[397] B\n",
       "\\item[398] M\n",
       "\\item[400] B\n",
       "\\item[401] B\n",
       "\\item[402] B\n",
       "\\item[403] B\n",
       "\\item[404] B\n",
       "\\item[405] B\n",
       "\\item[406] M\n",
       "\\item[408] B\n",
       "\\item[409] B\n",
       "\\item[410] B\n",
       "\\item[411] B\n",
       "\\item[412] B\n",
       "\\item[413] B\n",
       "\\item[414] M\n",
       "\\item[415] M\n",
       "\\item[416] B\n",
       "\\item[417] B\n",
       "\\item[418] M\n",
       "\\item[419] B\n",
       "\\item[420] B\n",
       "\\item[422] B\n",
       "\\item[423] B\n",
       "\\item[424] M\n",
       "\\item[425] M\n",
       "\\item[426] M\n",
       "\\item[427] B\n",
       "\\item[428] M\n",
       "\\item[429] B\n",
       "\\item[431] B\n",
       "\\item[432] B\n",
       "\\item[433] B\n",
       "\\item[434] M\n",
       "\\item[435] B\n",
       "\\item[436] B\n",
       "\\item[437] M\n",
       "\\item[438] B\n",
       "\\item[439] B\n",
       "\\item[440] B\n",
       "\\item[441] M\n",
       "\\item[443] M\n",
       "\\item[444] B\n",
       "\\item[445] B\n",
       "\\item[446] B\n",
       "\\item[448] B\n",
       "\\item[449] B\n",
       "\\item[450] B\n",
       "\\item[451] B\n",
       "\\item[453] B\n",
       "\\item[454] B\n",
       "\\item[457] B\n",
       "\\item[459] B\n",
       "\\item[460] M\n",
       "\\item[464] M\n",
       "\\item[465] M\n",
       "\\item[466] B\n",
       "\\item[467] B\n",
       "\\item[469] B\n",
       "\\item[470] B\n",
       "\\item[472] B\n",
       "\\item[473] B\n",
       "\\item[474] B\n",
       "\\item[475] B\n",
       "\\item[478] B\n",
       "\\item[480] B\n",
       "\\item[482] B\n",
       "\\item[483] B\n",
       "\\item[484] B\n",
       "\\item[485] B\n",
       "\\item[486] B\n",
       "\\item[487] B\n",
       "\\item[488] B\n",
       "\\item[490] B\n",
       "\\item[491] B\n",
       "\\item[492] M\n",
       "\\item[493] M\n",
       "\\item[494] M\n",
       "\\item[496] M\n",
       "\\item[497] B\n",
       "\\end{description*}\n",
       "\n",
       "\\emph{Levels}: \\begin{enumerate*}\n",
       "\\item 'B'\n",
       "\\item 'M'\n",
       "\\end{enumerate*}\n"
      ],
      "text/markdown": [
       "1\n",
       ":   M2\n",
       ":   M3\n",
       ":   M4\n",
       ":   M5\n",
       ":   M6\n",
       ":   M7\n",
       ":   M8\n",
       ":   M10\n",
       ":   M11\n",
       ":   M12\n",
       ":   M13\n",
       ":   M15\n",
       ":   M17\n",
       ":   M18\n",
       ":   M19\n",
       ":   M20\n",
       ":   B22\n",
       ":   B23\n",
       ":   M24\n",
       ":   M26\n",
       ":   M27\n",
       ":   M28\n",
       ":   M29\n",
       ":   M30\n",
       ":   M33\n",
       ":   M34\n",
       ":   M36\n",
       ":   M37\n",
       ":   M38\n",
       ":   B39\n",
       ":   M40\n",
       ":   M41\n",
       ":   B42\n",
       ":   M45\n",
       ":   M46\n",
       ":   M47\n",
       ":   B48\n",
       ":   M49\n",
       ":   B50\n",
       ":   B51\n",
       ":   B52\n",
       ":   B53\n",
       ":   B54\n",
       ":   M55\n",
       ":   M57\n",
       ":   M59\n",
       ":   B60\n",
       ":   B61\n",
       ":   B63\n",
       ":   M65\n",
       ":   M66\n",
       ":   M68\n",
       ":   B70\n",
       ":   B72\n",
       ":   B73\n",
       ":   M74\n",
       ":   B75\n",
       ":   B76\n",
       ":   M77\n",
       ":   B78\n",
       ":   M79\n",
       ":   M80\n",
       ":   B81\n",
       ":   B83\n",
       ":   M84\n",
       ":   M86\n",
       ":   M87\n",
       ":   M88\n",
       ":   M89\n",
       ":   B90\n",
       ":   B91\n",
       ":   B92\n",
       ":   M93\n",
       ":   B94\n",
       ":   B95\n",
       ":   M96\n",
       ":   M97\n",
       ":   B98\n",
       ":   B99\n",
       ":   B101\n",
       ":   M102\n",
       ":   B103\n",
       ":   B104\n",
       ":   B107\n",
       ":   B108\n",
       ":   B110\n",
       ":   B111\n",
       ":   B112\n",
       ":   B113\n",
       ":   B114\n",
       ":   B115\n",
       ":   B116\n",
       ":   B117\n",
       ":   B118\n",
       ":   M119\n",
       ":   M120\n",
       ":   M121\n",
       ":   B122\n",
       ":   M123\n",
       ":   M126\n",
       ":   B127\n",
       ":   M129\n",
       ":   B130\n",
       ":   M131\n",
       ":   B133\n",
       ":   M134\n",
       ":   B135\n",
       ":   M136\n",
       ":   B137\n",
       ":   B138\n",
       ":   B140\n",
       ":   B141\n",
       ":   B142\n",
       ":   M143\n",
       ":   B144\n",
       ":   B145\n",
       ":   B146\n",
       ":   B147\n",
       ":   M148\n",
       ":   B150\n",
       ":   B151\n",
       ":   B152\n",
       ":   B153\n",
       ":   B154\n",
       ":   B156\n",
       ":   B157\n",
       ":   M159\n",
       ":   B160\n",
       ":   B161\n",
       ":   B162\n",
       ":   M163\n",
       ":   M164\n",
       ":   B165\n",
       ":   M166\n",
       ":   B168\n",
       ":   M170\n",
       ":   B171\n",
       ":   B172\n",
       ":   M173\n",
       ":   M174\n",
       ":   B176\n",
       ":   B179\n",
       ":   B180\n",
       ":   B181\n",
       ":   M182\n",
       ":   M183\n",
       ":   M184\n",
       ":   B185\n",
       ":   M186\n",
       ":   B187\n",
       ":   M188\n",
       ":   B189\n",
       ":   B190\n",
       ":   B191\n",
       ":   M193\n",
       ":   B194\n",
       ":   M195\n",
       ":   M196\n",
       ":   B197\n",
       ":   M199\n",
       ":   M200\n",
       ":   M201\n",
       ":   B202\n",
       ":   M203\n",
       ":   M204\n",
       ":   M205\n",
       ":   B207\n",
       ":   B209\n",
       ":   B210\n",
       ":   B211\n",
       ":   M212\n",
       ":   B214\n",
       ":   M215\n",
       ":   M216\n",
       ":   M217\n",
       ":   B218\n",
       ":   B220\n",
       ":   M221\n",
       ":   B223\n",
       ":   B225\n",
       ":   B226\n",
       ":   B228\n",
       ":   B229\n",
       ":   B230\n",
       ":   M231\n",
       ":   M232\n",
       ":   B233\n",
       ":   B234\n",
       ":   M235\n",
       ":   B236\n",
       ":   B237\n",
       ":   M239\n",
       ":   B240\n",
       ":   M241\n",
       ":   B242\n",
       ":   B243\n",
       ":   B244\n",
       ":   B247\n",
       ":   B248\n",
       ":   B249\n",
       ":   ⋯250\n",
       ":   M251\n",
       ":   B252\n",
       ":   M253\n",
       ":   B254\n",
       ":   B255\n",
       ":   M256\n",
       ":   M258\n",
       ":   B259\n",
       ":   B260\n",
       ":   B262\n",
       ":   B263\n",
       ":   M264\n",
       ":   B265\n",
       ":   M268\n",
       ":   B269\n",
       ":   M271\n",
       ":   B272\n",
       ":   B273\n",
       ":   B274\n",
       ":   M275\n",
       ":   B276\n",
       ":   B277\n",
       ":   B278\n",
       ":   B280\n",
       ":   B281\n",
       ":   B282\n",
       ":   M283\n",
       ":   M284\n",
       ":   B285\n",
       ":   B287\n",
       ":   B288\n",
       ":   B289\n",
       ":   B290\n",
       ":   B291\n",
       ":   B292\n",
       ":   B294\n",
       ":   M295\n",
       ":   M296\n",
       ":   B297\n",
       ":   M298\n",
       ":   M300\n",
       ":   B301\n",
       ":   M302\n",
       ":   B304\n",
       ":   B305\n",
       ":   B306\n",
       ":   M308\n",
       ":   B309\n",
       ":   B310\n",
       ":   B312\n",
       ":   B313\n",
       ":   B314\n",
       ":   M316\n",
       ":   B318\n",
       ":   B320\n",
       ":   B321\n",
       ":   M322\n",
       ":   B323\n",
       ":   B324\n",
       ":   M326\n",
       ":   M328\n",
       ":   B329\n",
       ":   B331\n",
       ":   B332\n",
       ":   B333\n",
       ":   B334\n",
       ":   M335\n",
       ":   B336\n",
       ":   B337\n",
       ":   B338\n",
       ":   B339\n",
       ":   B340\n",
       ":   B341\n",
       ":   M342\n",
       ":   B343\n",
       ":   B344\n",
       ":   B345\n",
       ":   B346\n",
       ":   B347\n",
       ":   M348\n",
       ":   B349\n",
       ":   B350\n",
       ":   M352\n",
       ":   B353\n",
       ":   B355\n",
       ":   B356\n",
       ":   B358\n",
       ":   B360\n",
       ":   B361\n",
       ":   B362\n",
       ":   B364\n",
       ":   B365\n",
       ":   B366\n",
       ":   M367\n",
       ":   B368\n",
       ":   M369\n",
       ":   M371\n",
       ":   B372\n",
       ":   M374\n",
       ":   B376\n",
       ":   B378\n",
       ":   B379\n",
       ":   B380\n",
       ":   B381\n",
       ":   B382\n",
       ":   B383\n",
       ":   M384\n",
       ":   B385\n",
       ":   B386\n",
       ":   B387\n",
       ":   M388\n",
       ":   B389\n",
       ":   B390\n",
       ":   B391\n",
       ":   B392\n",
       ":   B393\n",
       ":   B394\n",
       ":   B395\n",
       ":   B396\n",
       ":   B397\n",
       ":   B398\n",
       ":   M400\n",
       ":   B401\n",
       ":   B402\n",
       ":   B403\n",
       ":   B404\n",
       ":   B405\n",
       ":   B406\n",
       ":   M408\n",
       ":   B409\n",
       ":   B410\n",
       ":   B411\n",
       ":   B412\n",
       ":   B413\n",
       ":   B414\n",
       ":   M415\n",
       ":   M416\n",
       ":   B417\n",
       ":   B418\n",
       ":   M419\n",
       ":   B420\n",
       ":   B422\n",
       ":   B423\n",
       ":   B424\n",
       ":   M425\n",
       ":   M426\n",
       ":   M427\n",
       ":   B428\n",
       ":   M429\n",
       ":   B431\n",
       ":   B432\n",
       ":   B433\n",
       ":   B434\n",
       ":   M435\n",
       ":   B436\n",
       ":   B437\n",
       ":   M438\n",
       ":   B439\n",
       ":   B440\n",
       ":   B441\n",
       ":   M443\n",
       ":   M444\n",
       ":   B445\n",
       ":   B446\n",
       ":   B448\n",
       ":   B449\n",
       ":   B450\n",
       ":   B451\n",
       ":   B453\n",
       ":   B454\n",
       ":   B457\n",
       ":   B459\n",
       ":   B460\n",
       ":   M464\n",
       ":   M465\n",
       ":   M466\n",
       ":   B467\n",
       ":   B469\n",
       ":   B470\n",
       ":   B472\n",
       ":   B473\n",
       ":   B474\n",
       ":   B475\n",
       ":   B478\n",
       ":   B480\n",
       ":   B482\n",
       ":   B483\n",
       ":   B484\n",
       ":   B485\n",
       ":   B486\n",
       ":   B487\n",
       ":   B488\n",
       ":   B490\n",
       ":   B491\n",
       ":   B492\n",
       ":   M493\n",
       ":   M494\n",
       ":   M496\n",
       ":   M497\n",
       ":   B\n",
       "\n",
       "\n",
       "**Levels**: 1. 'B'\n",
       "2. 'M'\n",
       "\n",
       "\n"
      ],
      "text/plain": [
       "  1   2   3   4   5   6   7   8  10  11  12  13  15  17  18  19  20  22  23  24 \n",
       "  M   M   M   M   M   M   M   M   M   M   M   M   M   M   M   M   B   B   M   M \n",
       " 26  27  28  29  30  33  34  36  37  38  39  40  41  42  45  46  47  48  49  50 \n",
       "  M   M   M   M   M   M   M   M   M   B   M   M   B   M   M   M   B   M   B   B \n",
       " 51  52  53  54  55  57  59  60  61  63  65  66  68  70  72  73  74  75  76  77 \n",
       "  B   B   B   M   M   M   B   B   B   M   M   M   B   B   B   M   B   B   M   B \n",
       " 78  79  80  81  83  84  86  87  88  89  90  91  92  93  94  95  96  97  98  99 \n",
       "  M   M   B   B   M   M   M   M   M   B   B   B   M   B   B   M   M   B   B   B \n",
       "101 102 103 104 107 108 110 111 112 113 114 115 116 117 118 119 120 121 122 123 \n",
       "  M   B   B   B   B   B   B   B   B   B   B   B   B   B   M   M   M   B   M   M \n",
       "126 127 129 130 131 133 134 135 136 137 138 140 141 142 143 144 145 146 147 148 \n",
       "  B   M   B   M   B   M   B   M   B   B   B   B   B   M   B   B   B   B   M   B \n",
       "150 151 152 153 154 156 157 159 160 161 162 163 164 165 166 168 170 171 172 173 \n",
       "  B   B   B   B   B   B   M   B   B   B   M   M   B   M   B   M   B   B   M   M \n",
       "174 176 179 180 181 182 183 184 185 186 187 188 189 190 191 193 194 195 196 197 \n",
       "  B   B   B   B   M   M   M   B   M   B   M   B   B   B   M   B   M   M   B   M \n",
       "199 200 201 202 203 204 205 207 209 210 211 212 214 215 216 217 218 220 221 223 \n",
       "  M   M   B   M   M   M   B   B   B   B   M   B   M   M   M   B   B   M   B   B \n",
       "225 226 228 229 230 231 232 233 234 235 236 237 239 240 241 242 243 244 247 248 \n",
       "  B   B   B   B   M   M   B   B   M   B   B   M   B   M   B   B   B   B   B   B \n",
       "249 250 251 252 253 254 255 256 258 259 260 262 263 264 265 268 269 271 272 273 \n",
       "  B   B   M   B   M   M   M   B   M   M   M   M   M   M   M   B   B   B   B   M \n",
       "274 275 276 277 278 280 281 282 283 284 285 287 288 289 290 291 292 294 295 296 \n",
       "  B   M   B   B   M   B   M   B   M   M   B   B   B   B   B   B   B   B   B   B \n",
       "297 298 300 301 302 304 305 306 308 309 310 312 313 314 316 318 320 321 322 323 \n",
       "  B   B   B   M   B   B   B   B   B   B   B   B   B   B   B   M   B   B   M   B \n",
       "324 326 328 329 331 332 333 334 335 336 337 338 339 340 341 342 343 344 345 346 \n",
       "  M   B   B   M   M   B   B   B   B   M   B   M   B   M   B   B   B   M   B   B \n",
       "347 348 349 350 352 353 355 356 358 360 361 362 364 365 366 367 368 369 371 372 \n",
       "  B   B   B   B   M   M   B   B   B   B   B   B   B   B   M   M   B   M   M   B \n",
       "374 376 378 379 380 381 382 383 384 385 386 387 388 389 390 391 392 393 394 395 \n",
       "  M   B   B   B   M   B   B   B   B   B   M   B   B   B   M   B   B   M   M   B \n",
       "396 397 398 400 401 402 403 404 405 406 408 409 410 411 412 413 414 415 416 417 \n",
       "  B   B   B   B   M   B   B   B   B   B   B   M   B   B   B   B   B   M   B   B \n",
       "418 419 420 422 423 424 425 426 427 428 429 431 432 433 434 435 436 437 438 439 \n",
       "  M   B   B   B   B   B   B   B   B   B   B   M   B   M   M   B   M   B   B   B \n",
       "440 441 443 444 445 446 448 449 450 451 453 454 457 459 460 464 465 466 467 469 \n",
       "  B   B   B   B   M   B   B   B   M   B   B   B   B   B   B   B   B   B   B   M \n",
       "470 472 473 474 475 478 480 482 483 484 485 486 487 488 490 491 492 493 494 496 \n",
       "  B   B   B   B   B   B   M   B   B   B   B   B   B   M   M   B   B   M   B   B \n",
       "497 498 499 500 502 503 504 506 507 508 509 510 511 512 513 514 515 516 517 518 \n",
       "  B   B   M   M   M   B   M   B   B   B   B   M   B   B   M   B   B   B   M   M \n",
       "519 520 521 523 524 526 527 529 531 532 533 534 536 537 538 539 540 542 545 546 \n",
       "  B   B   B   B   B   B   B   B   B   B   B   M   M   M   B   B   B   B   B   B \n",
       "547 548 551 552 554 555 556 557 558 559 560 561 562 563 564 565 566 569 \n",
       "  B   B   B   B   B   B   B   B   B   B   B   B   B   M   M   M   M   B \n",
       "Levels: B M"
      ]
     },
     "metadata": {},
     "output_type": "display_data"
    }
   ],
   "source": [
    "# Verficado minhas previsoes\n",
    "pred_train"
   ]
  },
  {
   "cell_type": "code",
   "execution_count": 47,
   "id": "5a7bc91f",
   "metadata": {
    "execution": {
     "iopub.execute_input": "2023-08-24T12:33:19.952855Z",
     "iopub.status.busy": "2023-08-24T12:33:19.950815Z",
     "iopub.status.idle": "2023-08-24T12:33:19.974776Z",
     "shell.execute_reply": "2023-08-24T12:33:19.972626Z"
    },
    "papermill": {
     "duration": 0.058,
     "end_time": "2023-08-24T12:33:19.977788",
     "exception": false,
     "start_time": "2023-08-24T12:33:19.919788",
     "status": "completed"
    },
    "tags": []
   },
   "outputs": [
    {
     "data": {
      "text/html": [
       "98.6899563318777"
      ],
      "text/latex": [
       "98.6899563318777"
      ],
      "text/markdown": [
       "98.6899563318777"
      ],
      "text/plain": [
       "[1] 98.68996"
      ]
     },
     "metadata": {},
     "output_type": "display_data"
    }
   ],
   "source": [
    "# Verifciando nosso percentaul de acerto em nossa base de treino\n",
    "mean(pred_train == trainset$diagnosis) * 100"
   ]
  },
  {
   "cell_type": "code",
   "execution_count": 48,
   "id": "0854d90c",
   "metadata": {
    "execution": {
     "iopub.execute_input": "2023-08-24T12:33:20.030729Z",
     "iopub.status.busy": "2023-08-24T12:33:20.028903Z",
     "iopub.status.idle": "2023-08-24T12:33:20.049618Z",
     "shell.execute_reply": "2023-08-24T12:33:20.047540Z"
    },
    "papermill": {
     "duration": 0.050273,
     "end_time": "2023-08-24T12:33:20.052738",
     "exception": false,
     "start_time": "2023-08-24T12:33:20.002465",
     "status": "completed"
    },
    "tags": []
   },
   "outputs": [
    {
     "data": {
      "text/plain": [
       "          \n",
       "pred_train   B   M\n",
       "         B 289   6\n",
       "         M   0 163"
      ]
     },
     "metadata": {},
     "output_type": "display_data"
    }
   ],
   "source": [
    "# Verificando minha matriz de confusão\n",
    "table(pred_train,trainset$diagnosis)"
   ]
  },
  {
   "cell_type": "code",
   "execution_count": 49,
   "id": "b620bd7e",
   "metadata": {
    "execution": {
     "iopub.execute_input": "2023-08-24T12:33:20.108354Z",
     "iopub.status.busy": "2023-08-24T12:33:20.106613Z",
     "iopub.status.idle": "2023-08-24T12:33:20.130589Z",
     "shell.execute_reply": "2023-08-24T12:33:20.128293Z"
    },
    "papermill": {
     "duration": 0.056715,
     "end_time": "2023-08-24T12:33:20.134378",
     "exception": false,
     "start_time": "2023-08-24T12:33:20.077663",
     "status": "completed"
    },
    "tags": []
   },
   "outputs": [],
   "source": [
    "# Previsões para base de teste\n",
    "pred_test = predict(modelo_svm_v1, testset)"
   ]
  },
  {
   "cell_type": "code",
   "execution_count": 50,
   "id": "51fbb142",
   "metadata": {
    "execution": {
     "iopub.execute_input": "2023-08-24T12:33:20.193379Z",
     "iopub.status.busy": "2023-08-24T12:33:20.191499Z",
     "iopub.status.idle": "2023-08-24T12:33:20.221016Z",
     "shell.execute_reply": "2023-08-24T12:33:20.218148Z"
    },
    "papermill": {
     "duration": 0.061535,
     "end_time": "2023-08-24T12:33:20.224187",
     "exception": false,
     "start_time": "2023-08-24T12:33:20.162652",
     "status": "completed"
    },
    "tags": []
   },
   "outputs": [
    {
     "data": {
      "text/html": [
       "<style>\n",
       ".dl-inline {width: auto; margin:0; padding: 0}\n",
       ".dl-inline>dt, .dl-inline>dd {float: none; width: auto; display: inline-block}\n",
       ".dl-inline>dt::after {content: \":\\0020\"; padding-right: .5ex}\n",
       ".dl-inline>dt:not(:first-of-type) {padding-left: .5ex}\n",
       "</style><dl class=dl-inline><dt>9</dt><dd>M</dd><dt>14</dt><dd>M</dd><dt>16</dt><dd>M</dd><dt>21</dt><dd>B</dd><dt>25</dt><dd>M</dd><dt>31</dt><dd>M</dd><dt>32</dt><dd>M</dd><dt>35</dt><dd>M</dd><dt>43</dt><dd>M</dd><dt>44</dt><dd>M</dd><dt>56</dt><dd>B</dd><dt>58</dt><dd>M</dd><dt>62</dt><dd>B</dd><dt>64</dt><dd>B</dd><dt>67</dt><dd>B</dd><dt>69</dt><dd>M</dd><dt>71</dt><dd>M</dd><dt>82</dt><dd>B</dd><dt>85</dt><dd>B</dd><dt>100</dt><dd>B</dd><dt>105</dt><dd>B</dd><dt>106</dt><dd>M</dd><dt>109</dt><dd>M</dd><dt>124</dt><dd>B</dd><dt>125</dt><dd>B</dd><dt>128</dt><dd>M</dd><dt>132</dt><dd>M</dd><dt>139</dt><dd>M</dd><dt>149</dt><dd>B</dd><dt>155</dt><dd>B</dd><dt>158</dt><dd>M</dd><dt>167</dt><dd>B</dd><dt>169</dt><dd>M</dd><dt>175</dt><dd>B</dd><dt>177</dt><dd>B</dd><dt>178</dt><dd>M</dd><dt>192</dt><dd>B</dd><dt>198</dt><dd>M</dd><dt>206</dt><dd>B</dd><dt>208</dt><dd>M</dd><dt>213</dt><dd>M</dd><dt>219</dt><dd>M</dd><dt>222</dt><dd>B</dd><dt>224</dt><dd>M</dd><dt>227</dt><dd>B</dd><dt>238</dt><dd>M</dd><dt>245</dt><dd>M</dd><dt>246</dt><dd>B</dd><dt>257</dt><dd>M</dd><dt>261</dt><dd>M</dd><dt>266</dt><dd>M</dd><dt>267</dt><dd>B</dd><dt>270</dt><dd>B</dd><dt>279</dt><dd>B</dd><dt>286</dt><dd>B</dd><dt>293</dt><dd>B</dd><dt>299</dt><dd>B</dd><dt>303</dt><dd>M</dd><dt>307</dt><dd>B</dd><dt>311</dt><dd>B</dd><dt>315</dt><dd>B</dd><dt>317</dt><dd>B</dd><dt>319</dt><dd>B</dd><dt>325</dt><dd>B</dd><dt>327</dt><dd>B</dd><dt>330</dt><dd>M</dd><dt>351</dt><dd>B</dd><dt>354</dt><dd>M</dd><dt>357</dt><dd>B</dd><dt>359</dt><dd>B</dd><dt>363</dt><dd>B</dd><dt>370</dt><dd>M</dd><dt>373</dt><dd>M</dd><dt>375</dt><dd>B</dd><dt>377</dt><dd>B</dd><dt>399</dt><dd>B</dd><dt>407</dt><dd>B</dd><dt>421</dt><dd>B</dd><dt>430</dt><dd>B</dd><dt>442</dt><dd>M</dd><dt>447</dt><dd>M</dd><dt>452</dt><dd>M</dd><dt>455</dt><dd>B</dd><dt>456</dt><dd>B</dd><dt>458</dt><dd>B</dd><dt>461</dt><dd>M</dd><dt>462</dt><dd>M</dd><dt>463</dt><dd>B</dd><dt>468</dt><dd>B</dd><dt>471</dt><dd>B</dd><dt>476</dt><dd>B</dd><dt>477</dt><dd>B</dd><dt>479</dt><dd>B</dd><dt>481</dt><dd>B</dd><dt>489</dt><dd>B</dd><dt>495</dt><dd>B</dd><dt>501</dt><dd>B</dd><dt>505</dt><dd>B</dd><dt>522</dt><dd>M</dd><dt>525</dt><dd>B</dd><dt>528</dt><dd>B</dd><dt>530</dt><dd>B</dd><dt>535</dt><dd>B</dd><dt>541</dt><dd>B</dd><dt>543</dt><dd>B</dd><dt>544</dt><dd>B</dd><dt>549</dt><dd>B</dd><dt>550</dt><dd>B</dd><dt>553</dt><dd>B</dd><dt>567</dt><dd>M</dd><dt>568</dt><dd>M</dd></dl>\n",
       "\n",
       "<details>\n",
       "\t<summary style=display:list-item;cursor:pointer>\n",
       "\t\t<strong>Levels</strong>:\n",
       "\t</summary>\n",
       "\t<style>\n",
       "\t.list-inline {list-style: none; margin:0; padding: 0}\n",
       "\t.list-inline>li {display: inline-block}\n",
       "\t.list-inline>li:not(:last-child)::after {content: \"\\00b7\"; padding: 0 .5ex}\n",
       "\t</style>\n",
       "\t<ol class=list-inline><li>'B'</li><li>'M'</li></ol>\n",
       "</details>"
      ],
      "text/latex": [
       "\\begin{description*}\n",
       "\\item[9] M\n",
       "\\item[14] M\n",
       "\\item[16] M\n",
       "\\item[21] B\n",
       "\\item[25] M\n",
       "\\item[31] M\n",
       "\\item[32] M\n",
       "\\item[35] M\n",
       "\\item[43] M\n",
       "\\item[44] M\n",
       "\\item[56] B\n",
       "\\item[58] M\n",
       "\\item[62] B\n",
       "\\item[64] B\n",
       "\\item[67] B\n",
       "\\item[69] M\n",
       "\\item[71] M\n",
       "\\item[82] B\n",
       "\\item[85] B\n",
       "\\item[100] B\n",
       "\\item[105] B\n",
       "\\item[106] M\n",
       "\\item[109] M\n",
       "\\item[124] B\n",
       "\\item[125] B\n",
       "\\item[128] M\n",
       "\\item[132] M\n",
       "\\item[139] M\n",
       "\\item[149] B\n",
       "\\item[155] B\n",
       "\\item[158] M\n",
       "\\item[167] B\n",
       "\\item[169] M\n",
       "\\item[175] B\n",
       "\\item[177] B\n",
       "\\item[178] M\n",
       "\\item[192] B\n",
       "\\item[198] M\n",
       "\\item[206] B\n",
       "\\item[208] M\n",
       "\\item[213] M\n",
       "\\item[219] M\n",
       "\\item[222] B\n",
       "\\item[224] M\n",
       "\\item[227] B\n",
       "\\item[238] M\n",
       "\\item[245] M\n",
       "\\item[246] B\n",
       "\\item[257] M\n",
       "\\item[261] M\n",
       "\\item[266] M\n",
       "\\item[267] B\n",
       "\\item[270] B\n",
       "\\item[279] B\n",
       "\\item[286] B\n",
       "\\item[293] B\n",
       "\\item[299] B\n",
       "\\item[303] M\n",
       "\\item[307] B\n",
       "\\item[311] B\n",
       "\\item[315] B\n",
       "\\item[317] B\n",
       "\\item[319] B\n",
       "\\item[325] B\n",
       "\\item[327] B\n",
       "\\item[330] M\n",
       "\\item[351] B\n",
       "\\item[354] M\n",
       "\\item[357] B\n",
       "\\item[359] B\n",
       "\\item[363] B\n",
       "\\item[370] M\n",
       "\\item[373] M\n",
       "\\item[375] B\n",
       "\\item[377] B\n",
       "\\item[399] B\n",
       "\\item[407] B\n",
       "\\item[421] B\n",
       "\\item[430] B\n",
       "\\item[442] M\n",
       "\\item[447] M\n",
       "\\item[452] M\n",
       "\\item[455] B\n",
       "\\item[456] B\n",
       "\\item[458] B\n",
       "\\item[461] M\n",
       "\\item[462] M\n",
       "\\item[463] B\n",
       "\\item[468] B\n",
       "\\item[471] B\n",
       "\\item[476] B\n",
       "\\item[477] B\n",
       "\\item[479] B\n",
       "\\item[481] B\n",
       "\\item[489] B\n",
       "\\item[495] B\n",
       "\\item[501] B\n",
       "\\item[505] B\n",
       "\\item[522] M\n",
       "\\item[525] B\n",
       "\\item[528] B\n",
       "\\item[530] B\n",
       "\\item[535] B\n",
       "\\item[541] B\n",
       "\\item[543] B\n",
       "\\item[544] B\n",
       "\\item[549] B\n",
       "\\item[550] B\n",
       "\\item[553] B\n",
       "\\item[567] M\n",
       "\\item[568] M\n",
       "\\end{description*}\n",
       "\n",
       "\\emph{Levels}: \\begin{enumerate*}\n",
       "\\item 'B'\n",
       "\\item 'M'\n",
       "\\end{enumerate*}\n"
      ],
      "text/markdown": [
       "9\n",
       ":   M14\n",
       ":   M16\n",
       ":   M21\n",
       ":   B25\n",
       ":   M31\n",
       ":   M32\n",
       ":   M35\n",
       ":   M43\n",
       ":   M44\n",
       ":   M56\n",
       ":   B58\n",
       ":   M62\n",
       ":   B64\n",
       ":   B67\n",
       ":   B69\n",
       ":   M71\n",
       ":   M82\n",
       ":   B85\n",
       ":   B100\n",
       ":   B105\n",
       ":   B106\n",
       ":   M109\n",
       ":   M124\n",
       ":   B125\n",
       ":   B128\n",
       ":   M132\n",
       ":   M139\n",
       ":   M149\n",
       ":   B155\n",
       ":   B158\n",
       ":   M167\n",
       ":   B169\n",
       ":   M175\n",
       ":   B177\n",
       ":   B178\n",
       ":   M192\n",
       ":   B198\n",
       ":   M206\n",
       ":   B208\n",
       ":   M213\n",
       ":   M219\n",
       ":   M222\n",
       ":   B224\n",
       ":   M227\n",
       ":   B238\n",
       ":   M245\n",
       ":   M246\n",
       ":   B257\n",
       ":   M261\n",
       ":   M266\n",
       ":   M267\n",
       ":   B270\n",
       ":   B279\n",
       ":   B286\n",
       ":   B293\n",
       ":   B299\n",
       ":   B303\n",
       ":   M307\n",
       ":   B311\n",
       ":   B315\n",
       ":   B317\n",
       ":   B319\n",
       ":   B325\n",
       ":   B327\n",
       ":   B330\n",
       ":   M351\n",
       ":   B354\n",
       ":   M357\n",
       ":   B359\n",
       ":   B363\n",
       ":   B370\n",
       ":   M373\n",
       ":   M375\n",
       ":   B377\n",
       ":   B399\n",
       ":   B407\n",
       ":   B421\n",
       ":   B430\n",
       ":   B442\n",
       ":   M447\n",
       ":   M452\n",
       ":   M455\n",
       ":   B456\n",
       ":   B458\n",
       ":   B461\n",
       ":   M462\n",
       ":   M463\n",
       ":   B468\n",
       ":   B471\n",
       ":   B476\n",
       ":   B477\n",
       ":   B479\n",
       ":   B481\n",
       ":   B489\n",
       ":   B495\n",
       ":   B501\n",
       ":   B505\n",
       ":   B522\n",
       ":   M525\n",
       ":   B528\n",
       ":   B530\n",
       ":   B535\n",
       ":   B541\n",
       ":   B543\n",
       ":   B544\n",
       ":   B549\n",
       ":   B550\n",
       ":   B553\n",
       ":   B567\n",
       ":   M568\n",
       ":   M\n",
       "\n",
       "\n",
       "**Levels**: 1. 'B'\n",
       "2. 'M'\n",
       "\n",
       "\n"
      ],
      "text/plain": [
       "  9  14  16  21  25  31  32  35  43  44  56  58  62  64  67  69  71  82  85 100 \n",
       "  M   M   M   B   M   M   M   M   M   M   B   M   B   B   B   M   M   B   B   B \n",
       "105 106 109 124 125 128 132 139 149 155 158 167 169 175 177 178 192 198 206 208 \n",
       "  B   M   M   B   B   M   M   M   B   B   M   B   M   B   B   M   B   M   B   M \n",
       "213 219 222 224 227 238 245 246 257 261 266 267 270 279 286 293 299 303 307 311 \n",
       "  M   M   B   M   B   M   M   B   M   M   M   B   B   B   B   B   B   M   B   B \n",
       "315 317 319 325 327 330 351 354 357 359 363 370 373 375 377 399 407 421 430 442 \n",
       "  B   B   B   B   B   M   B   M   B   B   B   M   M   B   B   B   B   B   B   M \n",
       "447 452 455 456 458 461 462 463 468 471 476 477 479 481 489 495 501 505 522 525 \n",
       "  M   M   B   B   B   M   M   B   B   B   B   B   B   B   B   B   B   B   M   B \n",
       "528 530 535 541 543 544 549 550 553 567 568 \n",
       "  B   B   B   B   B   B   B   B   B   M   M \n",
       "Levels: B M"
      ]
     },
     "metadata": {},
     "output_type": "display_data"
    }
   ],
   "source": [
    "# Verificando meus dados\n",
    "pred_test"
   ]
  },
  {
   "cell_type": "code",
   "execution_count": 51,
   "id": "ad91f565",
   "metadata": {
    "execution": {
     "iopub.execute_input": "2023-08-24T12:33:20.284264Z",
     "iopub.status.busy": "2023-08-24T12:33:20.282258Z",
     "iopub.status.idle": "2023-08-24T12:33:20.305492Z",
     "shell.execute_reply": "2023-08-24T12:33:20.302862Z"
    },
    "papermill": {
     "duration": 0.057773,
     "end_time": "2023-08-24T12:33:20.309332",
     "exception": false,
     "start_time": "2023-08-24T12:33:20.251559",
     "status": "completed"
    },
    "tags": []
   },
   "outputs": [
    {
     "data": {
      "text/html": [
       "96.3963963963964"
      ],
      "text/latex": [
       "96.3963963963964"
      ],
      "text/markdown": [
       "96.3963963963964"
      ],
      "text/plain": [
       "[1] 96.3964"
      ]
     },
     "metadata": {},
     "output_type": "display_data"
    }
   ],
   "source": [
    "# Verifciando minha acuracia do modelo\n",
    "mean(pred_test == testset$diagnosis)* 100"
   ]
  },
  {
   "cell_type": "code",
   "execution_count": 52,
   "id": "5ba3a498",
   "metadata": {
    "execution": {
     "iopub.execute_input": "2023-08-24T12:33:20.370100Z",
     "iopub.status.busy": "2023-08-24T12:33:20.367784Z",
     "iopub.status.idle": "2023-08-24T12:33:20.394331Z",
     "shell.execute_reply": "2023-08-24T12:33:20.390916Z"
    },
    "papermill": {
     "duration": 0.06044,
     "end_time": "2023-08-24T12:33:20.398007",
     "exception": false,
     "start_time": "2023-08-24T12:33:20.337567",
     "status": "completed"
    },
    "tags": []
   },
   "outputs": [
    {
     "data": {
      "text/plain": [
       "         \n",
       "pred_test  B  M\n",
       "        B 66  2\n",
       "        M  2 41"
      ]
     },
     "metadata": {},
     "output_type": "display_data"
    }
   ],
   "source": [
    "# Verifciando minha tabela de confusão\n",
    "table(pred_test, testset$diagnosis)"
   ]
  },
  {
   "cell_type": "code",
   "execution_count": 53,
   "id": "7404df6b",
   "metadata": {
    "execution": {
     "iopub.execute_input": "2023-08-24T12:33:20.463343Z",
     "iopub.status.busy": "2023-08-24T12:33:20.460725Z",
     "iopub.status.idle": "2023-08-24T12:33:20.541638Z",
     "shell.execute_reply": "2023-08-24T12:33:20.539148Z"
    },
    "papermill": {
     "duration": 0.11625,
     "end_time": "2023-08-24T12:33:20.545233",
     "exception": false,
     "start_time": "2023-08-24T12:33:20.428983",
     "status": "completed"
    },
    "tags": []
   },
   "outputs": [],
   "source": [
    "# Testando nosso modelo de Random Forest\n",
    "\n",
    "# Carregando nossa biblioteca\n",
    "library(rpart)"
   ]
  },
  {
   "cell_type": "code",
   "execution_count": 54,
   "id": "b62f74c4",
   "metadata": {
    "execution": {
     "iopub.execute_input": "2023-08-24T12:33:20.604389Z",
     "iopub.status.busy": "2023-08-24T12:33:20.602469Z",
     "iopub.status.idle": "2023-08-24T12:33:20.725501Z",
     "shell.execute_reply": "2023-08-24T12:33:20.720379Z"
    },
    "papermill": {
     "duration": 0.158743,
     "end_time": "2023-08-24T12:33:20.732071",
     "exception": false,
     "start_time": "2023-08-24T12:33:20.573328",
     "status": "completed"
    },
    "tags": []
   },
   "outputs": [],
   "source": [
    "# Criando nosso moddelo \n",
    "modelo_rf_v1 = rpart(diagnosis ~., data = trainset, control = rpart.control(cp = .0005))"
   ]
  },
  {
   "cell_type": "code",
   "execution_count": 55,
   "id": "b7d9d308",
   "metadata": {
    "execution": {
     "iopub.execute_input": "2023-08-24T12:33:20.819210Z",
     "iopub.status.busy": "2023-08-24T12:33:20.813847Z",
     "iopub.status.idle": "2023-08-24T12:33:20.843567Z",
     "shell.execute_reply": "2023-08-24T12:33:20.841203Z"
    },
    "papermill": {
     "duration": 0.07414,
     "end_time": "2023-08-24T12:33:20.847510",
     "exception": false,
     "start_time": "2023-08-24T12:33:20.773370",
     "status": "completed"
    },
    "tags": []
   },
   "outputs": [],
   "source": [
    "# Fazendo minhas prevsões na base de teste\n",
    "tree_pred = predict(modelo_rf_v1, testset, type = 'class')"
   ]
  },
  {
   "cell_type": "code",
   "execution_count": 56,
   "id": "eca49506",
   "metadata": {
    "execution": {
     "iopub.execute_input": "2023-08-24T12:33:20.941897Z",
     "iopub.status.busy": "2023-08-24T12:33:20.938575Z",
     "iopub.status.idle": "2023-08-24T12:33:20.974585Z",
     "shell.execute_reply": "2023-08-24T12:33:20.969446Z"
    },
    "papermill": {
     "duration": 0.091154,
     "end_time": "2023-08-24T12:33:20.979672",
     "exception": false,
     "start_time": "2023-08-24T12:33:20.888518",
     "status": "completed"
    },
    "tags": []
   },
   "outputs": [
    {
     "data": {
      "text/html": [
       "92.7927927927928"
      ],
      "text/latex": [
       "92.7927927927928"
      ],
      "text/markdown": [
       "92.7927927927928"
      ],
      "text/plain": [
       "[1] 92.79279"
      ]
     },
     "metadata": {},
     "output_type": "display_data"
    }
   ],
   "source": [
    "# Verifciando minha acuracia do modelo\n",
    "mean(tree_pred == testset$diagnosis) * 100"
   ]
  },
  {
   "cell_type": "code",
   "execution_count": 57,
   "id": "80481e71",
   "metadata": {
    "execution": {
     "iopub.execute_input": "2023-08-24T12:33:21.039488Z",
     "iopub.status.busy": "2023-08-24T12:33:21.036453Z",
     "iopub.status.idle": "2023-08-24T12:33:21.063267Z",
     "shell.execute_reply": "2023-08-24T12:33:21.060741Z"
    },
    "papermill": {
     "duration": 0.059308,
     "end_time": "2023-08-24T12:33:21.066672",
     "exception": false,
     "start_time": "2023-08-24T12:33:21.007364",
     "status": "completed"
    },
    "tags": []
   },
   "outputs": [
    {
     "data": {
      "text/plain": [
       "         \n",
       "tree_pred  B  M\n",
       "        B 61  1\n",
       "        M  7 42"
      ]
     },
     "metadata": {},
     "output_type": "display_data"
    }
   ],
   "source": [
    "# Verificando minha tabela de cofusão\n",
    "table(tree_pred, testset$diagnosis)"
   ]
  }
 ],
 "metadata": {
  "kernelspec": {
   "display_name": "R",
   "language": "R",
   "name": "ir"
  },
  "language_info": {
   "codemirror_mode": "r",
   "file_extension": ".r",
   "mimetype": "text/x-r-source",
   "name": "R",
   "pygments_lexer": "r",
   "version": "4.0.5"
  },
  "papermill": {
   "default_parameters": {},
   "duration": 9.772824,
   "end_time": "2023-08-24T12:33:21.223379",
   "environment_variables": {},
   "exception": null,
   "input_path": "__notebook__.ipynb",
   "output_path": "__notebook__.ipynb",
   "parameters": {},
   "start_time": "2023-08-24T12:33:11.450555",
   "version": "2.4.0"
  }
 },
 "nbformat": 4,
 "nbformat_minor": 5
}
